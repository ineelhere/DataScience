{
  "nbformat": 4,
  "nbformat_minor": 0,
  "metadata": {
    "colab": {
      "name": "WorkingWithPandas.ipynb",
      "provenance": [],
      "authorship_tag": "ABX9TyNj7EGE15sw8N4pAf0bELi6"
    },
    "kernelspec": {
      "name": "python3",
      "display_name": "Python 3"
    }
  },
  "cells": [
    {
      "cell_type": "markdown",
      "metadata": {
        "id": "ICLUvBlvIEpj",
        "colab_type": "text"
      },
      "source": [
        "#Working with pandas"
      ]
    },
    {
      "cell_type": "markdown",
      "metadata": {
        "id": "LQDv-22JINOk",
        "colab_type": "text"
      },
      "source": [
        "**First things first, we need to import the pandas library**"
      ]
    },
    {
      "cell_type": "code",
      "metadata": {
        "id": "FO3PieuRH3-2",
        "colab_type": "code",
        "colab": {}
      },
      "source": [
        "import pandas as pd"
      ],
      "execution_count": 1,
      "outputs": []
    },
    {
      "cell_type": "markdown",
      "metadata": {
        "id": "NoMOJlElJCI-",
        "colab_type": "text"
      },
      "source": [
        "**[Pandas Documentation](https://pandas.pydata.org/docs/)**"
      ]
    },
    {
      "cell_type": "markdown",
      "metadata": {
        "id": "ir9O5QaaJg5n",
        "colab_type": "text"
      },
      "source": [
        "**Pandas Series**"
      ]
    },
    {
      "cell_type": "code",
      "metadata": {
        "id": "4Dd3dtnnI8Zl",
        "colab_type": "code",
        "colab": {
          "base_uri": "https://localhost:8080/",
          "height": 153
        },
        "outputId": "c81f5cd4-4d47-4dcf-a3fd-29050cbde6fd"
      },
      "source": [
        "a = pd.Series([1, 2, 3], index=['a', 'b', 'c'])\n",
        "print(f'The pandas series with index a,b,c is \\n{a}')\n",
        "print(f'\\nJust for the peace of mind, type of the variable storing the series is:\\n{type(a)}')"
      ],
      "execution_count": 7,
      "outputs": [
        {
          "output_type": "stream",
          "text": [
            "The pandas series with index a,b,c is \n",
            "a    1\n",
            "b    2\n",
            "c    3\n",
            "dtype: int64\n",
            "\n",
            "Just for the peace of mind, type of the variable storing the series is:\n",
            "<class 'pandas.core.series.Series'>\n"
          ],
          "name": "stdout"
        }
      ]
    },
    {
      "cell_type": "markdown",
      "metadata": {
        "id": "7_dt7f8NJBu5",
        "colab_type": "text"
      },
      "source": [
        ""
      ]
    }
  ]
}