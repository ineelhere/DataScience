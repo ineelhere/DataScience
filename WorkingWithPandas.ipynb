{
  "nbformat": 4,
  "nbformat_minor": 0,
  "metadata": {
    "colab": {
      "name": "WorkingWithPandas.ipynb",
      "provenance": [],
      "collapsed_sections": [],
      "authorship_tag": "ABX9TyOmEuQGPV9RVqmv+CqvSH02"
    },
    "kernelspec": {
      "name": "python3",
      "display_name": "Python 3"
    }
  },
  "cells": [
    {
      "cell_type": "markdown",
      "metadata": {
        "id": "ICLUvBlvIEpj",
        "colab_type": "text"
      },
      "source": [
        "#Working with pandas"
      ]
    },
    {
      "cell_type": "markdown",
      "metadata": {
        "id": "LQDv-22JINOk",
        "colab_type": "text"
      },
      "source": [
        "**First things first, we need to import the pandas library**"
      ]
    },
    {
      "cell_type": "code",
      "metadata": {
        "id": "FO3PieuRH3-2",
        "colab_type": "code",
        "colab": {}
      },
      "source": [
        "import pandas as pd"
      ],
      "execution_count": 1,
      "outputs": []
    },
    {
      "cell_type": "markdown",
      "metadata": {
        "id": "NoMOJlElJCI-",
        "colab_type": "text"
      },
      "source": [
        "**[Pandas Documentation](https://pandas.pydata.org/docs/)**"
      ]
    },
    {
      "cell_type": "markdown",
      "metadata": {
        "id": "ir9O5QaaJg5n",
        "colab_type": "text"
      },
      "source": [
        "**Pandas Series**"
      ]
    },
    {
      "cell_type": "code",
      "metadata": {
        "id": "4Dd3dtnnI8Zl",
        "colab_type": "code",
        "colab": {
          "base_uri": "https://localhost:8080/",
          "height": 153
        },
        "outputId": "6db320c9-713c-4362-e306-cf31de42d79e"
      },
      "source": [
        "# creating a series from an array\n",
        "a = pd.Series([1, 2, 3], index=['a', 'b', 'c'])\n",
        "print(f'The pandas series with index a,b,c is \\n{a}')\n",
        "print(f'\\nJust for the peace of mind, type of the variable storing the series is:\\n{type(a)}')"
      ],
      "execution_count": null,
      "outputs": [
        {
          "output_type": "stream",
          "text": [
            "The pandas series with index a,b,c is \n",
            "a    1\n",
            "b    2\n",
            "c    3\n",
            "dtype: int64\n",
            "\n",
            "Just for the peace of mind, type of the variable storing the series is:\n",
            "<class 'pandas.core.series.Series'>\n"
          ],
          "name": "stdout"
        }
      ]
    },
    {
      "cell_type": "code",
      "metadata": {
        "id": "LlAkZwOJch5r",
        "colab_type": "code",
        "colab": {
          "base_uri": "https://localhost:8080/",
          "height": 153
        },
        "outputId": "f200468a-a92d-433c-d113-e19e7d4e30df"
      },
      "source": [
        "# creating a series from a dictionary\n",
        "a = pd.Series({'a': 1, 'b': 2, 'c':3})\n",
        "print(f'The pandas series with index a,b,c is \\n{a}')\n",
        "print(f'\\nJust for the peace of mind, type of the variable storing the series is:\\n{type(a)}')"
      ],
      "execution_count": null,
      "outputs": [
        {
          "output_type": "stream",
          "text": [
            "The pandas series with index a,b,c is \n",
            "a    1\n",
            "b    2\n",
            "c    3\n",
            "dtype: int64\n",
            "\n",
            "Just for the peace of mind, type of the variable storing the series is:\n",
            "<class 'pandas.core.series.Series'>\n"
          ],
          "name": "stdout"
        }
      ]
    },
    {
      "cell_type": "code",
      "metadata": {
        "id": "00OaER4-d97j",
        "colab_type": "code",
        "colab": {
          "base_uri": "https://localhost:8080/",
          "height": 68
        },
        "outputId": "cc0649b0-989e-47ce-8a17-f6178a0a8f36"
      },
      "source": [
        "# accessing the values in a series via index\n",
        "print(f'Value of 1st index = {a[\"a\"]}')\n",
        "print(f'Value of 2nd index = {a[\"b\"]}')\n",
        "print(f'Value of 3rd index = {a[\"c\"]}')"
      ],
      "execution_count": null,
      "outputs": [
        {
          "output_type": "stream",
          "text": [
            "Value of 1st index = 1\n",
            "Value of 2nd index = 2\n",
            "Value of 3rd index = 3\n"
          ],
          "name": "stdout"
        }
      ]
    },
    {
      "cell_type": "markdown",
      "metadata": {
        "id": "ddPQdH9DX9LH",
        "colab_type": "text"
      },
      "source": [
        "**Pandas Dataframe**"
      ]
    },
    {
      "cell_type": "code",
      "metadata": {
        "id": "ZZgQ2Hl-YcSO",
        "colab_type": "code",
        "colab": {
          "base_uri": "https://localhost:8080/",
          "height": 102
        },
        "outputId": "948b08eb-e87a-46b7-cc4b-df4471d3edb4"
      },
      "source": [
        "# creating a dataframe\n",
        "dictionary = {\n",
        "    'column1': [1,2,3],\n",
        "    'column2':[4,5,6],\n",
        "    'column3':[7,8,9]\n",
        "}\n",
        "our_df = pd.DataFrame(dictionary, index=[\"index1\", \"index2\", \"index3\"])\n",
        "print(f'The data frame we created :\\n{our_df}')"
      ],
      "execution_count": 4,
      "outputs": [
        {
          "output_type": "stream",
          "text": [
            "The data frame we created :\n",
            "        column1  column2  column3\n",
            "index1        1        4        7\n",
            "index2        2        5        8\n",
            "index3        3        6        9\n"
          ],
          "name": "stdout"
        }
      ]
    },
    {
      "cell_type": "code",
      "metadata": {
        "id": "opz7fpRYZWi0",
        "colab_type": "code",
        "colab": {
          "base_uri": "https://localhost:8080/",
          "height": 306
        },
        "outputId": "525ab1bf-1dea-4c11-8c93-b4918eb49626"
      },
      "source": [
        "#playing with the above dataframe\n",
        "print(f'The first column: \\n{our_df.column1}')\n",
        "print(f'\\nThe second column: \\n{our_df.column2}')\n",
        "print(f'\\nThe third column: \\n{our_df.column3}')"
      ],
      "execution_count": 7,
      "outputs": [
        {
          "output_type": "stream",
          "text": [
            "The first column: \n",
            "index1    1\n",
            "index2    2\n",
            "index3    3\n",
            "Name: column1, dtype: int64\n",
            "\n",
            "The second column: \n",
            "index1    4\n",
            "index2    5\n",
            "index3    6\n",
            "Name: column2, dtype: int64\n",
            "\n",
            "The third column: \n",
            "index1    7\n",
            "index2    8\n",
            "index3    9\n",
            "Name: column3, dtype: int64\n"
          ],
          "name": "stdout"
        }
      ]
    }
  ]
}