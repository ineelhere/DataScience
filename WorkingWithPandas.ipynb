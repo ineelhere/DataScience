{
  "nbformat": 4,
  "nbformat_minor": 0,
  "metadata": {
    "colab": {
      "name": "WorkingWithPandas.ipynb",
      "provenance": [],
      "authorship_tag": "ABX9TyN/9waW93VaCxjdg6T5S4IX"
    },
    "kernelspec": {
      "name": "python3",
      "display_name": "Python 3"
    }
  },
  "cells": [
    {
      "cell_type": "markdown",
      "metadata": {
        "id": "ICLUvBlvIEpj",
        "colab_type": "text"
      },
      "source": [
        "#Working with pandas"
      ]
    },
    {
      "cell_type": "markdown",
      "metadata": {
        "id": "LQDv-22JINOk",
        "colab_type": "text"
      },
      "source": [
        "**First things first, we need to import the pandas library**"
      ]
    },
    {
      "cell_type": "code",
      "metadata": {
        "id": "FO3PieuRH3-2",
        "colab_type": "code",
        "colab": {}
      },
      "source": [
        "import pandas as pd"
      ],
      "execution_count": 1,
      "outputs": []
    }
  ]
}