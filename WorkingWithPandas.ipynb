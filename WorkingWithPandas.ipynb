{
  "nbformat": 4,
  "nbformat_minor": 0,
  "metadata": {
    "colab": {
      "name": "WorkingWithPandas.ipynb",
      "provenance": [],
      "collapsed_sections": [],
      "authorship_tag": "ABX9TyMyFQmtEnNMYPzHCC/FFEOg"
    },
    "kernelspec": {
      "name": "python3",
      "display_name": "Python 3"
    }
  },
  "cells": [
    {
      "cell_type": "markdown",
      "metadata": {
        "id": "ICLUvBlvIEpj",
        "colab_type": "text"
      },
      "source": [
        "#Working with pandas"
      ]
    },
    {
      "cell_type": "markdown",
      "metadata": {
        "id": "LQDv-22JINOk",
        "colab_type": "text"
      },
      "source": [
        "**First things first, we need to import the pandas library**"
      ]
    },
    {
      "cell_type": "code",
      "metadata": {
        "id": "FO3PieuRH3-2",
        "colab_type": "code",
        "colab": {}
      },
      "source": [
        "import pandas as pd"
      ],
      "execution_count": 1,
      "outputs": []
    },
    {
      "cell_type": "markdown",
      "metadata": {
        "id": "NoMOJlElJCI-",
        "colab_type": "text"
      },
      "source": [
        "**[Pandas Documentation](https://pandas.pydata.org/docs/)**"
      ]
    },
    {
      "cell_type": "markdown",
      "metadata": {
        "id": "ir9O5QaaJg5n",
        "colab_type": "text"
      },
      "source": [
        "**Pandas Series**"
      ]
    },
    {
      "cell_type": "code",
      "metadata": {
        "id": "4Dd3dtnnI8Zl",
        "colab_type": "code",
        "colab": {
          "base_uri": "https://localhost:8080/",
          "height": 153
        },
        "outputId": "6db320c9-713c-4362-e306-cf31de42d79e"
      },
      "source": [
        "# creating a series from an array\n",
        "a = pd.Series([1, 2, 3], index=['a', 'b', 'c'])\n",
        "print(f'The pandas series with index a,b,c is \\n{a}')\n",
        "print(f'\\nJust for the peace of mind, type of the variable storing the series is:\\n{type(a)}')"
      ],
      "execution_count": 9,
      "outputs": [
        {
          "output_type": "stream",
          "text": [
            "The pandas series with index a,b,c is \n",
            "a    1\n",
            "b    2\n",
            "c    3\n",
            "dtype: int64\n",
            "\n",
            "Just for the peace of mind, type of the variable storing the series is:\n",
            "<class 'pandas.core.series.Series'>\n"
          ],
          "name": "stdout"
        }
      ]
    },
    {
      "cell_type": "code",
      "metadata": {
        "id": "LlAkZwOJch5r",
        "colab_type": "code",
        "colab": {
          "base_uri": "https://localhost:8080/",
          "height": 153
        },
        "outputId": "f200468a-a92d-433c-d113-e19e7d4e30df"
      },
      "source": [
        "# creating a series from a dictionary\n",
        "a = pd.Series({'a': 1, 'b': 2, 'c':3})\n",
        "print(f'The pandas series with index a,b,c is \\n{a}')\n",
        "print(f'\\nJust for the peace of mind, type of the variable storing the series is:\\n{type(a)}')"
      ],
      "execution_count": 10,
      "outputs": [
        {
          "output_type": "stream",
          "text": [
            "The pandas series with index a,b,c is \n",
            "a    1\n",
            "b    2\n",
            "c    3\n",
            "dtype: int64\n",
            "\n",
            "Just for the peace of mind, type of the variable storing the series is:\n",
            "<class 'pandas.core.series.Series'>\n"
          ],
          "name": "stdout"
        }
      ]
    },
    {
      "cell_type": "code",
      "metadata": {
        "id": "00OaER4-d97j",
        "colab_type": "code",
        "colab": {
          "base_uri": "https://localhost:8080/",
          "height": 68
        },
        "outputId": "cc0649b0-989e-47ce-8a17-f6178a0a8f36"
      },
      "source": [
        "# accessing the values in a series via index\n",
        "print(f'Value of 1st index = {a[\"a\"]}')\n",
        "print(f'Value of 2nd index = {a[\"b\"]}')\n",
        "print(f'Value of 3rd index = {a[\"c\"]}')"
      ],
      "execution_count": 18,
      "outputs": [
        {
          "output_type": "stream",
          "text": [
            "Value of 1st index = 1\n",
            "Value of 2nd index = 2\n",
            "Value of 3rd index = 3\n"
          ],
          "name": "stdout"
        }
      ]
    }
  ]
}