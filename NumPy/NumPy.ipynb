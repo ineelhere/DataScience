{
 "cells": [
  {
   "cell_type": "markdown",
   "metadata": {},
   "source": [
    "## Working with Numpy \n",
    "Documentation : https://numpy.org/doc/ (Trust me, it saves you a lot of effort)<br>\n",
    "<p>NumPy is the fundamental package needed for scientific computing with Python. This package contains:</p>\n",
    "<ul class=\"simple\">\n",
    "<li>\n",
    "<p>a powerful N-dimensional&nbsp;<a class=\"reference internal\" href=\"https://numpy.org/doc/stable/reference/arrays.html#arrays\"><span class=\"std std-ref\">array object</span></a></p>\n",
    "</li>\n",
    "<li>\n",
    "<p>sophisticated&nbsp;<a class=\"reference internal\" href=\"https://numpy.org/doc/stable/reference/ufuncs.html#ufuncs\"><span class=\"std std-ref\">(broadcasting) functions</span></a></p>\n",
    "</li>\n",
    "<li>\n",
    "<p>basic&nbsp;<a class=\"reference internal\" href=\"https://numpy.org/doc/stable/reference/routines.linalg.html#routines-linalg\"><span class=\"std std-ref\">linear algebra functions</span></a></p>\n",
    "</li>\n",
    "<li>\n",
    "<p>basic&nbsp;<a class=\"reference internal\" href=\"https://numpy.org/doc/stable/reference/routines.fft.html#routines-fft\"><span class=\"std std-ref\">Fourier transforms</span></a></p>\n",
    "</li>\n",
    "<li>\n",
    "<p>sophisticated&nbsp;<a class=\"reference internal\" href=\"https://numpy.org/doc/stable/reference/random/index.html#numpyrandom\"><span class=\"std std-ref\">random number capabilities</span></a></p>\n",
    "</li>\n",
    "<li>\n",
    "<p>tools for integrating Fortran code</p>\n",
    "</li>\n",
    "<li>\n",
    "<p>tools for integrating C/C++ code</p>\n",
    "</li>\n",
    "</ul>\n",
    "<p>Besides its obvious scientific uses,&nbsp;<em>NumPy</em>&nbsp;can also be used as an efficient multi-dimensional container of generic data. Arbitrary data types can be defined. This allows&nbsp;<em>NumPy</em>&nbsp;to seamlessly and speedily integrate with a wide variety of databases.</p>\n",
    "<p>NumPy is a successor for two earlier scientific Python libraries: Numeric and Numarray.</p>"
   ]
  },
  {
   "cell_type": "code",
   "execution_count": 1,
   "metadata": {},
   "outputs": [],
   "source": [
    "#import numpy library first\n",
    "import numpy as np"
   ]
  },
  {
   "cell_type": "markdown",
   "metadata": {},
   "source": [
    "![](https://pics.me.me/1-import-numpy-1-import-numpy-as-np-there-is-31232276.png)"
   ]
  },
  {
   "cell_type": "markdown",
   "metadata": {},
   "source": [
    "## DataTypes and Attributes"
   ]
  },
  {
   "cell_type": "markdown",
   "metadata": {},
   "source": [
    "**The predominant datatype in numpy is \"numpy array\"**"
   ]
  },
  {
   "cell_type": "code",
   "execution_count": 2,
   "metadata": {},
   "outputs": [
    {
     "data": {
      "text/plain": [
       "array([4, 5, 6])"
      ]
     },
     "execution_count": 2,
     "metadata": {},
     "output_type": "execute_result"
    }
   ],
   "source": [
    "ar = np.array([4,5,6])\n",
    "ar"
   ]
  },
  {
   "cell_type": "code",
   "execution_count": 3,
   "metadata": {},
   "outputs": [
    {
     "data": {
      "text/plain": [
       "dtype('int32')"
      ]
     },
     "execution_count": 3,
     "metadata": {},
     "output_type": "execute_result"
    }
   ],
   "source": [
    "ar.dtype #it is in integer"
   ]
  },
  {
   "cell_type": "code",
   "execution_count": 4,
   "metadata": {},
   "outputs": [
    {
     "data": {
      "text/plain": [
       "array([[3, 2, 1],\n",
       "       [6, 5, 4]])"
      ]
     },
     "execution_count": 4,
     "metadata": {},
     "output_type": "execute_result"
    }
   ],
   "source": [
    "ar2 = np.array([[3,2,1],[6,5,4]])\n",
    "ar2"
   ]
  },
  {
   "cell_type": "code",
   "execution_count": 5,
   "metadata": {},
   "outputs": [
    {
     "data": {
      "text/plain": [
       "array([[[3. , 2. , 1. ],\n",
       "        [6. , 5. , 4. ],\n",
       "        [9.3, 8.2, 7.1]],\n",
       "\n",
       "       [[3. , 2. , 1. ],\n",
       "        [6. , 5. , 4. ],\n",
       "        [9. , 5. , 1. ]]])"
      ]
     },
     "execution_count": 5,
     "metadata": {},
     "output_type": "execute_result"
    }
   ],
   "source": [
    "ar3 = np.array([[[3,2,1],[6,5,4],[9.3,8.2,7.1]],\n",
    "              [[3,2,1],[6,5,4],[9,5,1]]])\n",
    "ar3"
   ]
  },
  {
   "cell_type": "code",
   "execution_count": 6,
   "metadata": {},
   "outputs": [
    {
     "data": {
      "text/plain": [
       "dtype('float64')"
      ]
     },
     "execution_count": 6,
     "metadata": {},
     "output_type": "execute_result"
    }
   ],
   "source": [
    "ar3.dtype #it is in float"
   ]
  },
  {
   "cell_type": "markdown",
   "metadata": {},
   "source": [
    "Now here is the explanation for what just happened!\n",
    "![](https://udemy-images.s3.amazonaws.com/redactor/raw/2020-01-28_03-56-32-433698fdb6cb595d61a490062cd00619.png)\n",
    "\n",
    "Just in case if it helps,<br>\n",
    "Formula for shape of an array = R X C [R=row, C=column] <br>\n",
    "Axes for multidimensional arrays :<br>\n",
    "Axis 0 = Rows<br>\n",
    "Axis 1 = Columns<br>\n",
    "Axis n = Beyond rows and columns (You may think of it as the z axis)\n"
   ]
  },
  {
   "cell_type": "code",
   "execution_count": 7,
   "metadata": {},
   "outputs": [
    {
     "data": {
      "text/plain": [
       "(1, 2, 3)"
      ]
     },
     "execution_count": 7,
     "metadata": {},
     "output_type": "execute_result"
    }
   ],
   "source": [
    "#dimensions\n",
    "ar.ndim, ar2.ndim, ar3.ndim"
   ]
  },
  {
   "cell_type": "code",
   "execution_count": 8,
   "metadata": {},
   "outputs": [
    {
     "data": {
      "text/plain": [
       "(3, 6, 18)"
      ]
     },
     "execution_count": 8,
     "metadata": {},
     "output_type": "execute_result"
    }
   ],
   "source": [
    "#size or number of elements in each array\n",
    "ar.size, ar2.size, ar3.size"
   ]
  },
  {
   "cell_type": "code",
   "execution_count": 9,
   "metadata": {},
   "outputs": [
    {
     "data": {
      "text/plain": [
       "(numpy.ndarray, numpy.ndarray, numpy.ndarray)"
      ]
     },
     "execution_count": 9,
     "metadata": {},
     "output_type": "execute_result"
    }
   ],
   "source": [
    "#types of data \n",
    "type(ar), type(ar2), type(ar3)"
   ]
  },
  {
   "cell_type": "markdown",
   "metadata": {},
   "source": [
    "**Numpy array to Pandas dataframe**\n"
   ]
  },
  {
   "cell_type": "code",
   "execution_count": 10,
   "metadata": {},
   "outputs": [
    {
     "data": {
      "text/html": [
       "<div>\n",
       "<style scoped>\n",
       "    .dataframe tbody tr th:only-of-type {\n",
       "        vertical-align: middle;\n",
       "    }\n",
       "\n",
       "    .dataframe tbody tr th {\n",
       "        vertical-align: top;\n",
       "    }\n",
       "\n",
       "    .dataframe thead th {\n",
       "        text-align: right;\n",
       "    }\n",
       "</style>\n",
       "<table border=\"1\" class=\"dataframe\">\n",
       "  <thead>\n",
       "    <tr style=\"text-align: right;\">\n",
       "      <th></th>\n",
       "      <th>0</th>\n",
       "    </tr>\n",
       "  </thead>\n",
       "  <tbody>\n",
       "    <tr>\n",
       "      <th>0</th>\n",
       "      <td>4</td>\n",
       "    </tr>\n",
       "    <tr>\n",
       "      <th>1</th>\n",
       "      <td>5</td>\n",
       "    </tr>\n",
       "    <tr>\n",
       "      <th>2</th>\n",
       "      <td>6</td>\n",
       "    </tr>\n",
       "  </tbody>\n",
       "</table>\n",
       "</div>"
      ],
      "text/plain": [
       "   0\n",
       "0  4\n",
       "1  5\n",
       "2  6"
      ]
     },
     "execution_count": 10,
     "metadata": {},
     "output_type": "execute_result"
    }
   ],
   "source": [
    "import pandas as pd\n",
    "pd.DataFrame(ar)"
   ]
  },
  {
   "cell_type": "code",
   "execution_count": 11,
   "metadata": {},
   "outputs": [
    {
     "data": {
      "text/html": [
       "<div>\n",
       "<style scoped>\n",
       "    .dataframe tbody tr th:only-of-type {\n",
       "        vertical-align: middle;\n",
       "    }\n",
       "\n",
       "    .dataframe tbody tr th {\n",
       "        vertical-align: top;\n",
       "    }\n",
       "\n",
       "    .dataframe thead th {\n",
       "        text-align: right;\n",
       "    }\n",
       "</style>\n",
       "<table border=\"1\" class=\"dataframe\">\n",
       "  <thead>\n",
       "    <tr style=\"text-align: right;\">\n",
       "      <th></th>\n",
       "      <th>0</th>\n",
       "      <th>1</th>\n",
       "      <th>2</th>\n",
       "    </tr>\n",
       "  </thead>\n",
       "  <tbody>\n",
       "    <tr>\n",
       "      <th>0</th>\n",
       "      <td>3</td>\n",
       "      <td>2</td>\n",
       "      <td>1</td>\n",
       "    </tr>\n",
       "    <tr>\n",
       "      <th>1</th>\n",
       "      <td>6</td>\n",
       "      <td>5</td>\n",
       "      <td>4</td>\n",
       "    </tr>\n",
       "  </tbody>\n",
       "</table>\n",
       "</div>"
      ],
      "text/plain": [
       "   0  1  2\n",
       "0  3  2  1\n",
       "1  6  5  4"
      ]
     },
     "execution_count": 11,
     "metadata": {},
     "output_type": "execute_result"
    }
   ],
   "source": [
    "pd.DataFrame(ar2)"
   ]
  },
  {
   "cell_type": "markdown",
   "metadata": {},
   "source": [
    "**pd.DataFrame(ar3)** -------- this gives an error<br>\n",
    "ValueError: Must pass 2-d input, <br>ie, A 3D array cannot be described in form of a dataframe"
   ]
  },
  {
   "cell_type": "markdown",
   "metadata": {},
   "source": [
    "![](https://www.thecoderpedia.com/wp-content/uploads/2020/06/Programming-Memes.jpg?x78009)"
   ]
  },
  {
   "cell_type": "markdown",
   "metadata": {},
   "source": [
    "## Creating numpy arrays"
   ]
  },
  {
   "cell_type": "code",
   "execution_count": 12,
   "metadata": {},
   "outputs": [
    {
     "data": {
      "text/plain": [
       "array([[1., 1., 1.],\n",
       "       [1., 1., 1.]])"
      ]
     },
     "execution_count": 12,
     "metadata": {},
     "output_type": "execute_result"
    }
   ],
   "source": [
    "ones = np.ones((2,3))\n",
    "ones"
   ]
  },
  {
   "cell_type": "markdown",
   "metadata": {},
   "source": [
    "<p><code class=\"sig-prename descclassname\">numpy.</code><code class=\"sig-name descname\"><span class=\"highlighted\">ones</span></code><span class=\"sig-paren\">(</span><em class=\"sig-param\">shape</em>,&nbsp;<em class=\"sig-param\">dtype=None</em>,&nbsp;<em class=\"sig-param\">order='C'</em><span class=\"sig-paren\">)</span></p>\n",
    "<p>Return a new array of given shape and type, filled with&nbsp;<span class=\"highlighted\">ones</span>.</p>\n",
    "<p>&nbsp;</p>"
   ]
  },
  {
   "cell_type": "code",
   "execution_count": 13,
   "metadata": {},
   "outputs": [
    {
     "data": {
      "text/plain": [
       "dtype('float64')"
      ]
     },
     "execution_count": 13,
     "metadata": {},
     "output_type": "execute_result"
    }
   ],
   "source": [
    "ones.dtype"
   ]
  },
  {
   "cell_type": "code",
   "execution_count": 14,
   "metadata": {},
   "outputs": [
    {
     "data": {
      "text/plain": [
       "array([[0., 0., 0.],\n",
       "       [0., 0., 0.]])"
      ]
     },
     "execution_count": 14,
     "metadata": {},
     "output_type": "execute_result"
    }
   ],
   "source": [
    "zeros = np.zeros((2,3))\n",
    "zeros"
   ]
  },
  {
   "cell_type": "markdown",
   "metadata": {},
   "source": [
    "<p>numpy.zeros(shape, dtype=float, order='C')<br> Return a new array of given shape and type, filled with zeros.</p>"
   ]
  },
  {
   "cell_type": "code",
   "execution_count": 15,
   "metadata": {},
   "outputs": [
    {
     "data": {
      "text/plain": [
       "dtype('float64')"
      ]
     },
     "execution_count": 15,
     "metadata": {},
     "output_type": "execute_result"
    }
   ],
   "source": [
    "zeros.dtype"
   ]
  },
  {
   "cell_type": "code",
   "execution_count": 16,
   "metadata": {},
   "outputs": [
    {
     "data": {
      "text/plain": [
       "array([1, 3, 5, 7, 9])"
      ]
     },
     "execution_count": 16,
     "metadata": {},
     "output_type": "execute_result"
    }
   ],
   "source": [
    "#arange\n",
    "np.arange(1, 10, 2)"
   ]
  },
  {
   "cell_type": "markdown",
   "metadata": {},
   "source": [
    "<p><code class=\"sig-prename descclassname\">numpy.</code><code class=\"sig-name descname\">a<span class=\"highlighted\">range</span></code><span class=\"sig-paren\">(</span><span class=\"optional\">[</span><em class=\"sig-param\">start</em>,&nbsp;<span class=\"optional\">]</span><em class=\"sig-param\">stop</em>,&nbsp;<span class=\"optional\">[</span><em class=\"sig-param\">step</em>,&nbsp;<span class=\"optional\">]</span><em class=\"sig-param\">dtype=None</em><span class=\"sig-paren\">)</span></p>\n",
    "<p>Return evenly spaced values within a given interval.</p>\n",
    "<p>Values are generated within the half-open interval&nbsp;<code class=\"docutils literal notranslate\"><span class=\"pre\">[start,</span>&nbsp;<span class=\"pre\">stop)</span></code>&nbsp;(in other words, the interval including&nbsp;<em class=\"xref py py-obj\">start</em>&nbsp;but excluding&nbsp;<em class=\"xref py py-obj\">stop</em>). For integer arguments the function is equivalent to the Python built-in&nbsp;<em class=\"xref py py-obj\"><span class=\"highlighted\">range</span></em>&nbsp;function, but returns an ndarray rather than a list.</p>\n",
    "<p>When using a non-integer step, such as 0.1, the results will often not be consistent. It is better to use&nbsp;<a class=\"reference internal\" title=\"numpy.linspace\" href=\"https://numpy.org/doc/stable/reference/generated/numpy.linspace.html#numpy.linspace\"><code class=\"xref py py-obj docutils literal notranslate\"><span class=\"pre\">numpy.linspace</span></code></a>&nbsp;for these cases.</p>\n",
    "<p>&nbsp;</p>"
   ]
  },
  {
   "cell_type": "code",
   "execution_count": 17,
   "metadata": {},
   "outputs": [
    {
     "data": {
      "text/plain": [
       "array([[88, 95, 32,  1, 29, 81,  4, 63, 88, 17],\n",
       "       [14, 36,  5, 75,  7, 37, 40, 45, 98,  8],\n",
       "       [36,  3, 94, 58, 12, 54, 67, 29, 75, 22],\n",
       "       [54, 38, 75, 69, 13, 80,  4, 55, 78, 44],\n",
       "       [63, 67, 83, 84, 10,  4,  3, 84, 89, 63],\n",
       "       [77, 29, 52, 71,  2, 74, 44, 85, 50, 71],\n",
       "       [12,  2, 93, 29, 55, 98, 39, 28, 21,  4],\n",
       "       [71, 87, 80, 21, 94, 27, 81, 15, 70, 48],\n",
       "       [30, 91, 51, 15, 49, 46, 23, 23, 60, 39],\n",
       "       [68, 59, 38, 82, 99, 39, 82, 69, 97, 16]])"
      ]
     },
     "execution_count": 17,
     "metadata": {},
     "output_type": "execute_result"
    }
   ],
   "source": [
    "#creating random arrays with - random.randint\n",
    "np.random.randint(1,100,size=(10,10))\n",
    "#all numbers will show up in the array but in random oder"
   ]
  },
  {
   "cell_type": "markdown",
   "metadata": {},
   "source": [
    "<h6>numpy.<span class=\"highlighted\">random</span>.<span class=\"highlighted\">randint</span></h6>\n",
    "<dl class=\"function\">\n",
    "<dt id=\"numpy.random.randint\"><code class=\"sig-prename descclassname\">numpy.<span class=\"highlighted\">random</span>.</code><code class=\"sig-name descname\"><span class=\"highlighted\">randint</span></code><span class=\"sig-paren\">(</span><em class=\"sig-param\">low</em>,&nbsp;<em class=\"sig-param\">high=None</em>,&nbsp;<em class=\"sig-param\">size=None</em>,&nbsp;<em class=\"sig-param\">dtype=int</em><span class=\"sig-paren\">)</span></dt>\n",
    "<dd>\n",
    "<p>Return&nbsp;<span class=\"highlighted\">random</span>&nbsp;integers from&nbsp;<em class=\"xref py py-obj\">low</em>&nbsp;(inclusive) to&nbsp;<em class=\"xref py py-obj\">high</em>&nbsp;(exclusive).</p>\n",
    "<p>Return&nbsp;<span class=\"highlighted\">random</span>&nbsp;integers from the &ldquo;discrete uniform&rdquo; distribution of the specified dtype in the &ldquo;half-open&rdquo; interval [<em class=\"xref py py-obj\">low</em>,&nbsp;<em class=\"xref py py-obj\">high</em>). If&nbsp;<em class=\"xref py py-obj\">high</em>&nbsp;is None (the default), then results are from [0,&nbsp;<em class=\"xref py py-obj\">low</em>).</p>\n",
    "<div class=\"admonition note\">\n",
    "<p class=\"admonition-title\">Note</p>\n",
    "<p>New code should use the&nbsp;<code class=\"docutils literal notranslate\"><span class=\"pre\">integers</span></code>&nbsp;method of a&nbsp;<code class=\"docutils literal notranslate\"><span class=\"pre\">default_rng()</span></code>&nbsp;instance instead; see&nbsp;<em class=\"xref py py-obj\"><span class=\"highlighted\">random</span>-quick-start</em>.</p>\n",
    "</div>\n",
    "</dd>\n",
    "</dl>"
   ]
  },
  {
   "cell_type": "code",
   "execution_count": 18,
   "metadata": {},
   "outputs": [
    {
     "data": {
      "text/plain": [
       "array([[0.18745064, 0.84536979, 0.24812191, 0.64591071, 0.27794165,\n",
       "        0.40850771, 0.38359328, 0.87287381, 0.67829047, 0.82598528,\n",
       "        0.59648965, 0.99683861, 0.05140911, 0.01262209, 0.7102368 ,\n",
       "        0.02656911, 0.52620486, 0.46986666, 0.42582429, 0.1360686 ,\n",
       "        0.95708653, 0.54795478, 0.29664206, 0.8787007 , 0.16490465,\n",
       "        0.07152172, 0.66074912, 0.25528657, 0.62435169, 0.06812731,\n",
       "        0.0609757 , 0.19815349, 0.71589455, 0.7137231 , 0.18016312,\n",
       "        0.37013126, 0.99378372, 0.15353715, 0.61455641, 0.18896903,\n",
       "        0.76008736, 0.48318616, 0.16471749, 0.64212004, 0.30278513,\n",
       "        0.44522197, 0.42909182, 0.60122743, 0.76077281, 0.9696173 ,\n",
       "        0.85592423, 0.88149242, 0.20694246, 0.86777572, 0.01638645,\n",
       "        0.57169317, 0.4670084 , 0.82346917, 0.80170852, 0.9770457 ,\n",
       "        0.57285162, 0.47044922, 0.27452576, 0.83068365, 0.00451389,\n",
       "        0.3801474 , 0.20819296, 0.71633706, 0.94953491, 0.30972555,\n",
       "        0.75071221, 0.19620101, 0.68444046, 0.46644104, 0.45352706,\n",
       "        0.61831202, 0.93880044, 0.84157555, 0.87236362, 0.67745242,\n",
       "        0.19783847, 0.97792894, 0.07346829, 0.74702354, 0.53120344,\n",
       "        0.5927172 , 0.16266876, 0.59919369, 0.35571787, 0.60765636,\n",
       "        0.95331851, 0.25551994, 0.47006985, 0.15849968, 0.51278034,\n",
       "        0.6726601 , 0.26532598, 0.69449037, 0.41898525, 0.3913634 ]])"
      ]
     },
     "execution_count": 18,
     "metadata": {},
     "output_type": "execute_result"
    }
   ],
   "source": [
    "#another example\n",
    "np.random.rand(1,100)"
   ]
  },
  {
   "cell_type": "code",
   "execution_count": 19,
   "metadata": {},
   "outputs": [
    {
     "data": {
      "text/plain": [
       "array([[5, 0, 3],\n",
       "       [3, 7, 9],\n",
       "       [3, 5, 2],\n",
       "       [4, 7, 6],\n",
       "       [8, 8, 1]])"
      ]
     },
     "execution_count": 19,
     "metadata": {},
     "output_type": "execute_result"
    }
   ],
   "source": [
    "#numpy seed = gives pseudo random numbers\n",
    "np.random.seed(seed=0)\n",
    "rar = np.random.randint(10,size=(5,3))\n",
    "rar"
   ]
  },
  {
   "cell_type": "markdown",
   "metadata": {},
   "source": [
    "<p><code class=\"sig-prename descclassname\">numpy.random.</code><code class=\"sig-name descname\"><span class=\"highlighted\">seed</span></code><span class=\"sig-paren\">(</span><em class=\"sig-param\">self</em>,&nbsp;<em class=\"sig-param\"><span class=\"highlighted\">seed</span>=None</em><span class=\"sig-paren\">)</span></p>\n",
    "<p>Re<span class=\"highlighted\">seed</span>&nbsp;a legacy MT19937 BitGenerator</p>\n",
    "<p>&nbsp;</p>\n",
    "<br><br><br><br>\n",
    "\n",
    "![](https://i.imgur.com/ZYvo0BK.jpg)"
   ]
  },
  {
   "cell_type": "markdown",
   "metadata": {},
   "source": [
    "## Viewing arrays and matrices"
   ]
  },
  {
   "cell_type": "code",
   "execution_count": 25,
   "metadata": {},
   "outputs": [
    {
     "data": {
      "text/plain": [
       "array([[1, 2, 3],\n",
       "       [3, 2, 1],\n",
       "       [4, 5, 6],\n",
       "       [6, 5, 4],\n",
       "       [7, 8, 9],\n",
       "       [9, 8, 7]])"
      ]
     },
     "execution_count": 25,
     "metadata": {},
     "output_type": "execute_result"
    }
   ],
   "source": [
    "#let us consider the following array\n",
    "ar = np.array([[1,2,3],[3,2,1],[4,5,6],[6,5,4],[7,8,9],[9,8,7]])\n",
    "ar"
   ]
  },
  {
   "cell_type": "code",
   "execution_count": 26,
   "metadata": {},
   "outputs": [
    {
     "data": {
      "text/plain": [
       "array([1, 2, 3, 4, 5, 6, 7, 8, 9])"
      ]
     },
     "execution_count": 26,
     "metadata": {},
     "output_type": "execute_result"
    }
   ],
   "source": [
    "#find unique elements in a numpy array\n",
    "np.unique(ar)"
   ]
  },
  {
   "cell_type": "code",
   "execution_count": 28,
   "metadata": {},
   "outputs": [
    {
     "data": {
      "text/plain": [
       "array([1, 2, 3])"
      ]
     },
     "execution_count": 28,
     "metadata": {},
     "output_type": "execute_result"
    }
   ],
   "source": [
    "#access array elements\n",
    "ar[0]"
   ]
  },
  {
   "cell_type": "code",
   "execution_count": 29,
   "metadata": {},
   "outputs": [
    {
     "data": {
      "text/plain": [
       "array([4, 5, 6])"
      ]
     },
     "execution_count": 29,
     "metadata": {},
     "output_type": "execute_result"
    }
   ],
   "source": [
    "ar[2]"
   ]
  },
  {
   "cell_type": "code",
   "execution_count": 32,
   "metadata": {},
   "outputs": [
    {
     "data": {
      "text/plain": [
       "(6, 3)"
      ]
     },
     "execution_count": 32,
     "metadata": {},
     "output_type": "execute_result"
    }
   ],
   "source": [
    "ar.shape"
   ]
  },
  {
   "cell_type": "code",
   "execution_count": 33,
   "metadata": {},
   "outputs": [
    {
     "data": {
      "text/plain": [
       "18"
      ]
     },
     "execution_count": 33,
     "metadata": {},
     "output_type": "execute_result"
    }
   ],
   "source": [
    "ar.size"
   ]
  },
  {
   "cell_type": "code",
   "execution_count": 40,
   "metadata": {},
   "outputs": [
    {
     "data": {
      "text/plain": [
       "array([[13, 16,  1,  4,  4],\n",
       "       [ 8, 10, 19,  5,  7],\n",
       "       [13,  2,  7,  8, 15],\n",
       "       [18,  6, 14,  9, 10],\n",
       "       [17,  6, 16, 16,  1]])"
      ]
     },
     "execution_count": 40,
     "metadata": {},
     "output_type": "execute_result"
    }
   ],
   "source": [
    "#let the array now be \n",
    "np.random.seed(seed=0) # we need seed so that the numbers in the array dont change in future usage\n",
    "ar = np.random.randint(1,20,size=(5,5))\n",
    "ar"
   ]
  },
  {
   "cell_type": "code",
   "execution_count": 45,
   "metadata": {},
   "outputs": [
    {
     "data": {
      "text/plain": [
       "((5, 5), 2)"
      ]
     },
     "execution_count": 45,
     "metadata": {},
     "output_type": "execute_result"
    }
   ],
   "source": [
    "#shape and dimension\n",
    "ar.shape, ar.ndim"
   ]
  },
  {
   "cell_type": "code",
   "execution_count": 41,
   "metadata": {},
   "outputs": [
    {
     "data": {
      "text/plain": [
       "array([[13, 16,  1,  4,  4],\n",
       "       [ 8, 10, 19,  5,  7]])"
      ]
     },
     "execution_count": 41,
     "metadata": {},
     "output_type": "execute_result"
    }
   ],
   "source": [
    "#slicing the arrays\n",
    "ar[:2]\n",
    "#first 2 rows"
   ]
  },
  {
   "cell_type": "code",
   "execution_count": 42,
   "metadata": {},
   "outputs": [
    {
     "data": {
      "text/plain": [
       "array([[13],\n",
       "       [ 8]])"
      ]
     },
     "execution_count": 42,
     "metadata": {},
     "output_type": "execute_result"
    }
   ],
   "source": [
    "#slicing the arrays\n",
    "ar[:2,:1]\n",
    "#first 2 rows with 1 column"
   ]
  },
  {
   "cell_type": "code",
   "execution_count": 44,
   "metadata": {},
   "outputs": [
    {
     "data": {
      "text/plain": [
       "array([[13, 16,  1]])"
      ]
     },
     "execution_count": 44,
     "metadata": {},
     "output_type": "execute_result"
    }
   ],
   "source": [
    "#slicing the arrays\n",
    "ar[:1,:3]\n",
    "#first 1 row with 3 column data"
   ]
  },
  {
   "cell_type": "markdown",
   "metadata": {},
   "source": [
    "![](https://www.google.com/url?sa=i&url=https%3A%2F%2Fimgflip.com%2Fi%2F1bjzfn&psig=AOvVaw3YroJ_qg0gBF9dkgpzWi8F&ust=1597951367550000&source=images&cd=vfe&ved=0CAIQjRxqFwoTCJjYnZ7_p-sCFQAAAAAdAAAAABAO)"
   ]
  },
  {
   "cell_type": "markdown",
   "metadata": {},
   "source": [
    "![](https://i.imgflip.com/1bjzfn.jpg)"
   ]
  },
  {
   "cell_type": "markdown",
   "metadata": {},
   "source": [
    "## Manipulate and compare arrays"
   ]
  },
  {
   "cell_type": "code",
   "execution_count": 47,
   "metadata": {},
   "outputs": [
    {
     "data": {
      "text/plain": [
       "array([[26, 32,  2,  8,  8],\n",
       "       [16, 20, 38, 10, 14],\n",
       "       [26,  4, 14, 16, 30],\n",
       "       [36, 12, 28, 18, 20],\n",
       "       [34, 12, 32, 32,  2]])"
      ]
     },
     "execution_count": 47,
     "metadata": {},
     "output_type": "execute_result"
    }
   ],
   "source": [
    "#simple addition of arrays\n",
    "ar + ar"
   ]
  },
  {
   "cell_type": "code",
   "execution_count": null,
   "metadata": {},
   "outputs": [],
   "source": []
  }
 ],
 "metadata": {
  "kernelspec": {
   "display_name": "Python 3.8.1 32-bit",
   "language": "python",
   "name": "python38132bit93aab49dff954651a4c1e4402da878fd"
  },
  "language_info": {
   "codemirror_mode": {
    "name": "ipython",
    "version": 3
   },
   "file_extension": ".py",
   "mimetype": "text/x-python",
   "name": "python",
   "nbconvert_exporter": "python",
   "pygments_lexer": "ipython3",
   "version": "3.8.1"
  }
 },
 "nbformat": 4,
 "nbformat_minor": 4
}
