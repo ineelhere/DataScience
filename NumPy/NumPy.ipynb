{
 "cells": [
  {
   "cell_type": "markdown",
   "metadata": {},
   "source": [
    "## Working with Numpy \n",
    "Documentation : https://numpy.org/doc/ (Trust me, it saves you a lot of effort)<br>\n",
    "<p>NumPy is the fundamental package needed for scientific computing with Python. This package contains:</p>\n",
    "<ul class=\"simple\">\n",
    "<li>\n",
    "<p>a powerful N-dimensional&nbsp;<a class=\"reference internal\" href=\"https://numpy.org/doc/stable/reference/arrays.html#arrays\"><span class=\"std std-ref\">array object</span></a></p>\n",
    "</li>\n",
    "<li>\n",
    "<p>sophisticated&nbsp;<a class=\"reference internal\" href=\"https://numpy.org/doc/stable/reference/ufuncs.html#ufuncs\"><span class=\"std std-ref\">(broadcasting) functions</span></a></p>\n",
    "</li>\n",
    "<li>\n",
    "<p>basic&nbsp;<a class=\"reference internal\" href=\"https://numpy.org/doc/stable/reference/routines.linalg.html#routines-linalg\"><span class=\"std std-ref\">linear algebra functions</span></a></p>\n",
    "</li>\n",
    "<li>\n",
    "<p>basic&nbsp;<a class=\"reference internal\" href=\"https://numpy.org/doc/stable/reference/routines.fft.html#routines-fft\"><span class=\"std std-ref\">Fourier transforms</span></a></p>\n",
    "</li>\n",
    "<li>\n",
    "<p>sophisticated&nbsp;<a class=\"reference internal\" href=\"https://numpy.org/doc/stable/reference/random/index.html#numpyrandom\"><span class=\"std std-ref\">random number capabilities</span></a></p>\n",
    "</li>\n",
    "<li>\n",
    "<p>tools for integrating Fortran code</p>\n",
    "</li>\n",
    "<li>\n",
    "<p>tools for integrating C/C++ code</p>\n",
    "</li>\n",
    "</ul>\n",
    "<p>Besides its obvious scientific uses,&nbsp;<em>NumPy</em>&nbsp;can also be used as an efficient multi-dimensional container of generic data. Arbitrary data types can be defined. This allows&nbsp;<em>NumPy</em>&nbsp;to seamlessly and speedily integrate with a wide variety of databases.</p>\n",
    "<p>NumPy is a successor for two earlier scientific Python libraries: Numeric and Numarray.</p>"
   ]
  },
  {
   "cell_type": "code",
   "execution_count": 1,
   "metadata": {},
   "outputs": [],
   "source": [
    "#import numpy library first\n",
    "import numpy as np"
   ]
  },
  {
   "cell_type": "markdown",
   "metadata": {},
   "source": [
    "![](https://pics.me.me/1-import-numpy-1-import-numpy-as-np-there-is-31232276.png)"
   ]
  },
  {
   "cell_type": "markdown",
   "metadata": {},
   "source": [
    "## DataTypes and Attributes"
   ]
  },
  {
   "cell_type": "markdown",
   "metadata": {},
   "source": [
    "**The predominant datatype in numpy is \"numpy array\"**"
   ]
  },
  {
   "cell_type": "code",
   "execution_count": 2,
   "metadata": {},
   "outputs": [
    {
     "data": {
      "text/plain": [
       "array([4, 5, 6])"
      ]
     },
     "execution_count": 2,
     "metadata": {},
     "output_type": "execute_result"
    }
   ],
   "source": [
    "ar = np.array([4,5,6])\n",
    "ar"
   ]
  },
  {
   "cell_type": "code",
   "execution_count": 3,
   "metadata": {},
   "outputs": [
    {
     "data": {
      "text/plain": [
       "dtype('int32')"
      ]
     },
     "execution_count": 3,
     "metadata": {},
     "output_type": "execute_result"
    }
   ],
   "source": [
    "ar.dtype #it is in integer"
   ]
  },
  {
   "cell_type": "code",
   "execution_count": 4,
   "metadata": {},
   "outputs": [
    {
     "data": {
      "text/plain": [
       "array([[3, 2, 1],\n",
       "       [6, 5, 4]])"
      ]
     },
     "execution_count": 4,
     "metadata": {},
     "output_type": "execute_result"
    }
   ],
   "source": [
    "ar2 = np.array([[3,2,1],[6,5,4]])\n",
    "ar2"
   ]
  },
  {
   "cell_type": "code",
   "execution_count": 5,
   "metadata": {},
   "outputs": [
    {
     "data": {
      "text/plain": [
       "array([[[3. , 2. , 1. ],\n",
       "        [6. , 5. , 4. ],\n",
       "        [9.3, 8.2, 7.1]],\n",
       "\n",
       "       [[3. , 2. , 1. ],\n",
       "        [6. , 5. , 4. ],\n",
       "        [9. , 5. , 1. ]]])"
      ]
     },
     "execution_count": 5,
     "metadata": {},
     "output_type": "execute_result"
    }
   ],
   "source": [
    "ar3 = np.array([[[3,2,1],[6,5,4],[9.3,8.2,7.1]],\n",
    "              [[3,2,1],[6,5,4],[9,5,1]]])\n",
    "ar3"
   ]
  },
  {
   "cell_type": "code",
   "execution_count": 6,
   "metadata": {},
   "outputs": [
    {
     "data": {
      "text/plain": [
       "dtype('float64')"
      ]
     },
     "execution_count": 6,
     "metadata": {},
     "output_type": "execute_result"
    }
   ],
   "source": [
    "ar3.dtype #it is in float"
   ]
  },
  {
   "cell_type": "markdown",
   "metadata": {},
   "source": [
    "Now here is the explanation for what just happened!\n",
    "![](https://udemy-images.s3.amazonaws.com/redactor/raw/2020-01-28_03-56-32-433698fdb6cb595d61a490062cd00619.png)\n",
    "\n",
    "Just in case if it helps,<br>\n",
    "Formula for shape of an array = R X C [R=row, C=column] <br>\n",
    "Axes for multidimensional arrays :<br>\n",
    "Axis 0 = Rows<br>\n",
    "Axis 1 = Columns<br>\n",
    "Axis n = Beyond rows and columns (You may think of it as the z axis)\n"
   ]
  },
  {
   "cell_type": "code",
   "execution_count": 7,
   "metadata": {},
   "outputs": [
    {
     "data": {
      "text/plain": [
       "(1, 2, 3)"
      ]
     },
     "execution_count": 7,
     "metadata": {},
     "output_type": "execute_result"
    }
   ],
   "source": [
    "#dimensions\n",
    "ar.ndim, ar2.ndim, ar3.ndim"
   ]
  },
  {
   "cell_type": "code",
   "execution_count": 8,
   "metadata": {},
   "outputs": [
    {
     "data": {
      "text/plain": [
       "(3, 6, 18)"
      ]
     },
     "execution_count": 8,
     "metadata": {},
     "output_type": "execute_result"
    }
   ],
   "source": [
    "#size or number of elements in each array\n",
    "ar.size, ar2.size, ar3.size"
   ]
  },
  {
   "cell_type": "code",
   "execution_count": 9,
   "metadata": {},
   "outputs": [
    {
     "data": {
      "text/plain": [
       "(numpy.ndarray, numpy.ndarray, numpy.ndarray)"
      ]
     },
     "execution_count": 9,
     "metadata": {},
     "output_type": "execute_result"
    }
   ],
   "source": [
    "#types of data \n",
    "type(ar), type(ar2), type(ar3)"
   ]
  },
  {
   "cell_type": "markdown",
   "metadata": {},
   "source": [
    "**Numpy array to Pandas dataframe**\n"
   ]
  },
  {
   "cell_type": "code",
   "execution_count": 10,
   "metadata": {},
   "outputs": [
    {
     "data": {
      "text/html": [
       "<div>\n",
       "<style scoped>\n",
       "    .dataframe tbody tr th:only-of-type {\n",
       "        vertical-align: middle;\n",
       "    }\n",
       "\n",
       "    .dataframe tbody tr th {\n",
       "        vertical-align: top;\n",
       "    }\n",
       "\n",
       "    .dataframe thead th {\n",
       "        text-align: right;\n",
       "    }\n",
       "</style>\n",
       "<table border=\"1\" class=\"dataframe\">\n",
       "  <thead>\n",
       "    <tr style=\"text-align: right;\">\n",
       "      <th></th>\n",
       "      <th>0</th>\n",
       "    </tr>\n",
       "  </thead>\n",
       "  <tbody>\n",
       "    <tr>\n",
       "      <th>0</th>\n",
       "      <td>4</td>\n",
       "    </tr>\n",
       "    <tr>\n",
       "      <th>1</th>\n",
       "      <td>5</td>\n",
       "    </tr>\n",
       "    <tr>\n",
       "      <th>2</th>\n",
       "      <td>6</td>\n",
       "    </tr>\n",
       "  </tbody>\n",
       "</table>\n",
       "</div>"
      ],
      "text/plain": [
       "   0\n",
       "0  4\n",
       "1  5\n",
       "2  6"
      ]
     },
     "execution_count": 10,
     "metadata": {},
     "output_type": "execute_result"
    }
   ],
   "source": [
    "import pandas as pd\n",
    "pd.DataFrame(ar)"
   ]
  },
  {
   "cell_type": "code",
   "execution_count": 11,
   "metadata": {},
   "outputs": [
    {
     "data": {
      "text/html": [
       "<div>\n",
       "<style scoped>\n",
       "    .dataframe tbody tr th:only-of-type {\n",
       "        vertical-align: middle;\n",
       "    }\n",
       "\n",
       "    .dataframe tbody tr th {\n",
       "        vertical-align: top;\n",
       "    }\n",
       "\n",
       "    .dataframe thead th {\n",
       "        text-align: right;\n",
       "    }\n",
       "</style>\n",
       "<table border=\"1\" class=\"dataframe\">\n",
       "  <thead>\n",
       "    <tr style=\"text-align: right;\">\n",
       "      <th></th>\n",
       "      <th>0</th>\n",
       "      <th>1</th>\n",
       "      <th>2</th>\n",
       "    </tr>\n",
       "  </thead>\n",
       "  <tbody>\n",
       "    <tr>\n",
       "      <th>0</th>\n",
       "      <td>3</td>\n",
       "      <td>2</td>\n",
       "      <td>1</td>\n",
       "    </tr>\n",
       "    <tr>\n",
       "      <th>1</th>\n",
       "      <td>6</td>\n",
       "      <td>5</td>\n",
       "      <td>4</td>\n",
       "    </tr>\n",
       "  </tbody>\n",
       "</table>\n",
       "</div>"
      ],
      "text/plain": [
       "   0  1  2\n",
       "0  3  2  1\n",
       "1  6  5  4"
      ]
     },
     "execution_count": 11,
     "metadata": {},
     "output_type": "execute_result"
    }
   ],
   "source": [
    "pd.DataFrame(ar2)"
   ]
  },
  {
   "cell_type": "markdown",
   "metadata": {},
   "source": [
    "**pd.DataFrame(ar3)** -------- this gives an error<br>\n",
    "ValueError: Must pass 2-d input, <br>ie, A 3D array cannot be described in form of a dataframe"
   ]
  },
  {
   "cell_type": "markdown",
   "metadata": {},
   "source": [
    "![](https://www.thecoderpedia.com/wp-content/uploads/2020/06/Programming-Memes.jpg?x78009)"
   ]
  },
  {
   "cell_type": "markdown",
   "metadata": {},
   "source": [
    "## Creating numpy arrays"
   ]
  },
  {
   "cell_type": "code",
   "execution_count": 12,
   "metadata": {},
   "outputs": [
    {
     "data": {
      "text/plain": [
       "array([[1., 1., 1.],\n",
       "       [1., 1., 1.]])"
      ]
     },
     "execution_count": 12,
     "metadata": {},
     "output_type": "execute_result"
    }
   ],
   "source": [
    "ones = np.ones((2,3))\n",
    "ones"
   ]
  },
  {
   "cell_type": "markdown",
   "metadata": {},
   "source": [
    "<p><code class=\"sig-prename descclassname\">numpy.</code><code class=\"sig-name descname\"><span class=\"highlighted\">ones</span></code><span class=\"sig-paren\">(</span><em class=\"sig-param\">shape</em>,&nbsp;<em class=\"sig-param\">dtype=None</em>,&nbsp;<em class=\"sig-param\">order='C'</em><span class=\"sig-paren\">)</span></p>\n",
    "<p>Return a new array of given shape and type, filled with&nbsp;<span class=\"highlighted\">ones</span>.</p>\n",
    "<p>&nbsp;</p>"
   ]
  },
  {
   "cell_type": "code",
   "execution_count": 13,
   "metadata": {},
   "outputs": [
    {
     "data": {
      "text/plain": [
       "dtype('float64')"
      ]
     },
     "execution_count": 13,
     "metadata": {},
     "output_type": "execute_result"
    }
   ],
   "source": [
    "ones.dtype"
   ]
  },
  {
   "cell_type": "code",
   "execution_count": 14,
   "metadata": {},
   "outputs": [
    {
     "data": {
      "text/plain": [
       "array([[0., 0., 0.],\n",
       "       [0., 0., 0.]])"
      ]
     },
     "execution_count": 14,
     "metadata": {},
     "output_type": "execute_result"
    }
   ],
   "source": [
    "zeros = np.zeros((2,3))\n",
    "zeros"
   ]
  },
  {
   "cell_type": "markdown",
   "metadata": {},
   "source": [
    "<p>numpy.zeros(shape, dtype=float, order='C')<br> Return a new array of given shape and type, filled with zeros.</p>"
   ]
  },
  {
   "cell_type": "code",
   "execution_count": 15,
   "metadata": {},
   "outputs": [
    {
     "data": {
      "text/plain": [
       "dtype('float64')"
      ]
     },
     "execution_count": 15,
     "metadata": {},
     "output_type": "execute_result"
    }
   ],
   "source": [
    "zeros.dtype"
   ]
  },
  {
   "cell_type": "code",
   "execution_count": 16,
   "metadata": {},
   "outputs": [
    {
     "data": {
      "text/plain": [
       "array([1, 3, 5, 7, 9])"
      ]
     },
     "execution_count": 16,
     "metadata": {},
     "output_type": "execute_result"
    }
   ],
   "source": [
    "#arange\n",
    "np.arange(1, 10, 2)"
   ]
  },
  {
   "cell_type": "markdown",
   "metadata": {},
   "source": [
    "<p><code class=\"sig-prename descclassname\">numpy.</code><code class=\"sig-name descname\">a<span class=\"highlighted\">range</span></code><span class=\"sig-paren\">(</span><span class=\"optional\">[</span><em class=\"sig-param\">start</em>,&nbsp;<span class=\"optional\">]</span><em class=\"sig-param\">stop</em>,&nbsp;<span class=\"optional\">[</span><em class=\"sig-param\">step</em>,&nbsp;<span class=\"optional\">]</span><em class=\"sig-param\">dtype=None</em><span class=\"sig-paren\">)</span></p>\n",
    "<p>Return evenly spaced values within a given interval.</p>\n",
    "<p>Values are generated within the half-open interval&nbsp;<code class=\"docutils literal notranslate\"><span class=\"pre\">[start,</span>&nbsp;<span class=\"pre\">stop)</span></code>&nbsp;(in other words, the interval including&nbsp;<em class=\"xref py py-obj\">start</em>&nbsp;but excluding&nbsp;<em class=\"xref py py-obj\">stop</em>). For integer arguments the function is equivalent to the Python built-in&nbsp;<em class=\"xref py py-obj\"><span class=\"highlighted\">range</span></em>&nbsp;function, but returns an ndarray rather than a list.</p>\n",
    "<p>When using a non-integer step, such as 0.1, the results will often not be consistent. It is better to use&nbsp;<a class=\"reference internal\" title=\"numpy.linspace\" href=\"https://numpy.org/doc/stable/reference/generated/numpy.linspace.html#numpy.linspace\"><code class=\"xref py py-obj docutils literal notranslate\"><span class=\"pre\">numpy.linspace</span></code></a>&nbsp;for these cases.</p>\n",
    "<p>&nbsp;</p>"
   ]
  },
  {
   "cell_type": "code",
   "execution_count": 17,
   "metadata": {},
   "outputs": [
    {
     "data": {
      "text/plain": [
       "array([[94, 82, 19, 37, 72, 89, 10, 85, 54, 59],\n",
       "       [15, 60, 93, 66, 90, 36, 53, 54, 91, 92],\n",
       "       [13, 69,  1, 44, 91, 36,  7, 93, 82, 35],\n",
       "       [48, 20, 13, 63, 68, 56, 92, 47, 88, 65],\n",
       "       [62, 18, 53, 63, 66, 83, 72, 34, 70, 81],\n",
       "       [46, 11, 48, 72,  9, 23, 68, 97, 95, 78],\n",
       "       [ 4, 37,  6, 14, 68, 32, 70, 20, 25, 94],\n",
       "       [26, 88, 12, 33, 24, 30, 90, 83,  5, 86],\n",
       "       [ 1, 68, 51, 69, 57, 25, 48,  2, 99, 18],\n",
       "       [28, 36, 41, 18, 25, 95, 94, 51, 39, 39]])"
      ]
     },
     "execution_count": 17,
     "metadata": {},
     "output_type": "execute_result"
    }
   ],
   "source": [
    "#creating random arrays with - random.randint\n",
    "np.random.randint(1,100,size=(10,10))\n",
    "#all numbers will show up in the array but in random oder"
   ]
  },
  {
   "cell_type": "markdown",
   "metadata": {},
   "source": [
    "<h6>numpy.<span class=\"highlighted\">random</span>.<span class=\"highlighted\">randint</span></h6>\n",
    "<dl class=\"function\">\n",
    "<dt id=\"numpy.random.randint\"><code class=\"sig-prename descclassname\">numpy.<span class=\"highlighted\">random</span>.</code><code class=\"sig-name descname\"><span class=\"highlighted\">randint</span></code><span class=\"sig-paren\">(</span><em class=\"sig-param\">low</em>,&nbsp;<em class=\"sig-param\">high=None</em>,&nbsp;<em class=\"sig-param\">size=None</em>,&nbsp;<em class=\"sig-param\">dtype=int</em><span class=\"sig-paren\">)</span></dt>\n",
    "<dd>\n",
    "<p>Return&nbsp;<span class=\"highlighted\">random</span>&nbsp;integers from&nbsp;<em class=\"xref py py-obj\">low</em>&nbsp;(inclusive) to&nbsp;<em class=\"xref py py-obj\">high</em>&nbsp;(exclusive).</p>\n",
    "<p>Return&nbsp;<span class=\"highlighted\">random</span>&nbsp;integers from the &ldquo;discrete uniform&rdquo; distribution of the specified dtype in the &ldquo;half-open&rdquo; interval [<em class=\"xref py py-obj\">low</em>,&nbsp;<em class=\"xref py py-obj\">high</em>). If&nbsp;<em class=\"xref py py-obj\">high</em>&nbsp;is None (the default), then results are from [0,&nbsp;<em class=\"xref py py-obj\">low</em>).</p>\n",
    "<div class=\"admonition note\">\n",
    "<p class=\"admonition-title\">Note</p>\n",
    "<p>New code should use the&nbsp;<code class=\"docutils literal notranslate\"><span class=\"pre\">integers</span></code>&nbsp;method of a&nbsp;<code class=\"docutils literal notranslate\"><span class=\"pre\">default_rng()</span></code>&nbsp;instance instead; see&nbsp;<em class=\"xref py py-obj\"><span class=\"highlighted\">random</span>-quick-start</em>.</p>\n",
    "</div>\n",
    "</dd>\n",
    "</dl>"
   ]
  },
  {
   "cell_type": "code",
   "execution_count": 18,
   "metadata": {},
   "outputs": [
    {
     "data": {
      "text/plain": [
       "array([[0.65889692, 0.56338358, 0.12236909, 0.48019785, 0.17451164,\n",
       "        0.23891451, 0.65714883, 0.84663295, 0.89835589, 0.11136212,\n",
       "        0.56894378, 0.03284704, 0.83847611, 0.86414399, 0.82056737,\n",
       "        0.77624496, 0.46574587, 0.09569044, 0.33725062, 0.67655022,\n",
       "        0.61774893, 0.16304359, 0.02276537, 0.0847782 , 0.00518746,\n",
       "        0.42143365, 0.20261517, 0.28888041, 0.26910018, 0.0371954 ,\n",
       "        0.69295594, 0.12582062, 0.23115897, 0.59927903, 0.7014512 ,\n",
       "        0.71753888, 0.43348211, 0.69460664, 0.12805772, 0.47316999,\n",
       "        0.35007746, 0.14908068, 0.46881612, 0.03028588, 0.59957693,\n",
       "        0.24584485, 0.28460455, 0.95836757, 0.99407646, 0.29047838,\n",
       "        0.86083552, 0.31648095, 0.10933326, 0.26092187, 0.68515766,\n",
       "        0.14153471, 0.52150785, 0.2618252 , 0.94890948, 0.47436745,\n",
       "        0.35378903, 0.22817204, 0.70632364, 0.15020352, 0.84441656,\n",
       "        0.36149262, 0.03493748, 0.49394431, 0.68159572, 0.7185282 ,\n",
       "        0.01103111, 0.06777948, 0.05400331, 0.86467733, 0.91317827,\n",
       "        0.72618761, 0.59314646, 0.58282841, 0.15801543, 0.4261876 ,\n",
       "        0.95582185, 0.02369313, 0.31153898, 0.07495524, 0.84466596,\n",
       "        0.56299508, 0.88675232, 0.68002842, 0.82200821, 0.31991624,\n",
       "        0.65738585, 0.0871142 , 0.6118915 , 0.55236485, 0.60733455,\n",
       "        0.42587054, 0.08461667, 0.73526647, 0.42605029, 0.96208228]])"
      ]
     },
     "execution_count": 18,
     "metadata": {},
     "output_type": "execute_result"
    }
   ],
   "source": [
    "#another example\n",
    "np.random.rand(1,100)"
   ]
  },
  {
   "cell_type": "code",
   "execution_count": 19,
   "metadata": {},
   "outputs": [
    {
     "data": {
      "text/plain": [
       "array([[5, 0, 3],\n",
       "       [3, 7, 9],\n",
       "       [3, 5, 2],\n",
       "       [4, 7, 6],\n",
       "       [8, 8, 1]])"
      ]
     },
     "execution_count": 19,
     "metadata": {},
     "output_type": "execute_result"
    }
   ],
   "source": [
    "#numpy seed = gives pseudo random numbers\n",
    "np.random.seed(seed=0)\n",
    "rar = np.random.randint(10,size=(5,3))\n",
    "rar"
   ]
  },
  {
   "cell_type": "markdown",
   "metadata": {},
   "source": [
    "<p><code class=\"sig-prename descclassname\">numpy.random.</code><code class=\"sig-name descname\"><span class=\"highlighted\">seed</span></code><span class=\"sig-paren\">(</span><em class=\"sig-param\">self</em>,&nbsp;<em class=\"sig-param\"><span class=\"highlighted\">seed</span>=None</em><span class=\"sig-paren\">)</span></p>\n",
    "<p>Re<span class=\"highlighted\">seed</span>&nbsp;a legacy MT19937 BitGenerator</p>\n",
    "<p>&nbsp;</p>\n",
    "<br><br><br><br>\n",
    "\n",
    "![](https://i.imgur.com/ZYvo0BK.jpg)"
   ]
  },
  {
   "cell_type": "markdown",
   "metadata": {},
   "source": [
    "## Viewing arrays and matrices"
   ]
  },
  {
   "cell_type": "code",
   "execution_count": 20,
   "metadata": {},
   "outputs": [
    {
     "data": {
      "text/plain": [
       "array([[1, 2, 3],\n",
       "       [3, 2, 1],\n",
       "       [4, 5, 6],\n",
       "       [6, 5, 4],\n",
       "       [7, 8, 9],\n",
       "       [9, 8, 7]])"
      ]
     },
     "execution_count": 20,
     "metadata": {},
     "output_type": "execute_result"
    }
   ],
   "source": [
    "#let us consider the following array\n",
    "ar = np.array([[1,2,3],[3,2,1],[4,5,6],[6,5,4],[7,8,9],[9,8,7]])\n",
    "ar"
   ]
  },
  {
   "cell_type": "code",
   "execution_count": 21,
   "metadata": {},
   "outputs": [
    {
     "data": {
      "text/plain": [
       "array([1, 2, 3, 4, 5, 6, 7, 8, 9])"
      ]
     },
     "execution_count": 21,
     "metadata": {},
     "output_type": "execute_result"
    }
   ],
   "source": [
    "#find unique elements in a numpy array\n",
    "np.unique(ar)"
   ]
  },
  {
   "cell_type": "code",
   "execution_count": 22,
   "metadata": {},
   "outputs": [
    {
     "data": {
      "text/plain": [
       "array([1, 2, 3])"
      ]
     },
     "execution_count": 22,
     "metadata": {},
     "output_type": "execute_result"
    }
   ],
   "source": [
    "#access array elements\n",
    "ar[0]"
   ]
  },
  {
   "cell_type": "code",
   "execution_count": 23,
   "metadata": {},
   "outputs": [
    {
     "data": {
      "text/plain": [
       "array([4, 5, 6])"
      ]
     },
     "execution_count": 23,
     "metadata": {},
     "output_type": "execute_result"
    }
   ],
   "source": [
    "ar[2]"
   ]
  },
  {
   "cell_type": "code",
   "execution_count": 24,
   "metadata": {},
   "outputs": [
    {
     "data": {
      "text/plain": [
       "(6, 3)"
      ]
     },
     "execution_count": 24,
     "metadata": {},
     "output_type": "execute_result"
    }
   ],
   "source": [
    "ar.shape"
   ]
  },
  {
   "cell_type": "code",
   "execution_count": 25,
   "metadata": {},
   "outputs": [
    {
     "data": {
      "text/plain": [
       "18"
      ]
     },
     "execution_count": 25,
     "metadata": {},
     "output_type": "execute_result"
    }
   ],
   "source": [
    "ar.size"
   ]
  },
  {
   "cell_type": "code",
   "execution_count": 26,
   "metadata": {},
   "outputs": [
    {
     "data": {
      "text/plain": [
       "array([[13, 16,  1,  4,  4],\n",
       "       [ 8, 10, 19,  5,  7],\n",
       "       [13,  2,  7,  8, 15],\n",
       "       [18,  6, 14,  9, 10],\n",
       "       [17,  6, 16, 16,  1]])"
      ]
     },
     "execution_count": 26,
     "metadata": {},
     "output_type": "execute_result"
    }
   ],
   "source": [
    "#let the array now be \n",
    "np.random.seed(seed=0) # we need seed so that the numbers in the array dont change in future usage\n",
    "ar = np.random.randint(1,20,size=(5,5))\n",
    "ar"
   ]
  },
  {
   "cell_type": "code",
   "execution_count": 27,
   "metadata": {},
   "outputs": [
    {
     "data": {
      "text/plain": [
       "((5, 5), 2)"
      ]
     },
     "execution_count": 27,
     "metadata": {},
     "output_type": "execute_result"
    }
   ],
   "source": [
    "#shape and dimension\n",
    "ar.shape, ar.ndim"
   ]
  },
  {
   "cell_type": "code",
   "execution_count": 28,
   "metadata": {},
   "outputs": [
    {
     "data": {
      "text/plain": [
       "array([[13, 16,  1,  4,  4],\n",
       "       [ 8, 10, 19,  5,  7]])"
      ]
     },
     "execution_count": 28,
     "metadata": {},
     "output_type": "execute_result"
    }
   ],
   "source": [
    "#slicing the arrays\n",
    "ar[:2]\n",
    "#first 2 rows"
   ]
  },
  {
   "cell_type": "code",
   "execution_count": 29,
   "metadata": {},
   "outputs": [
    {
     "data": {
      "text/plain": [
       "array([[13],\n",
       "       [ 8]])"
      ]
     },
     "execution_count": 29,
     "metadata": {},
     "output_type": "execute_result"
    }
   ],
   "source": [
    "#slicing the arrays\n",
    "ar[:2,:1]\n",
    "#first 2 rows with 1 column"
   ]
  },
  {
   "cell_type": "code",
   "execution_count": 30,
   "metadata": {},
   "outputs": [
    {
     "data": {
      "text/plain": [
       "array([[13, 16,  1]])"
      ]
     },
     "execution_count": 30,
     "metadata": {},
     "output_type": "execute_result"
    }
   ],
   "source": [
    "#slicing the arrays\n",
    "ar[:1,:3]\n",
    "#first 1 row with 3 column data"
   ]
  },
  {
   "cell_type": "markdown",
   "metadata": {},
   "source": [
    "![](https://www.google.com/url?sa=i&url=https%3A%2F%2Fimgflip.com%2Fi%2F1bjzfn&psig=AOvVaw3YroJ_qg0gBF9dkgpzWi8F&ust=1597951367550000&source=images&cd=vfe&ved=0CAIQjRxqFwoTCJjYnZ7_p-sCFQAAAAAdAAAAABAO)"
   ]
  },
  {
   "cell_type": "markdown",
   "metadata": {},
   "source": [
    "![](https://i.imgflip.com/1bjzfn.jpg)"
   ]
  },
  {
   "cell_type": "markdown",
   "metadata": {},
   "source": [
    "## Manipulate and compare arrays"
   ]
  },
  {
   "cell_type": "code",
   "execution_count": 31,
   "metadata": {},
   "outputs": [
    {
     "data": {
      "text/plain": [
       "array([[13, 16,  1,  4,  4],\n",
       "       [ 8, 10, 19,  5,  7],\n",
       "       [13,  2,  7,  8, 15],\n",
       "       [18,  6, 14,  9, 10],\n",
       "       [17,  6, 16, 16,  1]])"
      ]
     },
     "execution_count": 31,
     "metadata": {},
     "output_type": "execute_result"
    }
   ],
   "source": [
    "#our array\n",
    "ar"
   ]
  },
  {
   "cell_type": "code",
   "execution_count": 32,
   "metadata": {},
   "outputs": [
    {
     "data": {
      "text/plain": [
       "array([[26, 32,  2,  8,  8],\n",
       "       [16, 20, 38, 10, 14],\n",
       "       [26,  4, 14, 16, 30],\n",
       "       [36, 12, 28, 18, 20],\n",
       "       [34, 12, 32, 32,  2]])"
      ]
     },
     "execution_count": 32,
     "metadata": {},
     "output_type": "execute_result"
    }
   ],
   "source": [
    "#simple addition of arrays\n",
    "ar + ar"
   ]
  },
  {
   "cell_type": "code",
   "execution_count": 33,
   "metadata": {},
   "outputs": [
    {
     "data": {
      "text/plain": [
       "array([[1., 1., 1., 1., 1.],\n",
       "       [1., 1., 1., 1., 1.],\n",
       "       [1., 1., 1., 1., 1.],\n",
       "       [1., 1., 1., 1., 1.],\n",
       "       [1., 1., 1., 1., 1.]])"
      ]
     },
     "execution_count": 33,
     "metadata": {},
     "output_type": "execute_result"
    }
   ],
   "source": [
    "ar1 = np.ones((5,5))\n",
    "ar1"
   ]
  },
  {
   "cell_type": "code",
   "execution_count": 34,
   "metadata": {},
   "outputs": [
    {
     "data": {
      "text/plain": [
       "array([[14., 17.,  2.,  5.,  5.],\n",
       "       [ 9., 11., 20.,  6.,  8.],\n",
       "       [14.,  3.,  8.,  9., 16.],\n",
       "       [19.,  7., 15., 10., 11.],\n",
       "       [18.,  7., 17., 17.,  2.]])"
      ]
     },
     "execution_count": 34,
     "metadata": {},
     "output_type": "execute_result"
    }
   ],
   "source": [
    "ar + ar1"
   ]
  },
  {
   "cell_type": "code",
   "execution_count": 35,
   "metadata": {},
   "outputs": [
    {
     "data": {
      "text/plain": [
       "array([[0, 0, 0, 0, 0],\n",
       "       [0, 0, 0, 0, 0],\n",
       "       [0, 0, 0, 0, 0],\n",
       "       [0, 0, 0, 0, 0],\n",
       "       [0, 0, 0, 0, 0]])"
      ]
     },
     "execution_count": 35,
     "metadata": {},
     "output_type": "execute_result"
    }
   ],
   "source": [
    "#subtraction\n",
    "ar - ar"
   ]
  },
  {
   "cell_type": "code",
   "execution_count": 36,
   "metadata": {},
   "outputs": [
    {
     "data": {
      "text/plain": [
       "array([[12., 15.,  0.,  3.,  3.],\n",
       "       [ 7.,  9., 18.,  4.,  6.],\n",
       "       [12.,  1.,  6.,  7., 14.],\n",
       "       [17.,  5., 13.,  8.,  9.],\n",
       "       [16.,  5., 15., 15.,  0.]])"
      ]
     },
     "execution_count": 36,
     "metadata": {},
     "output_type": "execute_result"
    }
   ],
   "source": [
    "ar-ar1"
   ]
  },
  {
   "cell_type": "code",
   "execution_count": 37,
   "metadata": {
    "scrolled": true
   },
   "outputs": [
    {
     "data": {
      "text/plain": [
       "array([[14., 17.,  2.,  5.,  5.],\n",
       "       [ 9., 11., 20.,  6.,  8.],\n",
       "       [14.,  3.,  8.,  9., 16.],\n",
       "       [19.,  7., 15., 10., 11.],\n",
       "       [18.,  7., 17., 17.,  2.]])"
      ]
     },
     "execution_count": 37,
     "metadata": {},
     "output_type": "execute_result"
    }
   ],
   "source": [
    "#use functions\n",
    "np.add(ar,ar1)"
   ]
  },
  {
   "cell_type": "markdown",
   "metadata": {},
   "source": [
    "## Well, let's be honest.\n",
    "<br>**There are many different functions to explore in NumPy. Best way is to keep the documentation handy and refer to it when we face real life problems!** <br>\n",
    "Following are a few information directly from the documentation which might be helpful for the time being"
   ]
  },
  {
   "cell_type": "markdown",
   "metadata": {},
   "source": [
    "<div id=\"trigonometric-functions\" class=\"section\">\n",
    "<h2>Trigonometric functions</h2>\n",
    "<table class=\"longtable docutils align-default\"><colgroup><col /><col /></colgroup>\n",
    "<tbody>\n",
    "<tr class=\"row-odd\">\n",
    "<td>\n",
    "<p><a class=\"reference internal\" title=\"numpy.sin\" href=\"https://numpy.org/doc/stable/reference/generated/numpy.sin.html#numpy.sin\"><code class=\"xref py py-obj docutils literal notranslate\"><span class=\"pre\">sin</span></code></a>(x,&nbsp;/[,&nbsp;out,&nbsp;where,&nbsp;casting,&nbsp;order,&nbsp;&hellip;])</p>\n",
    "</td>\n",
    "<td>\n",
    "<p>Trigonometric sine, element-wise.</p>\n",
    "</td>\n",
    "</tr>\n",
    "<tr class=\"row-even\">\n",
    "<td>\n",
    "<p><a class=\"reference internal\" title=\"numpy.cos\" href=\"https://numpy.org/doc/stable/reference/generated/numpy.cos.html#numpy.cos\"><code class=\"xref py py-obj docutils literal notranslate\"><span class=\"pre\">cos</span></code></a>(x,&nbsp;/[,&nbsp;out,&nbsp;where,&nbsp;casting,&nbsp;order,&nbsp;&hellip;])</p>\n",
    "</td>\n",
    "<td>\n",
    "<p>Cosine element-wise.</p>\n",
    "</td>\n",
    "</tr>\n",
    "<tr class=\"row-odd\">\n",
    "<td>\n",
    "<p><a class=\"reference internal\" title=\"numpy.tan\" href=\"https://numpy.org/doc/stable/reference/generated/numpy.tan.html#numpy.tan\"><code class=\"xref py py-obj docutils literal notranslate\"><span class=\"pre\">tan</span></code></a>(x,&nbsp;/[,&nbsp;out,&nbsp;where,&nbsp;casting,&nbsp;order,&nbsp;&hellip;])</p>\n",
    "</td>\n",
    "<td>\n",
    "<p>Compute tangent element-wise.</p>\n",
    "</td>\n",
    "</tr>\n",
    "<tr class=\"row-even\">\n",
    "<td>\n",
    "<p><a class=\"reference internal\" title=\"numpy.arcsin\" href=\"https://numpy.org/doc/stable/reference/generated/numpy.arcsin.html#numpy.arcsin\"><code class=\"xref py py-obj docutils literal notranslate\"><span class=\"pre\">arcsin</span></code></a>(x,&nbsp;/[,&nbsp;out,&nbsp;where,&nbsp;casting,&nbsp;order,&nbsp;&hellip;])</p>\n",
    "</td>\n",
    "<td>\n",
    "<p>Inverse sine, element-wise.</p>\n",
    "</td>\n",
    "</tr>\n",
    "<tr class=\"row-odd\">\n",
    "<td>\n",
    "<p><a class=\"reference internal\" title=\"numpy.arccos\" href=\"https://numpy.org/doc/stable/reference/generated/numpy.arccos.html#numpy.arccos\"><code class=\"xref py py-obj docutils literal notranslate\"><span class=\"pre\">arccos</span></code></a>(x,&nbsp;/[,&nbsp;out,&nbsp;where,&nbsp;casting,&nbsp;order,&nbsp;&hellip;])</p>\n",
    "</td>\n",
    "<td>\n",
    "<p>Trigonometric inverse cosine, element-wise.</p>\n",
    "</td>\n",
    "</tr>\n",
    "<tr class=\"row-even\">\n",
    "<td>\n",
    "<p><a class=\"reference internal\" title=\"numpy.arctan\" href=\"https://numpy.org/doc/stable/reference/generated/numpy.arctan.html#numpy.arctan\"><code class=\"xref py py-obj docutils literal notranslate\"><span class=\"pre\">arctan</span></code></a>(x,&nbsp;/[,&nbsp;out,&nbsp;where,&nbsp;casting,&nbsp;order,&nbsp;&hellip;])</p>\n",
    "</td>\n",
    "<td>\n",
    "<p>Trigonometric inverse tangent, element-wise.</p>\n",
    "</td>\n",
    "</tr>\n",
    "<tr class=\"row-odd\">\n",
    "<td>\n",
    "<p><a class=\"reference internal\" title=\"numpy.hypot\" href=\"https://numpy.org/doc/stable/reference/generated/numpy.hypot.html#numpy.hypot\"><code class=\"xref py py-obj docutils literal notranslate\"><span class=\"pre\">hypot</span></code></a>(x1,&nbsp;x2,&nbsp;/[,&nbsp;out,&nbsp;where,&nbsp;casting,&nbsp;&hellip;])</p>\n",
    "</td>\n",
    "<td>\n",
    "<p>Given the &ldquo;legs&rdquo; of a right triangle, return its hypotenuse.</p>\n",
    "</td>\n",
    "</tr>\n",
    "<tr class=\"row-even\">\n",
    "<td>\n",
    "<p><a class=\"reference internal\" title=\"numpy.arctan2\" href=\"https://numpy.org/doc/stable/reference/generated/numpy.arctan2.html#numpy.arctan2\"><code class=\"xref py py-obj docutils literal notranslate\"><span class=\"pre\">arctan2</span></code></a>(x1,&nbsp;x2,&nbsp;/[,&nbsp;out,&nbsp;where,&nbsp;casting,&nbsp;&hellip;])</p>\n",
    "</td>\n",
    "<td>\n",
    "<p>Element-wise arc tangent of&nbsp;<code class=\"docutils literal notranslate\"><span class=\"pre\">x1/x2</span></code>&nbsp;choosing the quadrant correctly.</p>\n",
    "</td>\n",
    "</tr>\n",
    "<tr class=\"row-odd\">\n",
    "<td>\n",
    "<p><a class=\"reference internal\" title=\"numpy.degrees\" href=\"https://numpy.org/doc/stable/reference/generated/numpy.degrees.html#numpy.degrees\"><code class=\"xref py py-obj docutils literal notranslate\"><span class=\"pre\">degrees</span></code></a>(x,&nbsp;/[,&nbsp;out,&nbsp;where,&nbsp;casting,&nbsp;order,&nbsp;&hellip;])</p>\n",
    "</td>\n",
    "<td>\n",
    "<p>Convert angles from radians to degrees.</p>\n",
    "</td>\n",
    "</tr>\n",
    "<tr class=\"row-even\">\n",
    "<td>\n",
    "<p><a class=\"reference internal\" title=\"numpy.radians\" href=\"https://numpy.org/doc/stable/reference/generated/numpy.radians.html#numpy.radians\"><code class=\"xref py py-obj docutils literal notranslate\"><span class=\"pre\">radians</span></code></a>(x,&nbsp;/[,&nbsp;out,&nbsp;where,&nbsp;casting,&nbsp;order,&nbsp;&hellip;])</p>\n",
    "</td>\n",
    "<td>\n",
    "<p>Convert angles from degrees to radians.</p>\n",
    "</td>\n",
    "</tr>\n",
    "<tr class=\"row-odd\">\n",
    "<td>\n",
    "<p><a class=\"reference internal\" title=\"numpy.unwrap\" href=\"https://numpy.org/doc/stable/reference/generated/numpy.unwrap.html#numpy.unwrap\"><code class=\"xref py py-obj docutils literal notranslate\"><span class=\"pre\">unwrap</span></code></a>(p[,&nbsp;discont,&nbsp;axis])</p>\n",
    "</td>\n",
    "<td>\n",
    "<p>Unwrap by changing deltas between values to 2*pi complement.</p>\n",
    "</td>\n",
    "</tr>\n",
    "<tr class=\"row-even\">\n",
    "<td>\n",
    "<p><a class=\"reference internal\" title=\"numpy.deg2rad\" href=\"https://numpy.org/doc/stable/reference/generated/numpy.deg2rad.html#numpy.deg2rad\"><code class=\"xref py py-obj docutils literal notranslate\"><span class=\"pre\">deg2rad</span></code></a>(x,&nbsp;/[,&nbsp;out,&nbsp;where,&nbsp;casting,&nbsp;order,&nbsp;&hellip;])</p>\n",
    "</td>\n",
    "<td>\n",
    "<p>Convert angles from degrees to radians.</p>\n",
    "</td>\n",
    "</tr>\n",
    "<tr class=\"row-odd\">\n",
    "<td>\n",
    "<p><a class=\"reference internal\" title=\"numpy.rad2deg\" href=\"https://numpy.org/doc/stable/reference/generated/numpy.rad2deg.html#numpy.rad2deg\"><code class=\"xref py py-obj docutils literal notranslate\"><span class=\"pre\">rad2deg</span></code></a>(x,&nbsp;/[,&nbsp;out,&nbsp;where,&nbsp;casting,&nbsp;order,&nbsp;&hellip;])</p>\n",
    "</td>\n",
    "<td>\n",
    "<p>Convert angles from radians to degrees.</p>\n",
    "</td>\n",
    "</tr>\n",
    "</tbody>\n",
    "</table>\n",
    "</div>\n",
    "<div id=\"hyperbolic-functions\" class=\"section\">\n",
    "<h2>Hyperbolic functions</h2>\n",
    "<table class=\"longtable docutils align-default\"><colgroup><col /><col /></colgroup>\n",
    "<tbody>\n",
    "<tr class=\"row-odd\">\n",
    "<td>\n",
    "<p><a class=\"reference internal\" title=\"numpy.sinh\" href=\"https://numpy.org/doc/stable/reference/generated/numpy.sinh.html#numpy.sinh\"><code class=\"xref py py-obj docutils literal notranslate\"><span class=\"pre\">sinh</span></code></a>(x,&nbsp;/[,&nbsp;out,&nbsp;where,&nbsp;casting,&nbsp;order,&nbsp;&hellip;])</p>\n",
    "</td>\n",
    "<td>\n",
    "<p>Hyperbolic sine, element-wise.</p>\n",
    "</td>\n",
    "</tr>\n",
    "<tr class=\"row-even\">\n",
    "<td>\n",
    "<p><a class=\"reference internal\" title=\"numpy.cosh\" href=\"https://numpy.org/doc/stable/reference/generated/numpy.cosh.html#numpy.cosh\"><code class=\"xref py py-obj docutils literal notranslate\"><span class=\"pre\">cosh</span></code></a>(x,&nbsp;/[,&nbsp;out,&nbsp;where,&nbsp;casting,&nbsp;order,&nbsp;&hellip;])</p>\n",
    "</td>\n",
    "<td>\n",
    "<p>Hyperbolic cosine, element-wise.</p>\n",
    "</td>\n",
    "</tr>\n",
    "<tr class=\"row-odd\">\n",
    "<td>\n",
    "<p><a class=\"reference internal\" title=\"numpy.tanh\" href=\"https://numpy.org/doc/stable/reference/generated/numpy.tanh.html#numpy.tanh\"><code class=\"xref py py-obj docutils literal notranslate\"><span class=\"pre\">tanh</span></code></a>(x,&nbsp;/[,&nbsp;out,&nbsp;where,&nbsp;casting,&nbsp;order,&nbsp;&hellip;])</p>\n",
    "</td>\n",
    "<td>\n",
    "<p>Compute hyperbolic tangent element-wise.</p>\n",
    "</td>\n",
    "</tr>\n",
    "<tr class=\"row-even\">\n",
    "<td>\n",
    "<p><a class=\"reference internal\" title=\"numpy.arcsinh\" href=\"https://numpy.org/doc/stable/reference/generated/numpy.arcsinh.html#numpy.arcsinh\"><code class=\"xref py py-obj docutils literal notranslate\"><span class=\"pre\">arcsinh</span></code></a>(x,&nbsp;/[,&nbsp;out,&nbsp;where,&nbsp;casting,&nbsp;order,&nbsp;&hellip;])</p>\n",
    "</td>\n",
    "<td>\n",
    "<p>Inverse hyperbolic sine element-wise.</p>\n",
    "</td>\n",
    "</tr>\n",
    "<tr class=\"row-odd\">\n",
    "<td>\n",
    "<p><a class=\"reference internal\" title=\"numpy.arccosh\" href=\"https://numpy.org/doc/stable/reference/generated/numpy.arccosh.html#numpy.arccosh\"><code class=\"xref py py-obj docutils literal notranslate\"><span class=\"pre\">arccosh</span></code></a>(x,&nbsp;/[,&nbsp;out,&nbsp;where,&nbsp;casting,&nbsp;order,&nbsp;&hellip;])</p>\n",
    "</td>\n",
    "<td>\n",
    "<p>Inverse hyperbolic cosine, element-wise.</p>\n",
    "</td>\n",
    "</tr>\n",
    "<tr class=\"row-even\">\n",
    "<td>\n",
    "<p><a class=\"reference internal\" title=\"numpy.arctanh\" href=\"https://numpy.org/doc/stable/reference/generated/numpy.arctanh.html#numpy.arctanh\"><code class=\"xref py py-obj docutils literal notranslate\"><span class=\"pre\">arctanh</span></code></a>(x,&nbsp;/[,&nbsp;out,&nbsp;where,&nbsp;casting,&nbsp;order,&nbsp;&hellip;])</p>\n",
    "</td>\n",
    "<td>\n",
    "<p>Inverse hyperbolic tangent element-wise.</p>\n",
    "</td>\n",
    "</tr>\n",
    "</tbody>\n",
    "</table>\n",
    "</div>\n",
    "<div id=\"rounding\" class=\"section\">\n",
    "<h2>Rounding</h2>\n",
    "<table class=\"longtable docutils align-default\"><colgroup><col /><col /></colgroup>\n",
    "<tbody>\n",
    "<tr class=\"row-odd\">\n",
    "<td>\n",
    "<p><a class=\"reference internal\" title=\"numpy.around\" href=\"https://numpy.org/doc/stable/reference/generated/numpy.around.html#numpy.around\"><code class=\"xref py py-obj docutils literal notranslate\"><span class=\"pre\">around</span></code></a>(a[,&nbsp;decimals,&nbsp;out])</p>\n",
    "</td>\n",
    "<td>\n",
    "<p>Evenly round to the given number of decimals.</p>\n",
    "</td>\n",
    "</tr>\n",
    "<tr class=\"row-even\">\n",
    "<td>\n",
    "<p><a class=\"reference internal\" title=\"numpy.round_\" href=\"https://numpy.org/doc/stable/reference/generated/numpy.round_.html#numpy.round_\"><code class=\"xref py py-obj docutils literal notranslate\"><span class=\"pre\">round_</span></code></a>(a[,&nbsp;decimals,&nbsp;out])</p>\n",
    "</td>\n",
    "<td>\n",
    "<p>Round an array to the given number of decimals.</p>\n",
    "</td>\n",
    "</tr>\n",
    "<tr class=\"row-odd\">\n",
    "<td>\n",
    "<p><a class=\"reference internal\" title=\"numpy.rint\" href=\"https://numpy.org/doc/stable/reference/generated/numpy.rint.html#numpy.rint\"><code class=\"xref py py-obj docutils literal notranslate\"><span class=\"pre\">rint</span></code></a>(x,&nbsp;/[,&nbsp;out,&nbsp;where,&nbsp;casting,&nbsp;order,&nbsp;&hellip;])</p>\n",
    "</td>\n",
    "<td>\n",
    "<p>Round elements of the array to the nearest integer.</p>\n",
    "</td>\n",
    "</tr>\n",
    "<tr class=\"row-even\">\n",
    "<td>\n",
    "<p><a class=\"reference internal\" title=\"numpy.fix\" href=\"https://numpy.org/doc/stable/reference/generated/numpy.fix.html#numpy.fix\"><code class=\"xref py py-obj docutils literal notranslate\"><span class=\"pre\">fix</span></code></a>(x[,&nbsp;out])</p>\n",
    "</td>\n",
    "<td>\n",
    "<p>Round to nearest integer towards zero.</p>\n",
    "</td>\n",
    "</tr>\n",
    "<tr class=\"row-odd\">\n",
    "<td>\n",
    "<p><a class=\"reference internal\" title=\"numpy.floor\" href=\"https://numpy.org/doc/stable/reference/generated/numpy.floor.html#numpy.floor\"><code class=\"xref py py-obj docutils literal notranslate\"><span class=\"pre\">floor</span></code></a>(x,&nbsp;/[,&nbsp;out,&nbsp;where,&nbsp;casting,&nbsp;order,&nbsp;&hellip;])</p>\n",
    "</td>\n",
    "<td>\n",
    "<p>Return the floor of the input, element-wise.</p>\n",
    "</td>\n",
    "</tr>\n",
    "<tr class=\"row-even\">\n",
    "<td>\n",
    "<p><a class=\"reference internal\" title=\"numpy.ceil\" href=\"https://numpy.org/doc/stable/reference/generated/numpy.ceil.html#numpy.ceil\"><code class=\"xref py py-obj docutils literal notranslate\"><span class=\"pre\">ceil</span></code></a>(x,&nbsp;/[,&nbsp;out,&nbsp;where,&nbsp;casting,&nbsp;order,&nbsp;&hellip;])</p>\n",
    "</td>\n",
    "<td>\n",
    "<p>Return the ceiling of the input, element-wise.</p>\n",
    "</td>\n",
    "</tr>\n",
    "<tr class=\"row-odd\">\n",
    "<td>\n",
    "<p><a class=\"reference internal\" title=\"numpy.trunc\" href=\"https://numpy.org/doc/stable/reference/generated/numpy.trunc.html#numpy.trunc\"><code class=\"xref py py-obj docutils literal notranslate\"><span class=\"pre\">trunc</span></code></a>(x,&nbsp;/[,&nbsp;out,&nbsp;where,&nbsp;casting,&nbsp;order,&nbsp;&hellip;])</p>\n",
    "</td>\n",
    "<td>\n",
    "<p>Return the truncated value of the input, element-wise.</p>\n",
    "</td>\n",
    "</tr>\n",
    "</tbody>\n",
    "</table>\n",
    "</div>\n",
    "<div id=\"sums-products-differences\" class=\"section\">\n",
    "<h2>Sums, products, differences</h2>\n",
    "<table class=\"longtable docutils align-default\"><colgroup><col /><col /></colgroup>\n",
    "<tbody>\n",
    "<tr class=\"row-odd\">\n",
    "<td>\n",
    "<p><a class=\"reference internal\" title=\"numpy.prod\" href=\"https://numpy.org/doc/stable/reference/generated/numpy.prod.html#numpy.prod\"><code class=\"xref py py-obj docutils literal notranslate\"><span class=\"pre\">prod</span></code></a>(a[,&nbsp;axis,&nbsp;dtype,&nbsp;out,&nbsp;keepdims,&nbsp;&hellip;])</p>\n",
    "</td>\n",
    "<td>\n",
    "<p>Return the product of array elements over a given axis.</p>\n",
    "</td>\n",
    "</tr>\n",
    "<tr class=\"row-even\">\n",
    "<td>\n",
    "<p><a class=\"reference internal\" title=\"numpy.sum\" href=\"https://numpy.org/doc/stable/reference/generated/numpy.sum.html#numpy.sum\"><code class=\"xref py py-obj docutils literal notranslate\"><span class=\"pre\">sum</span></code></a>(a[,&nbsp;axis,&nbsp;dtype,&nbsp;out,&nbsp;keepdims,&nbsp;&hellip;])</p>\n",
    "</td>\n",
    "<td>\n",
    "<p>Sum of array elements over a given axis.</p>\n",
    "</td>\n",
    "</tr>\n",
    "<tr class=\"row-odd\">\n",
    "<td>\n",
    "<p><a class=\"reference internal\" title=\"numpy.nanprod\" href=\"https://numpy.org/doc/stable/reference/generated/numpy.nanprod.html#numpy.nanprod\"><code class=\"xref py py-obj docutils literal notranslate\"><span class=\"pre\">nanprod</span></code></a>(a[,&nbsp;axis,&nbsp;dtype,&nbsp;out,&nbsp;keepdims])</p>\n",
    "</td>\n",
    "<td>\n",
    "<p>Return the product of array elements over a given axis treating Not a Numbers (NaNs) as ones.</p>\n",
    "</td>\n",
    "</tr>\n",
    "<tr class=\"row-even\">\n",
    "<td>\n",
    "<p><a class=\"reference internal\" title=\"numpy.nansum\" href=\"https://numpy.org/doc/stable/reference/generated/numpy.nansum.html#numpy.nansum\"><code class=\"xref py py-obj docutils literal notranslate\"><span class=\"pre\">nansum</span></code></a>(a[,&nbsp;axis,&nbsp;dtype,&nbsp;out,&nbsp;keepdims])</p>\n",
    "</td>\n",
    "<td>\n",
    "<p>Return the sum of array elements over a given axis treating Not a Numbers (NaNs) as zero.</p>\n",
    "</td>\n",
    "</tr>\n",
    "<tr class=\"row-odd\">\n",
    "<td>\n",
    "<p><a class=\"reference internal\" title=\"numpy.cumprod\" href=\"https://numpy.org/doc/stable/reference/generated/numpy.cumprod.html#numpy.cumprod\"><code class=\"xref py py-obj docutils literal notranslate\"><span class=\"pre\">cumprod</span></code></a>(a[,&nbsp;axis,&nbsp;dtype,&nbsp;out])</p>\n",
    "</td>\n",
    "<td>\n",
    "<p>Return the cumulative product of elements along a given axis.</p>\n",
    "</td>\n",
    "</tr>\n",
    "<tr class=\"row-even\">\n",
    "<td>\n",
    "<p><a class=\"reference internal\" title=\"numpy.cumsum\" href=\"https://numpy.org/doc/stable/reference/generated/numpy.cumsum.html#numpy.cumsum\"><code class=\"xref py py-obj docutils literal notranslate\"><span class=\"pre\">cumsum</span></code></a>(a[,&nbsp;axis,&nbsp;dtype,&nbsp;out])</p>\n",
    "</td>\n",
    "<td>\n",
    "<p>Return the cumulative sum of the elements along a given axis.</p>\n",
    "</td>\n",
    "</tr>\n",
    "<tr class=\"row-odd\">\n",
    "<td>\n",
    "<p><a class=\"reference internal\" title=\"numpy.nancumprod\" href=\"https://numpy.org/doc/stable/reference/generated/numpy.nancumprod.html#numpy.nancumprod\"><code class=\"xref py py-obj docutils literal notranslate\"><span class=\"pre\">nancumprod</span></code></a>(a[,&nbsp;axis,&nbsp;dtype,&nbsp;out])</p>\n",
    "</td>\n",
    "<td>\n",
    "<p>Return the cumulative product of array elements over a given axis treating Not a Numbers (NaNs) as one.</p>\n",
    "</td>\n",
    "</tr>\n",
    "<tr class=\"row-even\">\n",
    "<td>\n",
    "<p><a class=\"reference internal\" title=\"numpy.nancumsum\" href=\"https://numpy.org/doc/stable/reference/generated/numpy.nancumsum.html#numpy.nancumsum\"><code class=\"xref py py-obj docutils literal notranslate\"><span class=\"pre\">nancumsum</span></code></a>(a[,&nbsp;axis,&nbsp;dtype,&nbsp;out])</p>\n",
    "</td>\n",
    "<td>\n",
    "<p>Return the cumulative sum of array elements over a given axis treating Not a Numbers (NaNs) as zero.</p>\n",
    "</td>\n",
    "</tr>\n",
    "<tr class=\"row-odd\">\n",
    "<td>\n",
    "<p><a class=\"reference internal\" title=\"numpy.diff\" href=\"https://numpy.org/doc/stable/reference/generated/numpy.diff.html#numpy.diff\"><code class=\"xref py py-obj docutils literal notranslate\"><span class=\"pre\">diff</span></code></a>(a[,&nbsp;n,&nbsp;axis,&nbsp;prepend,&nbsp;append])</p>\n",
    "</td>\n",
    "<td>\n",
    "<p>Calculate the n-th discrete difference along the given axis.</p>\n",
    "</td>\n",
    "</tr>\n",
    "<tr class=\"row-even\">\n",
    "<td>\n",
    "<p><a class=\"reference internal\" title=\"numpy.ediff1d\" href=\"https://numpy.org/doc/stable/reference/generated/numpy.ediff1d.html#numpy.ediff1d\"><code class=\"xref py py-obj docutils literal notranslate\"><span class=\"pre\">ediff1d</span></code></a>(ary[,&nbsp;to_end,&nbsp;to_begin])</p>\n",
    "</td>\n",
    "<td>\n",
    "<p>The differences between consecutive elements of an array.</p>\n",
    "</td>\n",
    "</tr>\n",
    "<tr class=\"row-odd\">\n",
    "<td>\n",
    "<p><a class=\"reference internal\" title=\"numpy.gradient\" href=\"https://numpy.org/doc/stable/reference/generated/numpy.gradient.html#numpy.gradient\"><code class=\"xref py py-obj docutils literal notranslate\"><span class=\"pre\">gradient</span></code></a>(f,&nbsp;\\*varargs[,&nbsp;axis,&nbsp;edge_order])</p>\n",
    "</td>\n",
    "<td>\n",
    "<p>Return the gradient of an N-dimensional array.</p>\n",
    "</td>\n",
    "</tr>\n",
    "<tr class=\"row-even\">\n",
    "<td>\n",
    "<p><a class=\"reference internal\" title=\"numpy.cross\" href=\"https://numpy.org/doc/stable/reference/generated/numpy.cross.html#numpy.cross\"><code class=\"xref py py-obj docutils literal notranslate\"><span class=\"pre\">cross</span></code></a>(a,&nbsp;b[,&nbsp;axisa,&nbsp;axisb,&nbsp;axisc,&nbsp;axis])</p>\n",
    "</td>\n",
    "<td>\n",
    "<p>Return the cross product of two (arrays of) vectors.</p>\n",
    "</td>\n",
    "</tr>\n",
    "<tr class=\"row-odd\">\n",
    "<td>\n",
    "<p><a class=\"reference internal\" title=\"numpy.trapz\" href=\"https://numpy.org/doc/stable/reference/generated/numpy.trapz.html#numpy.trapz\"><code class=\"xref py py-obj docutils literal notranslate\"><span class=\"pre\">trapz</span></code></a>(y[,&nbsp;x,&nbsp;dx,&nbsp;axis])</p>\n",
    "</td>\n",
    "<td>\n",
    "<p>Integrate along the given axis using the composite trapezoidal rule.</p>\n",
    "</td>\n",
    "</tr>\n",
    "</tbody>\n",
    "</table>\n",
    "</div>\n",
    "<div id=\"exponents-and-logarithms\" class=\"section\">\n",
    "<h2>Exponents and logarithms</h2>\n",
    "<table class=\"longtable docutils align-default\"><colgroup><col /><col /></colgroup>\n",
    "<tbody>\n",
    "<tr class=\"row-odd\">\n",
    "<td>\n",
    "<p><a class=\"reference internal\" title=\"numpy.exp\" href=\"https://numpy.org/doc/stable/reference/generated/numpy.exp.html#numpy.exp\"><code class=\"xref py py-obj docutils literal notranslate\"><span class=\"pre\">exp</span></code></a>(x,&nbsp;/[,&nbsp;out,&nbsp;where,&nbsp;casting,&nbsp;order,&nbsp;&hellip;])</p>\n",
    "</td>\n",
    "<td>\n",
    "<p>Calculate the exponential of all elements in the input array.</p>\n",
    "</td>\n",
    "</tr>\n",
    "<tr class=\"row-even\">\n",
    "<td>\n",
    "<p><a class=\"reference internal\" title=\"numpy.expm1\" href=\"https://numpy.org/doc/stable/reference/generated/numpy.expm1.html#numpy.expm1\"><code class=\"xref py py-obj docutils literal notranslate\"><span class=\"pre\">expm1</span></code></a>(x,&nbsp;/[,&nbsp;out,&nbsp;where,&nbsp;casting,&nbsp;order,&nbsp;&hellip;])</p>\n",
    "</td>\n",
    "<td>\n",
    "<p>Calculate&nbsp;<code class=\"docutils literal notranslate\"><span class=\"pre\">exp(x)</span>&nbsp;<span class=\"pre\">-</span>&nbsp;<span class=\"pre\">1</span></code>&nbsp;for all elements in the array.</p>\n",
    "</td>\n",
    "</tr>\n",
    "<tr class=\"row-odd\">\n",
    "<td>\n",
    "<p><a class=\"reference internal\" title=\"numpy.exp2\" href=\"https://numpy.org/doc/stable/reference/generated/numpy.exp2.html#numpy.exp2\"><code class=\"xref py py-obj docutils literal notranslate\"><span class=\"pre\">exp2</span></code></a>(x,&nbsp;/[,&nbsp;out,&nbsp;where,&nbsp;casting,&nbsp;order,&nbsp;&hellip;])</p>\n",
    "</td>\n",
    "<td>\n",
    "<p>Calculate&nbsp;<em class=\"xref py py-obj\">2**p</em>&nbsp;for all&nbsp;<em class=\"xref py py-obj\">p</em>&nbsp;in the input array.</p>\n",
    "</td>\n",
    "</tr>\n",
    "<tr class=\"row-even\">\n",
    "<td>\n",
    "<p><a class=\"reference internal\" title=\"numpy.log\" href=\"https://numpy.org/doc/stable/reference/generated/numpy.log.html#numpy.log\"><code class=\"xref py py-obj docutils literal notranslate\"><span class=\"pre\">log</span></code></a>(x,&nbsp;/[,&nbsp;out,&nbsp;where,&nbsp;casting,&nbsp;order,&nbsp;&hellip;])</p>\n",
    "</td>\n",
    "<td>\n",
    "<p>Natural logarithm, element-wise.</p>\n",
    "</td>\n",
    "</tr>\n",
    "<tr class=\"row-odd\">\n",
    "<td>\n",
    "<p><a class=\"reference internal\" title=\"numpy.log10\" href=\"https://numpy.org/doc/stable/reference/generated/numpy.log10.html#numpy.log10\"><code class=\"xref py py-obj docutils literal notranslate\"><span class=\"pre\">log10</span></code></a>(x,&nbsp;/[,&nbsp;out,&nbsp;where,&nbsp;casting,&nbsp;order,&nbsp;&hellip;])</p>\n",
    "</td>\n",
    "<td>\n",
    "<p>Return the base 10 logarithm of the input array, element-wise.</p>\n",
    "</td>\n",
    "</tr>\n",
    "<tr class=\"row-even\">\n",
    "<td>\n",
    "<p><a class=\"reference internal\" title=\"numpy.log2\" href=\"https://numpy.org/doc/stable/reference/generated/numpy.log2.html#numpy.log2\"><code class=\"xref py py-obj docutils literal notranslate\"><span class=\"pre\">log2</span></code></a>(x,&nbsp;/[,&nbsp;out,&nbsp;where,&nbsp;casting,&nbsp;order,&nbsp;&hellip;])</p>\n",
    "</td>\n",
    "<td>\n",
    "<p>Base-2 logarithm of&nbsp;<em class=\"xref py py-obj\">x</em>.</p>\n",
    "</td>\n",
    "</tr>\n",
    "<tr class=\"row-odd\">\n",
    "<td>\n",
    "<p><a class=\"reference internal\" title=\"numpy.log1p\" href=\"https://numpy.org/doc/stable/reference/generated/numpy.log1p.html#numpy.log1p\"><code class=\"xref py py-obj docutils literal notranslate\"><span class=\"pre\">log1p</span></code></a>(x,&nbsp;/[,&nbsp;out,&nbsp;where,&nbsp;casting,&nbsp;order,&nbsp;&hellip;])</p>\n",
    "</td>\n",
    "<td>\n",
    "<p>Return the natural logarithm of one plus the input array, element-wise.</p>\n",
    "</td>\n",
    "</tr>\n",
    "<tr class=\"row-even\">\n",
    "<td>\n",
    "<p><a class=\"reference internal\" title=\"numpy.logaddexp\" href=\"https://numpy.org/doc/stable/reference/generated/numpy.logaddexp.html#numpy.logaddexp\"><code class=\"xref py py-obj docutils literal notranslate\"><span class=\"pre\">logaddexp</span></code></a>(x1,&nbsp;x2,&nbsp;/[,&nbsp;out,&nbsp;where,&nbsp;casting,&nbsp;&hellip;])</p>\n",
    "</td>\n",
    "<td>\n",
    "<p>Logarithm of the sum of exponentiations of the inputs.</p>\n",
    "</td>\n",
    "</tr>\n",
    "<tr class=\"row-odd\">\n",
    "<td>\n",
    "<p><a class=\"reference internal\" title=\"numpy.logaddexp2\" href=\"https://numpy.org/doc/stable/reference/generated/numpy.logaddexp2.html#numpy.logaddexp2\"><code class=\"xref py py-obj docutils literal notranslate\"><span class=\"pre\">logaddexp2</span></code></a>(x1,&nbsp;x2,&nbsp;/[,&nbsp;out,&nbsp;where,&nbsp;casting,&nbsp;&hellip;])</p>\n",
    "</td>\n",
    "<td>\n",
    "<p>Logarithm of the sum of exponentiations of the inputs in base-2.</p>\n",
    "</td>\n",
    "</tr>\n",
    "</tbody>\n",
    "</table>\n",
    "</div>\n",
    "<div id=\"other-special-functions\" class=\"section\">\n",
    "<h2>Other special functions</h2>\n",
    "<table class=\"longtable docutils align-default\"><colgroup><col /><col /></colgroup>\n",
    "<tbody>\n",
    "<tr class=\"row-odd\">\n",
    "<td>\n",
    "<p><a class=\"reference internal\" title=\"numpy.i0\" href=\"https://numpy.org/doc/stable/reference/generated/numpy.i0.html#numpy.i0\"><code class=\"xref py py-obj docutils literal notranslate\"><span class=\"pre\">i0</span></code></a>(x)</p>\n",
    "</td>\n",
    "<td>\n",
    "<p>Modified Bessel function of the first kind, order 0.</p>\n",
    "</td>\n",
    "</tr>\n",
    "<tr class=\"row-even\">\n",
    "<td>\n",
    "<p><a class=\"reference internal\" title=\"numpy.sinc\" href=\"https://numpy.org/doc/stable/reference/generated/numpy.sinc.html#numpy.sinc\"><code class=\"xref py py-obj docutils literal notranslate\"><span class=\"pre\">sinc</span></code></a>(x)</p>\n",
    "</td>\n",
    "<td>\n",
    "<p>Return the sinc function.</p>\n",
    "</td>\n",
    "</tr>\n",
    "</tbody>\n",
    "</table>\n",
    "</div>\n",
    "<div id=\"floating-point-routines\" class=\"section\">\n",
    "<h2>Floating point routines</h2>\n",
    "<table class=\"longtable docutils align-default\"><colgroup><col /><col /></colgroup>\n",
    "<tbody>\n",
    "<tr class=\"row-odd\">\n",
    "<td>\n",
    "<p><a class=\"reference internal\" title=\"numpy.signbit\" href=\"https://numpy.org/doc/stable/reference/generated/numpy.signbit.html#numpy.signbit\"><code class=\"xref py py-obj docutils literal notranslate\"><span class=\"pre\">signbit</span></code></a>(x,&nbsp;/[,&nbsp;out,&nbsp;where,&nbsp;casting,&nbsp;order,&nbsp;&hellip;])</p>\n",
    "</td>\n",
    "<td>\n",
    "<p>Returns element-wise True where signbit is set (less than zero).</p>\n",
    "</td>\n",
    "</tr>\n",
    "<tr class=\"row-even\">\n",
    "<td>\n",
    "<p><a class=\"reference internal\" title=\"numpy.copysign\" href=\"https://numpy.org/doc/stable/reference/generated/numpy.copysign.html#numpy.copysign\"><code class=\"xref py py-obj docutils literal notranslate\"><span class=\"pre\">copysign</span></code></a>(x1,&nbsp;x2,&nbsp;/[,&nbsp;out,&nbsp;where,&nbsp;casting,&nbsp;&hellip;])</p>\n",
    "</td>\n",
    "<td>\n",
    "<p>Change the sign of x1 to that of x2, element-wise.</p>\n",
    "</td>\n",
    "</tr>\n",
    "<tr class=\"row-odd\">\n",
    "<td>\n",
    "<p><a class=\"reference internal\" title=\"numpy.frexp\" href=\"https://numpy.org/doc/stable/reference/generated/numpy.frexp.html#numpy.frexp\"><code class=\"xref py py-obj docutils literal notranslate\"><span class=\"pre\">frexp</span></code></a>(x[,&nbsp;out1,&nbsp;out2],&nbsp;/&nbsp;[[,&nbsp;out,&nbsp;where,&nbsp;&hellip;])</p>\n",
    "</td>\n",
    "<td>\n",
    "<p>Decompose the elements of x into mantissa and twos exponent.</p>\n",
    "</td>\n",
    "</tr>\n",
    "<tr class=\"row-even\">\n",
    "<td>\n",
    "<p><a class=\"reference internal\" title=\"numpy.ldexp\" href=\"https://numpy.org/doc/stable/reference/generated/numpy.ldexp.html#numpy.ldexp\"><code class=\"xref py py-obj docutils literal notranslate\"><span class=\"pre\">ldexp</span></code></a>(x1,&nbsp;x2,&nbsp;/[,&nbsp;out,&nbsp;where,&nbsp;casting,&nbsp;&hellip;])</p>\n",
    "</td>\n",
    "<td>\n",
    "<p>Returns x1 * 2**x2, element-wise.</p>\n",
    "</td>\n",
    "</tr>\n",
    "<tr class=\"row-odd\">\n",
    "<td>\n",
    "<p><a class=\"reference internal\" title=\"numpy.nextafter\" href=\"https://numpy.org/doc/stable/reference/generated/numpy.nextafter.html#numpy.nextafter\"><code class=\"xref py py-obj docutils literal notranslate\"><span class=\"pre\">nextafter</span></code></a>(x1,&nbsp;x2,&nbsp;/[,&nbsp;out,&nbsp;where,&nbsp;casting,&nbsp;&hellip;])</p>\n",
    "</td>\n",
    "<td>\n",
    "<p>Return the next floating-point value after x1 towards x2, element-wise.</p>\n",
    "</td>\n",
    "</tr>\n",
    "<tr class=\"row-even\">\n",
    "<td>\n",
    "<p><a class=\"reference internal\" title=\"numpy.spacing\" href=\"https://numpy.org/doc/stable/reference/generated/numpy.spacing.html#numpy.spacing\"><code class=\"xref py py-obj docutils literal notranslate\"><span class=\"pre\">spacing</span></code></a>(x,&nbsp;/[,&nbsp;out,&nbsp;where,&nbsp;casting,&nbsp;order,&nbsp;&hellip;])</p>\n",
    "</td>\n",
    "<td>\n",
    "<p>Return the distance between x and the nearest adjacent number.</p>\n",
    "</td>\n",
    "</tr>\n",
    "</tbody>\n",
    "</table>\n",
    "</div>\n",
    "<div id=\"rational-routines\" class=\"section\">\n",
    "<h2>Rational routines</h2>\n",
    "<table class=\"longtable docutils align-default\"><colgroup><col /><col /></colgroup>\n",
    "<tbody>\n",
    "<tr class=\"row-odd\">\n",
    "<td>\n",
    "<p><a class=\"reference internal\" title=\"numpy.lcm\" href=\"https://numpy.org/doc/stable/reference/generated/numpy.lcm.html#numpy.lcm\"><code class=\"xref py py-obj docutils literal notranslate\"><span class=\"pre\">lcm</span></code></a>(x1,&nbsp;x2,&nbsp;/[,&nbsp;out,&nbsp;where,&nbsp;casting,&nbsp;order,&nbsp;&hellip;])</p>\n",
    "</td>\n",
    "<td>\n",
    "<p>Returns the lowest common multiple of&nbsp;<code class=\"docutils literal notranslate\"><span class=\"pre\">|x1|</span></code>&nbsp;and&nbsp;<code class=\"docutils literal notranslate\"><span class=\"pre\">|x2|</span></code></p>\n",
    "</td>\n",
    "</tr>\n",
    "<tr class=\"row-even\">\n",
    "<td>\n",
    "<p><a class=\"reference internal\" title=\"numpy.gcd\" href=\"https://numpy.org/doc/stable/reference/generated/numpy.gcd.html#numpy.gcd\"><code class=\"xref py py-obj docutils literal notranslate\"><span class=\"pre\">gcd</span></code></a>(x1,&nbsp;x2,&nbsp;/[,&nbsp;out,&nbsp;where,&nbsp;casting,&nbsp;order,&nbsp;&hellip;])</p>\n",
    "</td>\n",
    "<td>\n",
    "<p>Returns the greatest common divisor of&nbsp;<code class=\"docutils literal notranslate\"><span class=\"pre\">|x1|</span></code>&nbsp;and&nbsp;<code class=\"docutils literal notranslate\"><span class=\"pre\">|x2|</span></code></p>\n",
    "</td>\n",
    "</tr>\n",
    "</tbody>\n",
    "</table>\n",
    "</div>\n",
    "<div id=\"arithmetic-operations\" class=\"section\">\n",
    "<h2><span class=\"highlighted\">Arithmetic</span>&nbsp;operations</h2>\n",
    "<table class=\"longtable docutils align-default\"><colgroup><col /><col /></colgroup>\n",
    "<tbody>\n",
    "<tr class=\"row-odd\">\n",
    "<td>\n",
    "<p><a class=\"reference internal\" title=\"numpy.add\" href=\"https://numpy.org/doc/stable/reference/generated/numpy.add.html#numpy.add\"><code class=\"xref py py-obj docutils literal notranslate\"><span class=\"pre\">add</span></code></a>(x1,&nbsp;x2,&nbsp;/[,&nbsp;out,&nbsp;where,&nbsp;casting,&nbsp;order,&nbsp;&hellip;])</p>\n",
    "</td>\n",
    "<td>\n",
    "<p>Add arguments element-wise.</p>\n",
    "</td>\n",
    "</tr>\n",
    "<tr class=\"row-even\">\n",
    "<td>\n",
    "<p><a class=\"reference internal\" title=\"numpy.reciprocal\" href=\"https://numpy.org/doc/stable/reference/generated/numpy.reciprocal.html#numpy.reciprocal\"><code class=\"xref py py-obj docutils literal notranslate\"><span class=\"pre\">reciprocal</span></code></a>(x,&nbsp;/[,&nbsp;out,&nbsp;where,&nbsp;casting,&nbsp;&hellip;])</p>\n",
    "</td>\n",
    "<td>\n",
    "<p>Return the reciprocal of the argument, element-wise.</p>\n",
    "</td>\n",
    "</tr>\n",
    "<tr class=\"row-odd\">\n",
    "<td>\n",
    "<p><a class=\"reference internal\" title=\"numpy.positive\" href=\"https://numpy.org/doc/stable/reference/generated/numpy.positive.html#numpy.positive\"><code class=\"xref py py-obj docutils literal notranslate\"><span class=\"pre\">positive</span></code></a>(x,&nbsp;/[,&nbsp;out,&nbsp;where,&nbsp;casting,&nbsp;order,&nbsp;&hellip;])</p>\n",
    "</td>\n",
    "<td>\n",
    "<p>Numerical positive, element-wise.</p>\n",
    "</td>\n",
    "</tr>\n",
    "<tr class=\"row-even\">\n",
    "<td>\n",
    "<p><a class=\"reference internal\" title=\"numpy.negative\" href=\"https://numpy.org/doc/stable/reference/generated/numpy.negative.html#numpy.negative\"><code class=\"xref py py-obj docutils literal notranslate\"><span class=\"pre\">negative</span></code></a>(x,&nbsp;/[,&nbsp;out,&nbsp;where,&nbsp;casting,&nbsp;order,&nbsp;&hellip;])</p>\n",
    "</td>\n",
    "<td>\n",
    "<p>Numerical negative, element-wise.</p>\n",
    "</td>\n",
    "</tr>\n",
    "<tr class=\"row-odd\">\n",
    "<td>\n",
    "<p><a class=\"reference internal\" title=\"numpy.multiply\" href=\"https://numpy.org/doc/stable/reference/generated/numpy.multiply.html#numpy.multiply\"><code class=\"xref py py-obj docutils literal notranslate\"><span class=\"pre\">multiply</span></code></a>(x1,&nbsp;x2,&nbsp;/[,&nbsp;out,&nbsp;where,&nbsp;casting,&nbsp;&hellip;])</p>\n",
    "</td>\n",
    "<td>\n",
    "<p>Multiply arguments element-wise.</p>\n",
    "</td>\n",
    "</tr>\n",
    "<tr class=\"row-even\">\n",
    "<td>\n",
    "<p><a class=\"reference internal\" title=\"numpy.divide\" href=\"https://numpy.org/doc/stable/reference/generated/numpy.divide.html#numpy.divide\"><code class=\"xref py py-obj docutils literal notranslate\"><span class=\"pre\">divide</span></code></a>(x1,&nbsp;x2,&nbsp;/[,&nbsp;out,&nbsp;where,&nbsp;casting,&nbsp;&hellip;])</p>\n",
    "</td>\n",
    "<td>\n",
    "<p>Returns a true division of the inputs, element-wise.</p>\n",
    "</td>\n",
    "</tr>\n",
    "<tr class=\"row-odd\">\n",
    "<td>\n",
    "<p><a class=\"reference internal\" title=\"numpy.power\" href=\"https://numpy.org/doc/stable/reference/generated/numpy.power.html#numpy.power\"><code class=\"xref py py-obj docutils literal notranslate\"><span class=\"pre\">power</span></code></a>(x1,&nbsp;x2,&nbsp;/[,&nbsp;out,&nbsp;where,&nbsp;casting,&nbsp;&hellip;])</p>\n",
    "</td>\n",
    "<td>\n",
    "<p>First array elements raised to powers from second array, element-wise.</p>\n",
    "</td>\n",
    "</tr>\n",
    "<tr class=\"row-even\">\n",
    "<td>\n",
    "<p><a class=\"reference internal\" title=\"numpy.subtract\" href=\"https://numpy.org/doc/stable/reference/generated/numpy.subtract.html#numpy.subtract\"><code class=\"xref py py-obj docutils literal notranslate\"><span class=\"pre\">subtract</span></code></a>(x1,&nbsp;x2,&nbsp;/[,&nbsp;out,&nbsp;where,&nbsp;casting,&nbsp;&hellip;])</p>\n",
    "</td>\n",
    "<td>\n",
    "<p>Subtract arguments, element-wise.</p>\n",
    "</td>\n",
    "</tr>\n",
    "<tr class=\"row-odd\">\n",
    "<td>\n",
    "<p><a class=\"reference internal\" title=\"numpy.true_divide\" href=\"https://numpy.org/doc/stable/reference/generated/numpy.true_divide.html#numpy.true_divide\"><code class=\"xref py py-obj docutils literal notranslate\"><span class=\"pre\">true_divide</span></code></a>(x1,&nbsp;x2,&nbsp;/[,&nbsp;out,&nbsp;where,&nbsp;&hellip;])</p>\n",
    "</td>\n",
    "<td>\n",
    "<p>Returns a true division of the inputs, element-wise.</p>\n",
    "</td>\n",
    "</tr>\n",
    "<tr class=\"row-even\">\n",
    "<td>\n",
    "<p><a class=\"reference internal\" title=\"numpy.floor_divide\" href=\"https://numpy.org/doc/stable/reference/generated/numpy.floor_divide.html#numpy.floor_divide\"><code class=\"xref py py-obj docutils literal notranslate\"><span class=\"pre\">floor_divide</span></code></a>(x1,&nbsp;x2,&nbsp;/[,&nbsp;out,&nbsp;where,&nbsp;&hellip;])</p>\n",
    "</td>\n",
    "<td>\n",
    "<p>Return the largest integer smaller or equal to the division of the inputs.</p>\n",
    "</td>\n",
    "</tr>\n",
    "<tr class=\"row-odd\">\n",
    "<td>\n",
    "<p><a class=\"reference internal\" title=\"numpy.float_power\" href=\"https://numpy.org/doc/stable/reference/generated/numpy.float_power.html#numpy.float_power\"><code class=\"xref py py-obj docutils literal notranslate\"><span class=\"pre\">float_power</span></code></a>(x1,&nbsp;x2,&nbsp;/[,&nbsp;out,&nbsp;where,&nbsp;&hellip;])</p>\n",
    "</td>\n",
    "<td>\n",
    "<p>First array elements raised to powers from second array, element-wise.</p>\n",
    "</td>\n",
    "</tr>\n",
    "<tr class=\"row-even\">\n",
    "<td>\n",
    "<p><a class=\"reference internal\" title=\"numpy.fmod\" href=\"https://numpy.org/doc/stable/reference/generated/numpy.fmod.html#numpy.fmod\"><code class=\"xref py py-obj docutils literal notranslate\"><span class=\"pre\">fmod</span></code></a>(x1,&nbsp;x2,&nbsp;/[,&nbsp;out,&nbsp;where,&nbsp;casting,&nbsp;&hellip;])</p>\n",
    "</td>\n",
    "<td>\n",
    "<p>Return the element-wise remainder of division.</p>\n",
    "</td>\n",
    "</tr>\n",
    "<tr class=\"row-odd\">\n",
    "<td>\n",
    "<p><a class=\"reference internal\" title=\"numpy.mod\" href=\"https://numpy.org/doc/stable/reference/generated/numpy.mod.html#numpy.mod\"><code class=\"xref py py-obj docutils literal notranslate\"><span class=\"pre\">mod</span></code></a>(x1,&nbsp;x2,&nbsp;/[,&nbsp;out,&nbsp;where,&nbsp;casting,&nbsp;order,&nbsp;&hellip;])</p>\n",
    "</td>\n",
    "<td>\n",
    "<p>Return element-wise remainder of division.</p>\n",
    "</td>\n",
    "</tr>\n",
    "<tr class=\"row-even\">\n",
    "<td>\n",
    "<p><a class=\"reference internal\" title=\"numpy.modf\" href=\"https://numpy.org/doc/stable/reference/generated/numpy.modf.html#numpy.modf\"><code class=\"xref py py-obj docutils literal notranslate\"><span class=\"pre\">modf</span></code></a>(x[,&nbsp;out1,&nbsp;out2],&nbsp;/&nbsp;[[,&nbsp;out,&nbsp;where,&nbsp;&hellip;])</p>\n",
    "</td>\n",
    "<td>\n",
    "<p>Return the fractional and integral parts of an array, element-wise.</p>\n",
    "</td>\n",
    "</tr>\n",
    "<tr class=\"row-odd\">\n",
    "<td>\n",
    "<p><a class=\"reference internal\" title=\"numpy.remainder\" href=\"https://numpy.org/doc/stable/reference/generated/numpy.remainder.html#numpy.remainder\"><code class=\"xref py py-obj docutils literal notranslate\"><span class=\"pre\">remainder</span></code></a>(x1,&nbsp;x2,&nbsp;/[,&nbsp;out,&nbsp;where,&nbsp;casting,&nbsp;&hellip;])</p>\n",
    "</td>\n",
    "<td>\n",
    "<p>Return element-wise remainder of division.</p>\n",
    "</td>\n",
    "</tr>\n",
    "<tr class=\"row-even\">\n",
    "<td>\n",
    "<p><a class=\"reference internal\" title=\"numpy.divmod\" href=\"https://numpy.org/doc/stable/reference/generated/numpy.divmod.html#numpy.divmod\"><code class=\"xref py py-obj docutils literal notranslate\"><span class=\"pre\">divmod</span></code></a>(x1,&nbsp;x2[,&nbsp;out1,&nbsp;out2],&nbsp;/&nbsp;[[,&nbsp;out,&nbsp;&hellip;])</p>\n",
    "</td>\n",
    "<td>\n",
    "<p>Return element-wise quotient and remainder simultaneously.</p>\n",
    "</td>\n",
    "</tr>\n",
    "</tbody>\n",
    "</table>\n",
    "</div>\n",
    "<div id=\"handling-complex-numbers\" class=\"section\">\n",
    "<h2>Handling complex numbers</h2>\n",
    "<table class=\"longtable docutils align-default\"><colgroup><col /><col /></colgroup>\n",
    "<tbody>\n",
    "<tr class=\"row-odd\">\n",
    "<td>\n",
    "<p><a class=\"reference internal\" title=\"numpy.angle\" href=\"https://numpy.org/doc/stable/reference/generated/numpy.angle.html#numpy.angle\"><code class=\"xref py py-obj docutils literal notranslate\"><span class=\"pre\">angle</span></code></a>(z[,&nbsp;deg])</p>\n",
    "</td>\n",
    "<td>\n",
    "<p>Return the angle of the complex argument.</p>\n",
    "</td>\n",
    "</tr>\n",
    "<tr class=\"row-even\">\n",
    "<td>\n",
    "<p><a class=\"reference internal\" title=\"numpy.real\" href=\"https://numpy.org/doc/stable/reference/generated/numpy.real.html#numpy.real\"><code class=\"xref py py-obj docutils literal notranslate\"><span class=\"pre\">real</span></code></a>(val)</p>\n",
    "</td>\n",
    "<td>\n",
    "<p>Return the real part of the complex argument.</p>\n",
    "</td>\n",
    "</tr>\n",
    "<tr class=\"row-odd\">\n",
    "<td>\n",
    "<p><a class=\"reference internal\" title=\"numpy.imag\" href=\"https://numpy.org/doc/stable/reference/generated/numpy.imag.html#numpy.imag\"><code class=\"xref py py-obj docutils literal notranslate\"><span class=\"pre\">imag</span></code></a>(val)</p>\n",
    "</td>\n",
    "<td>\n",
    "<p>Return the imaginary part of the complex argument.</p>\n",
    "</td>\n",
    "</tr>\n",
    "<tr class=\"row-even\">\n",
    "<td>\n",
    "<p><a class=\"reference internal\" title=\"numpy.conj\" href=\"https://numpy.org/doc/stable/reference/generated/numpy.conj.html#numpy.conj\"><code class=\"xref py py-obj docutils literal notranslate\"><span class=\"pre\">conj</span></code></a>(x,&nbsp;/[,&nbsp;out,&nbsp;where,&nbsp;casting,&nbsp;order,&nbsp;&hellip;])</p>\n",
    "</td>\n",
    "<td>\n",
    "<p>Return the complex conjugate, element-wise.</p>\n",
    "</td>\n",
    "</tr>\n",
    "<tr class=\"row-odd\">\n",
    "<td>\n",
    "<p><a class=\"reference internal\" title=\"numpy.conjugate\" href=\"https://numpy.org/doc/stable/reference/generated/numpy.conjugate.html#numpy.conjugate\"><code class=\"xref py py-obj docutils literal notranslate\"><span class=\"pre\">conjugate</span></code></a>(x,&nbsp;/[,&nbsp;out,&nbsp;where,&nbsp;casting,&nbsp;&hellip;])</p>\n",
    "</td>\n",
    "<td>\n",
    "<p>Return the complex conjugate, element-wise.</p>\n",
    "</td>\n",
    "</tr>\n",
    "</tbody>\n",
    "</table>\n",
    "</div>\n",
    "<div id=\"miscellaneous\" class=\"section\">\n",
    "<h2>Miscellaneous</h2>\n",
    "<table class=\"longtable docutils align-default\"><colgroup><col /><col /></colgroup>\n",
    "<tbody>\n",
    "<tr class=\"row-odd\">\n",
    "<td>\n",
    "<p><a class=\"reference internal\" title=\"numpy.convolve\" href=\"https://numpy.org/doc/stable/reference/generated/numpy.convolve.html#numpy.convolve\"><code class=\"xref py py-obj docutils literal notranslate\"><span class=\"pre\">convolve</span></code></a>(a,&nbsp;v[,&nbsp;mode])</p>\n",
    "</td>\n",
    "<td>\n",
    "<p>Returns the discrete, linear convolution of two one-dimensional sequences.</p>\n",
    "</td>\n",
    "</tr>\n",
    "<tr class=\"row-even\">\n",
    "<td>\n",
    "<p><a class=\"reference internal\" title=\"numpy.clip\" href=\"https://numpy.org/doc/stable/reference/generated/numpy.clip.html#numpy.clip\"><code class=\"xref py py-obj docutils literal notranslate\"><span class=\"pre\">clip</span></code></a>(a,&nbsp;a_min,&nbsp;a_max[,&nbsp;out])</p>\n",
    "</td>\n",
    "<td>\n",
    "<p>Clip (limit) the values in an array.</p>\n",
    "</td>\n",
    "</tr>\n",
    "<tr class=\"row-odd\">\n",
    "<td>\n",
    "<p><a class=\"reference internal\" title=\"numpy.sqrt\" href=\"https://numpy.org/doc/stable/reference/generated/numpy.sqrt.html#numpy.sqrt\"><code class=\"xref py py-obj docutils literal notranslate\"><span class=\"pre\">sqrt</span></code></a>(x,&nbsp;/[,&nbsp;out,&nbsp;where,&nbsp;casting,&nbsp;order,&nbsp;&hellip;])</p>\n",
    "</td>\n",
    "<td>\n",
    "<p>Return the non-negative square-root of an array, element-wise.</p>\n",
    "</td>\n",
    "</tr>\n",
    "<tr class=\"row-even\">\n",
    "<td>\n",
    "<p><a class=\"reference internal\" title=\"numpy.cbrt\" href=\"https://numpy.org/doc/stable/reference/generated/numpy.cbrt.html#numpy.cbrt\"><code class=\"xref py py-obj docutils literal notranslate\"><span class=\"pre\">cbrt</span></code></a>(x,&nbsp;/[,&nbsp;out,&nbsp;where,&nbsp;casting,&nbsp;order,&nbsp;&hellip;])</p>\n",
    "</td>\n",
    "<td>\n",
    "<p>Return the cube-root of an array, element-wise.</p>\n",
    "</td>\n",
    "</tr>\n",
    "<tr class=\"row-odd\">\n",
    "<td>\n",
    "<p><a class=\"reference internal\" title=\"numpy.square\" href=\"https://numpy.org/doc/stable/reference/generated/numpy.square.html#numpy.square\"><code class=\"xref py py-obj docutils literal notranslate\"><span class=\"pre\">square</span></code></a>(x,&nbsp;/[,&nbsp;out,&nbsp;where,&nbsp;casting,&nbsp;order,&nbsp;&hellip;])</p>\n",
    "</td>\n",
    "<td>\n",
    "<p>Return the element-wise square of the input.</p>\n",
    "</td>\n",
    "</tr>\n",
    "<tr class=\"row-even\">\n",
    "<td>\n",
    "<p><a class=\"reference internal\" title=\"numpy.absolute\" href=\"https://numpy.org/doc/stable/reference/generated/numpy.absolute.html#numpy.absolute\"><code class=\"xref py py-obj docutils literal notranslate\"><span class=\"pre\">absolute</span></code></a>(x,&nbsp;/[,&nbsp;out,&nbsp;where,&nbsp;casting,&nbsp;order,&nbsp;&hellip;])</p>\n",
    "</td>\n",
    "<td>\n",
    "<p>Calculate the absolute value element-wise.</p>\n",
    "</td>\n",
    "</tr>\n",
    "<tr class=\"row-odd\">\n",
    "<td>\n",
    "<p><a class=\"reference internal\" title=\"numpy.fabs\" href=\"https://numpy.org/doc/stable/reference/generated/numpy.fabs.html#numpy.fabs\"><code class=\"xref py py-obj docutils literal notranslate\"><span class=\"pre\">fabs</span></code></a>(x,&nbsp;/[,&nbsp;out,&nbsp;where,&nbsp;casting,&nbsp;order,&nbsp;&hellip;])</p>\n",
    "</td>\n",
    "<td>\n",
    "<p>Compute the absolute values element-wise.</p>\n",
    "</td>\n",
    "</tr>\n",
    "<tr class=\"row-even\">\n",
    "<td>\n",
    "<p><a class=\"reference internal\" title=\"numpy.sign\" href=\"https://numpy.org/doc/stable/reference/generated/numpy.sign.html#numpy.sign\"><code class=\"xref py py-obj docutils literal notranslate\"><span class=\"pre\">sign</span></code></a>(x,&nbsp;/[,&nbsp;out,&nbsp;where,&nbsp;casting,&nbsp;order,&nbsp;&hellip;])</p>\n",
    "</td>\n",
    "<td>\n",
    "<p>Returns an element-wise indication of the sign of a number.</p>\n",
    "</td>\n",
    "</tr>\n",
    "<tr class=\"row-odd\">\n",
    "<td>\n",
    "<p><a class=\"reference internal\" title=\"numpy.heaviside\" href=\"https://numpy.org/doc/stable/reference/generated/numpy.heaviside.html#numpy.heaviside\"><code class=\"xref py py-obj docutils literal notranslate\"><span class=\"pre\">heaviside</span></code></a>(x1,&nbsp;x2,&nbsp;/[,&nbsp;out,&nbsp;where,&nbsp;casting,&nbsp;&hellip;])</p>\n",
    "</td>\n",
    "<td>\n",
    "<p>Compute the Heaviside step function.</p>\n",
    "</td>\n",
    "</tr>\n",
    "<tr class=\"row-even\">\n",
    "<td>\n",
    "<p><a class=\"reference internal\" title=\"numpy.maximum\" href=\"https://numpy.org/doc/stable/reference/generated/numpy.maximum.html#numpy.maximum\"><code class=\"xref py py-obj docutils literal notranslate\"><span class=\"pre\">maximum</span></code></a>(x1,&nbsp;x2,&nbsp;/[,&nbsp;out,&nbsp;where,&nbsp;casting,&nbsp;&hellip;])</p>\n",
    "</td>\n",
    "<td>\n",
    "<p>Element-wise maximum of array elements.</p>\n",
    "</td>\n",
    "</tr>\n",
    "<tr class=\"row-odd\">\n",
    "<td>\n",
    "<p><a class=\"reference internal\" title=\"numpy.minimum\" href=\"https://numpy.org/doc/stable/reference/generated/numpy.minimum.html#numpy.minimum\"><code class=\"xref py py-obj docutils literal notranslate\"><span class=\"pre\">minimum</span></code></a>(x1,&nbsp;x2,&nbsp;/[,&nbsp;out,&nbsp;where,&nbsp;casting,&nbsp;&hellip;])</p>\n",
    "</td>\n",
    "<td>\n",
    "<p>Element-wise minimum of array elements.</p>\n",
    "</td>\n",
    "</tr>\n",
    "<tr class=\"row-even\">\n",
    "<td>\n",
    "<p><a class=\"reference internal\" title=\"numpy.fmax\" href=\"https://numpy.org/doc/stable/reference/generated/numpy.fmax.html#numpy.fmax\"><code class=\"xref py py-obj docutils literal notranslate\"><span class=\"pre\">fmax</span></code></a>(x1,&nbsp;x2,&nbsp;/[,&nbsp;out,&nbsp;where,&nbsp;casting,&nbsp;&hellip;])</p>\n",
    "</td>\n",
    "<td>\n",
    "<p>Element-wise maximum of array elements.</p>\n",
    "</td>\n",
    "</tr>\n",
    "<tr class=\"row-odd\">\n",
    "<td>\n",
    "<p><a class=\"reference internal\" title=\"numpy.fmin\" href=\"https://numpy.org/doc/stable/reference/generated/numpy.fmin.html#numpy.fmin\"><code class=\"xref py py-obj docutils literal notranslate\"><span class=\"pre\">fmin</span></code></a>(x1,&nbsp;x2,&nbsp;/[,&nbsp;out,&nbsp;where,&nbsp;casting,&nbsp;&hellip;])</p>\n",
    "</td>\n",
    "<td>\n",
    "<p>Element-wise minimum of array elements.</p>\n",
    "</td>\n",
    "</tr>\n",
    "<tr class=\"row-even\">\n",
    "<td>\n",
    "<p><a class=\"reference internal\" title=\"numpy.nan_to_num\" href=\"https://numpy.org/doc/stable/reference/generated/numpy.nan_to_num.html#numpy.nan_to_num\"><code class=\"xref py py-obj docutils literal notranslate\"><span class=\"pre\">nan_to_num</span></code></a>(x[,&nbsp;copy,&nbsp;nan,&nbsp;posinf,&nbsp;neginf])</p>\n",
    "</td>\n",
    "<td>\n",
    "<p>Replace NaN with zero and infinity with large finite numbers (default behaviour) or with the numbers defined by the user using the&nbsp;<a class=\"reference internal\" title=\"numpy.nan\" href=\"https://numpy.org/doc/stable/reference/constants.html#numpy.nan\"><code class=\"xref py py-obj docutils literal notranslate\"><span class=\"pre\">nan</span></code></a>,&nbsp;<em class=\"xref py py-obj\">posinf</em>&nbsp;and/or&nbsp;<em class=\"xref py py-obj\">neginf</em>&nbsp;keywords.</p>\n",
    "</td>\n",
    "</tr>\n",
    "<tr class=\"row-odd\">\n",
    "<td>\n",
    "<p><a class=\"reference internal\" title=\"numpy.real_if_close\" href=\"https://numpy.org/doc/stable/reference/generated/numpy.real_if_close.html#numpy.real_if_close\"><code class=\"xref py py-obj docutils literal notranslate\"><span class=\"pre\">real_if_close</span></code></a>(a[,&nbsp;tol])</p>\n",
    "</td>\n",
    "<td>\n",
    "<p>If input is complex with all imaginary parts close to zero, return real parts.</p>\n",
    "</td>\n",
    "</tr>\n",
    "<tr class=\"row-even\">\n",
    "<td>\n",
    "<p><a class=\"reference internal\" title=\"numpy.interp\" href=\"https://numpy.org/doc/stable/reference/generated/numpy.interp.html#numpy.interp\"><code class=\"xref py py-obj docutils literal notranslate\"><span class=\"pre\">interp</span></code></a>(x,&nbsp;xp,&nbsp;fp[,&nbsp;left,&nbsp;right,&nbsp;period])</p>\n",
    "</td>\n",
    "<td>\n",
    "<p>One-dimensional linear interpolation.</p>\n",
    "</td>\n",
    "</tr>\n",
    "</tbody>\n",
    "</table>\n",
    "</div>"
   ]
  },
  {
   "cell_type": "markdown",
   "metadata": {},
   "source": [
    "<h1>Array Broadcasting in Numpy</h1>\n",
    "<p>Let&rsquo;s explore a more advanced concept in numpy called broadcasting. The term broadcasting describes how numpy treats arrays with different shapes during arithmetic operations. Subject to certain constraints, the smaller array is &ldquo;broadcast&rdquo; across the larger array so that they have compatible shapes. Broadcasting provides a means of vectorizing array operations so that looping occurs in C instead of Python. It does this without making needless copies of data and usually leads to efficient algorithm implementations. There are also cases where broadcasting is a bad idea because it leads to inefficient use of memory that slows computation. This article provides a gentle introduction to broadcasting with numerous examples ranging from simple to involved. It also provides hints on when and when not to use broadcasting.</p>\n",
    "<p>numpy operations are usually done element-by-element which requires two arrays to have exactly the same shape:</p>\n",
    "<div id=\"example-1\" class=\"literal-block-wrapper docutils container\">\n",
    "<div class=\"code-block-caption\"><span class=\"caption-text\">Example 1</span></div>\n",
    "<div class=\"highlight-python notranslate\">\n",
    "<div class=\"highlight\"><span class=\"copybutton\" title=\"Hide the prompts and output\">&gt;&gt;&gt;</span>\n",
    "<pre><span class=\"gp\">&gt;&gt;&gt; </span><span class=\"kn\">from</span> <span class=\"nn\">numpy</span> <span class=\"kn\">import</span> <span class=\"n\">array</span>\n",
    "<span class=\"gp\">&gt;&gt;&gt; </span><span class=\"n\">a</span> <span class=\"o\">=</span> <span class=\"n\">array</span><span class=\"p\">([</span><span class=\"mf\">1.0</span><span class=\"p\">,</span> <span class=\"mf\">2.0</span><span class=\"p\">,</span> <span class=\"mf\">3.0</span><span class=\"p\">])</span>\n",
    "<span class=\"gp\">&gt;&gt;&gt; </span><span class=\"n\">b</span> <span class=\"o\">=</span> <span class=\"n\">array</span><span class=\"p\">([</span><span class=\"mf\">2.0</span><span class=\"p\">,</span> <span class=\"mf\">2.0</span><span class=\"p\">,</span> <span class=\"mf\">2.0</span><span class=\"p\">])</span>\n",
    "<span class=\"gp\">&gt;&gt;&gt; </span><span class=\"n\">a</span> <span class=\"o\">*</span> <span class=\"n\">b</span>\n",
    "<span class=\"go\">array([ 2.,  4.,  6.])</span>\n",
    "</pre>\n",
    "</div>\n",
    "</div>\n",
    "</div>\n",
    "<p>numpy&rsquo;s broadcasting rule relaxes this constraint when the arrays&rsquo; shapes meet certain constraints. The simplest broadcasting example occurs when an array and a scalar value are combined in an operation:</p>\n",
    "<div id=\"example-2\" class=\"literal-block-wrapper docutils container\">\n",
    "<div class=\"code-block-caption\"><span class=\"caption-text\">Example 2</span></div>\n",
    "<div class=\"highlight-python notranslate\">\n",
    "<div class=\"highlight\"><span class=\"copybutton\" title=\"Hide the prompts and output\">&gt;&gt;&gt;</span>\n",
    "<pre><span class=\"gp\">&gt;&gt;&gt; </span><span class=\"kn\">from</span> <span class=\"nn\">numpy</span> <span class=\"kn\">import</span> <span class=\"n\">array</span>\n",
    "<span class=\"gp\">&gt;&gt;&gt; </span><span class=\"n\">a</span> <span class=\"o\">=</span> <span class=\"n\">array</span><span class=\"p\">([</span><span class=\"mf\">1.0</span><span class=\"p\">,</span><span class=\"mf\">2.0</span><span class=\"p\">,</span><span class=\"mf\">3.0</span><span class=\"p\">])</span>\n",
    "<span class=\"gp\">&gt;&gt;&gt; </span><span class=\"n\">b</span> <span class=\"o\">=</span> <span class=\"mf\">2.0</span>\n",
    "<span class=\"gp\">&gt;&gt;&gt; </span><span class=\"n\">a</span> <span class=\"o\">*</span> <span class=\"n\">b</span>\n",
    "<span class=\"go\">array([ 2.,  4.,  6.])</span>\n",
    "</pre>\n",
    "</div>\n",
    "</div>\n",
    "</div>\n",
    "<p>The result is equivalent to the previous example where&nbsp;<code class=\"docutils literal notranslate\"><span class=\"pre\">b</span></code>&nbsp;was an array. We can think of the scalar&nbsp;<code class=\"docutils literal notranslate\"><span class=\"pre\">b</span></code>&nbsp;being stretched during the arithmetic operation into an array with the same shape as&nbsp;<code class=\"docutils literal notranslate\"><span class=\"pre\">a</span></code>. The new elements in&nbsp;<code class=\"docutils literal notranslate\"><span class=\"pre\">b</span></code>, as shown in&nbsp;<a class=\"reference internal\" href=\"https://numpy.org/doc/stable/user/theory.broadcasting.html#figure-1\"><span class=\"std std-ref\">Figure 1</span></a>, are simply copies of the original scalar. The stretching analogy is only conceptual. numpy is smart enough to use the original scalar value without actually making copies so that broadcasting operations are as memory and computationally efficient as possible. Because&nbsp;<a class=\"reference internal\" href=\"https://numpy.org/doc/stable/user/theory.broadcasting.html#example-2\"><span class=\"std std-ref\">Example 2</span></a>&nbsp;moves less memory, (<code class=\"docutils literal notranslate\"><span class=\"pre\">b</span></code>&nbsp;is a scalar, not an array) around during the multiplication, it is about 10% faster than&nbsp;<a class=\"reference internal\" href=\"https://numpy.org/doc/stable/user/theory.broadcasting.html#example-1\"><span class=\"std std-ref\">Example 1</span></a>&nbsp;using the standard numpy on Windows 2000 with one million element arrays.</p>\n",
    "<div id=\"figure-1\" class=\"figure align-default\"><img src=\"https://numpy.org/doc/stable/_images/theory.broadcast_1.gif\" alt=\"Vector-Scalar multiplication\" />\n",
    "<p class=\"caption\"><span class=\"caption-text\"><em>Figure 1</em></span></p>\n",
    "<div class=\"legend\">\n",
    "<p><em>In the simplest example of broadcasting, the scalar ``b`` is stretched to become an array of with the same shape as ``a`` so the shapes are compatible for element-by-element multiplication.</em></p>\n",
    "</div>\n",
    "</div>\n",
    "<p>The rule governing whether two arrays have compatible shapes for broadcasting can be expressed in a single sentence.</p>\n",
    "<div class=\"admonition-the-broadcasting-rule admonition\">\n",
    "<p class=\"admonition-title\">The Broadcasting Rule</p>\n",
    "<p><strong>In order to broadcast, the size of the trailing axes for both arrays in an operation must either be the same size or one of them must be one.</strong></p>\n",
    "</div>\n",
    "<p>If this condition is not met, a&nbsp;<code class=\"docutils literal notranslate\"><span class=\"pre\">ValueError('frames</span>&nbsp;<span class=\"pre\">are</span>&nbsp;<span class=\"pre\">not</span>&nbsp;<span class=\"pre\">aligned')</span></code>&nbsp;exception is thrown indicating that the arrays have incompatible shapes. The size of the result array created by broadcast operations is the maximum size along each dimension from the input arrays. Note that the rule does not say anything about the two arrays needing to have the same number of dimensions. So, for example, if you have a 256 x 256 x 3 array of RGB values, and you want to scale each color in the image by a different value, you can multiply the image by a one-dimensional array with 3 values. Lining up the sizes of the trailing axes of these arrays according to the broadcast rule shows that they are compatible</p>\n",
    "<table class=\"docutils align-default\"><colgroup><col /><col /><col /><col /><col /></colgroup>\n",
    "<tbody>\n",
    "<tr class=\"row-odd\">\n",
    "<td>\n",
    "<p>Image</p>\n",
    "</td>\n",
    "<td>\n",
    "<p>(3d array)</p>\n",
    "</td>\n",
    "<td>\n",
    "<p>256 x</p>\n",
    "</td>\n",
    "<td>\n",
    "<p>256 x</p>\n",
    "</td>\n",
    "<td>\n",
    "<p>3</p>\n",
    "</td>\n",
    "</tr>\n",
    "<tr class=\"row-even\">\n",
    "<td>\n",
    "<p>Scale</p>\n",
    "</td>\n",
    "<td>\n",
    "<p>(1d array)</p>\n",
    "</td>\n",
    "<td>&nbsp;</td>\n",
    "<td>&nbsp;</td>\n",
    "<td>\n",
    "<p>3</p>\n",
    "</td>\n",
    "</tr>\n",
    "<tr class=\"row-odd\">\n",
    "<td>\n",
    "<p>Result</p>\n",
    "</td>\n",
    "<td>\n",
    "<p>(3d array)</p>\n",
    "</td>\n",
    "<td>\n",
    "<p>256 x</p>\n",
    "</td>\n",
    "<td>\n",
    "<p>256 x</p>\n",
    "</td>\n",
    "<td>\n",
    "<p>3</p>\n",
    "</td>\n",
    "</tr>\n",
    "</tbody>\n",
    "</table>\n",
    "<p>In the following example, both the&nbsp;<code class=\"docutils literal notranslate\"><span class=\"pre\">A</span></code>&nbsp;and&nbsp;<code class=\"docutils literal notranslate\"><span class=\"pre\">B</span></code>&nbsp;arrays have axes with length one that are expanded to a larger size in a broadcast operation.</p>\n",
    "<table class=\"docutils align-default\"><colgroup><col /><col /><col /><col /><col /><col /></colgroup>\n",
    "<tbody>\n",
    "<tr class=\"row-odd\">\n",
    "<td>\n",
    "<p>A</p>\n",
    "</td>\n",
    "<td>\n",
    "<p>(4d array)</p>\n",
    "</td>\n",
    "<td>\n",
    "<p>8 x</p>\n",
    "</td>\n",
    "<td>\n",
    "<p>1 x</p>\n",
    "</td>\n",
    "<td>\n",
    "<p>6 x</p>\n",
    "</td>\n",
    "<td>\n",
    "<p>1</p>\n",
    "</td>\n",
    "</tr>\n",
    "<tr class=\"row-even\">\n",
    "<td>\n",
    "<p>B</p>\n",
    "</td>\n",
    "<td>\n",
    "<p>(3d array)</p>\n",
    "</td>\n",
    "<td>&nbsp;</td>\n",
    "<td>\n",
    "<p>7 x</p>\n",
    "</td>\n",
    "<td>\n",
    "<p>1 x</p>\n",
    "</td>\n",
    "<td>\n",
    "<p>5</p>\n",
    "</td>\n",
    "</tr>\n",
    "<tr class=\"row-odd\">\n",
    "<td>\n",
    "<p>Result</p>\n",
    "</td>\n",
    "<td>\n",
    "<p>(4d array)</p>\n",
    "</td>\n",
    "<td>\n",
    "<p>8 x</p>\n",
    "</td>\n",
    "<td>\n",
    "<p>7 x</p>\n",
    "</td>\n",
    "<td>\n",
    "<p>6 x</p>\n",
    "</td>\n",
    "<td>\n",
    "<p>5</p>\n",
    "</td>\n",
    "</tr>\n",
    "</tbody>\n",
    "</table>\n",
    "<p>Below, are several code examples and graphical representations that help make the broadcast rule visually obvious.&nbsp;<a class=\"reference internal\" href=\"https://numpy.org/doc/stable/user/theory.broadcasting.html#example-3\"><span class=\"std std-ref\">Example 3</span></a>&nbsp;adds a one-dimensional array to a two-dimensional array:</p>\n",
    "<div id=\"example-3\" class=\"literal-block-wrapper docutils container\">\n",
    "<div class=\"code-block-caption\"><span class=\"caption-text\">Example 3</span></div>\n",
    "<div class=\"highlight-python notranslate\">\n",
    "<div class=\"highlight\"><span class=\"copybutton\" title=\"Hide the prompts and output\">&gt;&gt;&gt;</span>\n",
    "<pre><span class=\"gp\">&gt;&gt;&gt; </span><span class=\"kn\">from</span> <span class=\"nn\">numpy</span> <span class=\"kn\">import</span> <span class=\"n\">array</span>\n",
    "<span class=\"gp\">&gt;&gt;&gt; </span><span class=\"n\">a</span> <span class=\"o\">=</span> <span class=\"n\">array</span><span class=\"p\">([[</span> <span class=\"mf\">0.0</span><span class=\"p\">,</span>  <span class=\"mf\">0.0</span><span class=\"p\">,</span>  <span class=\"mf\">0.0</span><span class=\"p\">],</span>\n",
    "<span class=\"gp\">... </span>           <span class=\"p\">[</span><span class=\"mf\">10.0</span><span class=\"p\">,</span> <span class=\"mf\">10.0</span><span class=\"p\">,</span> <span class=\"mf\">10.0</span><span class=\"p\">],</span>\n",
    "<span class=\"gp\">... </span>           <span class=\"p\">[</span><span class=\"mf\">20.0</span><span class=\"p\">,</span> <span class=\"mf\">20.0</span><span class=\"p\">,</span> <span class=\"mf\">20.0</span><span class=\"p\">],</span>\n",
    "<span class=\"gp\">... </span>           <span class=\"p\">[</span><span class=\"mf\">30.0</span><span class=\"p\">,</span> <span class=\"mf\">30.0</span><span class=\"p\">,</span> <span class=\"mf\">30.0</span><span class=\"p\">]])</span>\n",
    "<span class=\"gp\">&gt;&gt;&gt; </span><span class=\"n\">b</span> <span class=\"o\">=</span> <span class=\"n\">array</span><span class=\"p\">([</span><span class=\"mf\">1.0</span><span class=\"p\">,</span> <span class=\"mf\">2.0</span><span class=\"p\">,</span> <span class=\"mf\">3.0</span><span class=\"p\">])</span>\n",
    "<span class=\"gp\">&gt;&gt;&gt; </span><span class=\"n\">a</span> <span class=\"o\">+</span> <span class=\"n\">b</span>\n",
    "<span class=\"go\">array([[  1.,   2.,   3.],</span>\n",
    "<span class=\"go\">       [ 11.,  12.,  13.],</span>\n",
    "<span class=\"go\">       [ 21.,  22.,  23.],</span>\n",
    "<span class=\"go\">       [ 31.,  32.,  33.]])</span>\n",
    "</pre>\n",
    "</div>\n",
    "</div>\n",
    "</div>\n",
    "<p>As shown in&nbsp;<a class=\"reference internal\" href=\"https://numpy.org/doc/stable/user/theory.broadcasting.html#figure-2\"><span class=\"std std-ref\">Figure 2</span></a>,&nbsp;<code class=\"docutils literal notranslate\"><span class=\"pre\">b</span></code>&nbsp;is added to each row of&nbsp;<code class=\"docutils literal notranslate\"><span class=\"pre\">a</span></code>. When&nbsp;<code class=\"docutils literal notranslate\"><span class=\"pre\">b</span></code>&nbsp;is longer than the rows of&nbsp;<code class=\"docutils literal notranslate\"><span class=\"pre\">a</span></code>, as in&nbsp;<a class=\"reference internal\" href=\"https://numpy.org/doc/stable/user/theory.broadcasting.html#figure-3\"><span class=\"std std-ref\">Figure 3</span></a>, an exception is raised because of the incompatible shapes.</p>\n",
    "<div id=\"figure-2\" class=\"figure align-default\"><img src=\"https://numpy.org/doc/stable/_images/theory.broadcast_2.gif\" alt=\"Matrix-Vector\" />\n",
    "<p class=\"caption\"><span class=\"caption-text\"><em>Figure 2</em></span></p>\n",
    "<div class=\"legend\">\n",
    "<p><em>A two dimensional array multiplied by a one dimensional array results in broadcasting if number of 1-d array elements matches the number of 2-d array columns.</em></p>\n",
    "</div>\n",
    "</div>\n",
    "<div id=\"figure-3\" class=\"figure align-default\"><img src=\"https://numpy.org/doc/stable/_images/theory.broadcast_3.gif\" alt=\"Matrix-Vector-with-error\" />\n",
    "<p class=\"caption\"><span class=\"caption-text\"><em>Figure 3</em></span></p>\n",
    "<div class=\"legend\">\n",
    "<p><em>When the trailing dimensions of the arrays are unequal, broadcasting fails because it is impossible to align the values in the rows of the 1st array with the elements of the 2nd arrays for element-by-element addition.</em></p>\n",
    "</div>\n",
    "</div>\n",
    "<p>Broadcasting provides a convenient way of taking the outer product (or any other outer operation) of two arrays. The following example shows an outer addition operation of two 1-d arrays that produces the same result as&nbsp;<a class=\"reference internal\" href=\"https://numpy.org/doc/stable/user/theory.broadcasting.html#example-3\"><span class=\"std std-ref\">Example 3</span></a></p>\n",
    "<div id=\"example-4\" class=\"literal-block-wrapper docutils container\">\n",
    "<div class=\"code-block-caption\"><span class=\"caption-text\">Example 4</span></div>\n",
    "<div class=\"highlight-python notranslate\">\n",
    "<div class=\"highlight\"><span class=\"copybutton\" title=\"Hide the prompts and output\">&gt;&gt;&gt;</span>\n",
    "<pre><span class=\"gp\">&gt;&gt;&gt; </span><span class=\"kn\">from</span> <span class=\"nn\">numpy</span> <span class=\"kn\">import</span> <span class=\"n\">array</span><span class=\"p\">,</span> <span class=\"n\">newaxis</span>\n",
    "<span class=\"gp\">&gt;&gt;&gt; </span><span class=\"n\">a</span> <span class=\"o\">=</span> <span class=\"n\">array</span><span class=\"p\">([</span><span class=\"mf\">0.0</span><span class=\"p\">,</span> <span class=\"mf\">10.0</span><span class=\"p\">,</span> <span class=\"mf\">20.0</span><span class=\"p\">,</span> <span class=\"mf\">30.0</span><span class=\"p\">])</span>\n",
    "<span class=\"gp\">&gt;&gt;&gt; </span><span class=\"n\">b</span> <span class=\"o\">=</span> <span class=\"n\">array</span><span class=\"p\">([</span><span class=\"mf\">1.0</span><span class=\"p\">,</span> <span class=\"mf\">2.0</span><span class=\"p\">,</span> <span class=\"mf\">3.0</span><span class=\"p\">])</span>\n",
    "<span class=\"gp\">&gt;&gt;&gt; </span><span class=\"n\">a</span><span class=\"p\">[:,</span><span class=\"n\">newaxis</span><span class=\"p\">]</span> <span class=\"o\">+</span> <span class=\"n\">b</span>\n",
    "<span class=\"go\">array([[  1.,   2.,   3.],</span>\n",
    "<span class=\"go\">       [ 11.,  12.,  13.],</span>\n",
    "<span class=\"go\">       [ 21.,  22.,  23.],</span>\n",
    "<span class=\"go\">       [ 31.,  32.,  33.]])</span>\n",
    "</pre>\n",
    "</div>\n",
    "</div>\n",
    "</div>\n",
    "<p>Here the newaxis index operator inserts a new axis into&nbsp;<code class=\"docutils literal notranslate\"><span class=\"pre\">a</span></code>, making it a two-dimensional 4x1 array.&nbsp;<a class=\"reference internal\" href=\"https://numpy.org/doc/stable/user/theory.broadcasting.html#figure-4\"><span class=\"std std-ref\">Figure 4</span></a>&nbsp;illustrates the stretching of both arrays to produce the desired 4x3 output array.</p>\n",
    "<div id=\"figure-4\" class=\"figure align-default\"><img src=\"https://numpy.org/doc/stable/_images/theory.broadcast_4.gif\" alt=\"vector-vector with newaxis\" />\n",
    "<p class=\"caption\"><span class=\"caption-text\"><em>Figure 4</em></span></p>\n",
    "<div class=\"legend\">\n",
    "<p>In some cases, broadcasting stretches both arrays to form an output array larger than either of the initial arrays.*</p>\n",
    "</div>\n",
    "</div>\n",
    "<div id=\"a-practical-example-vector-quantization\" class=\"section\">\n",
    "<h2>A Practical Example: Vector Quantization.</h2>\n",
    "<p>Broadcasting comes up quite often in real world problems. A typical example occurs in the vector quantization (VQ) algorithm used in information theory, classification, and other related areas. The basic operation in VQ [#f0] finds the closest point in a set of points, called codes in VQ jargon, to a given point, called the observation. In the very simple, two-dimensional case shown in&nbsp;<a class=\"reference internal\" href=\"https://numpy.org/doc/stable/user/theory.broadcasting.html#figure-5\"><span class=\"std std-ref\">Figure 5</span></a>, the values in observation describe the weight and height of an athlete to be classified. The codes represent different classes of athletes.&nbsp;<a id=\"id2\" class=\"footnote-reference brackets\" href=\"https://numpy.org/doc/stable/user/theory.broadcasting.html#f1\">2</a>&nbsp;Finding the closest point requires calculating the distance between observation and each of the codes. The shortest distance provides the best match. In this example,&nbsp;<code class=\"docutils literal notranslate\"><span class=\"pre\">codes[0]</span></code>&nbsp;is the closest class indicating that the athlete is likely a basketball player.</p>\n",
    "<div id=\"figure-5\" class=\"figure align-default\"><img src=\"https://numpy.org/doc/stable/_images/theory.broadcast_5.png\" alt=\"vector quantitization example\" />\n",
    "<p class=\"caption\"><span class=\"caption-text\"><em>Figure 5</em></span></p>\n",
    "<div class=\"legend\">\n",
    "<p><em>The basic operation of vector quantization calculates the distance between an object to be classified, the dark square, and multiple known codes, the gray circles. In this simple case, the codes represent individual classes. More complex cases use multiple codes per class.</em></p>\n",
    "</div>\n",
    "</div>\n",
    "<p class=\"rubric\">Footnotes</p>\n",
    "<dl class=\"footnote brackets\">\n",
    "<dt id=\"f0\" class=\"label\"><span class=\"brackets\">1</span></dt>\n",
    "<dd>\n",
    "<p>Vector Quantization J. Makhoul, S. Roucos, and H. Gish, &ldquo;Vector Quantization in Speech Coding,&rdquo; Proc. IEEE, vol. 73, pp. 1551-1587, Nov. 1985.</p>\n",
    "</dd>\n",
    "<dt id=\"f1\" class=\"label\"><span class=\"brackets\"><a class=\"fn-backref\" href=\"https://numpy.org/doc/stable/user/theory.broadcasting.html#id2\">2</a></span></dt>\n",
    "<dd>\n",
    "<p>In this example, weight has more impact on the distance calculation than height because of the larger values. In practice, it is important to normalize the height and weight, often by their standard deviation across the data set, so that both have equal influence on the distance calculation.</p>\n",
    "</dd>\n",
    "</dl>\n",
    "<div class=\"admonition note\">\n",
    "<p class=\"admonition-title\">Note</p>\n",
    "<p>The code to produce the figures is part of the&nbsp;<a class=\"reference external\" href=\"http://www.astroml.org/book_figures/appendix/fig_broadcast_visual.html\">AstroML book</a></p>\n",
    "</div>\n",
    "</div>"
   ]
  },
  {
   "cell_type": "markdown",
   "metadata": {},
   "source": [
    "![](https://hackster.imgix.net/uploads/attachments/1072845/untitled_drawing_cpdJbD4KkR.png?auto=compress%2Cformat&w=1280&h=960&fit=max)"
   ]
  },
  {
   "cell_type": "markdown",
   "metadata": {},
   "source": [
    "## Aggregation\n",
    "Performing same operations on multiple arrays"
   ]
  },
  {
   "cell_type": "code",
   "execution_count": 40,
   "metadata": {},
   "outputs": [
    {
     "data": {
      "text/plain": [
       "array([0.97861834, 0.79915856, 0.46147936, ..., 0.00315978, 0.04352426,\n",
       "       0.79419409])"
      ]
     },
     "execution_count": 40,
     "metadata": {},
     "output_type": "execute_result"
    }
   ],
   "source": [
    "#Let us create a massive array\n",
    "ar = np.random.random(100000)\n",
    "ar"
   ]
  },
  {
   "cell_type": "code",
   "execution_count": 41,
   "metadata": {},
   "outputs": [
    {
     "name": "stdout",
     "output_type": "stream",
     "text": [
      "42.3 ms ± 2.76 ms per loop (mean ± std. dev. of 7 runs, 1 loop each)\n",
      "Compiler time: 0.20 s\n",
      "133 µs ± 17.1 µs per loop (mean ± std. dev. of 7 runs, 10000 loops each)\n"
     ]
    }
   ],
   "source": [
    "#now let us perform an operation using python's function and one with numpy's function\n",
    "%timeit sum(ar) # %timeit is a magic func of jupyter notebook. It shows time taken to execute the code\n",
    "%timeit np.sum(ar)"
   ]
  },
  {
   "cell_type": "markdown",
   "metadata": {},
   "source": [
    "**Now that's why we love NumPy <3**"
   ]
  },
  {
   "cell_type": "code",
   "execution_count": 42,
   "metadata": {},
   "outputs": [
    {
     "data": {
      "text/plain": [
       "0.499475797671074"
      ]
     },
     "execution_count": 42,
     "metadata": {},
     "output_type": "execute_result"
    }
   ],
   "source": [
    "#mean\n",
    "np.mean(ar)"
   ]
  },
  {
   "cell_type": "code",
   "execution_count": 43,
   "metadata": {},
   "outputs": [
    {
     "data": {
      "text/plain": [
       "0.2890406574912442"
      ]
     },
     "execution_count": 43,
     "metadata": {},
     "output_type": "execute_result"
    }
   ],
   "source": [
    "#standard deviation\n",
    "np.std(ar)"
   ]
  },
  {
   "cell_type": "code",
   "execution_count": 45,
   "metadata": {},
   "outputs": [
    {
     "data": {
      "text/plain": [
       "0.08354450168297074"
      ]
     },
     "execution_count": 45,
     "metadata": {},
     "output_type": "execute_result"
    }
   ],
   "source": [
    "#variance\n",
    "np.var(ar)"
   ]
  },
  {
   "cell_type": "code",
   "execution_count": 48,
   "metadata": {},
   "outputs": [
    {
     "data": {
      "text/plain": [
       "0.2890406574912442"
      ]
     },
     "execution_count": 48,
     "metadata": {},
     "output_type": "execute_result"
    }
   ],
   "source": [
    "#Just for fun ---\n",
    "# Standard deviation = square root of the variance\n",
    "#So,\n",
    "np.sqrt(np.var(ar))\n",
    "#It matched with what we did above!"
   ]
  },
  {
   "cell_type": "code",
   "execution_count": 52,
   "metadata": {},
   "outputs": [
    {
     "data": {
      "text/plain": [
       "(array([10089., 10081.,  9947.,  9870., 10067., 10106.,  9815.,  9987.,\n",
       "        10013., 10025.]),\n",
       " array([3.31055446e-06, 1.00000775e-01, 1.99998239e-01, 2.99995703e-01,\n",
       "        3.99993167e-01, 4.99990631e-01, 5.99988095e-01, 6.99985559e-01,\n",
       "        7.99983024e-01, 8.99980488e-01, 9.99977952e-01]),\n",
       " <a list of 10 Patch objects>)"
      ]
     },
     "execution_count": 52,
     "metadata": {},
     "output_type": "execute_result"
    },
    {
     "data": {
      "image/png": "[encoded data removed]",
      "text/plain": [
       "<Figure size 432x288 with 1 Axes>"
      ]
     },
     "metadata": {
      "needs_background": "light"
     },
     "output_type": "display_data"
    }
   ],
   "source": [
    "# now lets see a visual representation of all the above\n",
    "import matplotlib.pyplot as plt\n",
    "plt.hist(ar)"
   ]
  },
  {
   "cell_type": "code",
   "execution_count": 54,
   "metadata": {},
   "outputs": [
    {
     "data": {
      "text/plain": [
       "(array([0., 0., 0., 0., 0., 1., 0., 0., 0., 0.]),\n",
       " array([-5.24202329e-04,  9.94757977e-02,  1.99475798e-01,  2.99475798e-01,\n",
       "         3.99475798e-01,  4.99475798e-01,  5.99475798e-01,  6.99475798e-01,\n",
       "         7.99475798e-01,  8.99475798e-01,  9.99475798e-01]),\n",
       " <a list of 10 Patch objects>)"
      ]
     },
     "execution_count": 54,
     "metadata": {},
     "output_type": "execute_result"
    },
    {
     "data": {
      "image/png": "[encoded data removed]",
      "text/plain": [
       "<Figure size 432x288 with 1 Axes>"
      ]
     },
     "metadata": {
      "needs_background": "light"
     },
     "output_type": "display_data"
    }
   ],
   "source": [
    "plt.hist(np.mean(ar))"
   ]
  },
  {
   "cell_type": "code",
   "execution_count": 53,
   "metadata": {},
   "outputs": [
    {
     "data": {
      "text/plain": [
       "(array([0., 0., 0., 0., 0., 1., 0., 0., 0., 0.]),\n",
       " array([-0.4164555, -0.3164555, -0.2164555, -0.1164555, -0.0164555,\n",
       "         0.0835445,  0.1835445,  0.2835445,  0.3835445,  0.4835445,\n",
       "         0.5835445]),\n",
       " <a list of 10 Patch objects>)"
      ]
     },
     "execution_count": 53,
     "metadata": {},
     "output_type": "execute_result"
    },
    {
     "data": {
      "image/png": "[encoded data removed]",
      "text/plain": [
       "<Figure size 432x288 with 1 Axes>"
      ]
     },
     "metadata": {
      "needs_background": "light"
     },
     "output_type": "display_data"
    }
   ],
   "source": [
    "plt.hist(np.var(ar))"
   ]
  },
  {
   "cell_type": "code",
   "execution_count": 55,
   "metadata": {},
   "outputs": [
    {
     "data": {
      "text/plain": [
       "(array([0., 0., 0., 0., 0., 1., 0., 0., 0., 0.]),\n",
       " array([-0.21095934, -0.11095934, -0.01095934,  0.08904066,  0.18904066,\n",
       "         0.28904066,  0.38904066,  0.48904066,  0.58904066,  0.68904066,\n",
       "         0.78904066]),\n",
       " <a list of 10 Patch objects>)"
      ]
     },
     "execution_count": 55,
     "metadata": {},
     "output_type": "execute_result"
    },
    {
     "data": {
      "image/png": "[encoded data removed]",
      "text/plain": [
       "<Figure size 432x288 with 1 Axes>"
      ]
     },
     "metadata": {
      "needs_background": "light"
     },
     "output_type": "display_data"
    }
   ],
   "source": [
    "plt.hist(np.std(ar))"
   ]
  },
  {
   "cell_type": "markdown",
   "metadata": {},
   "source": [
    "<h5 style=\"color:red\"> Notice the change in postition of the bar on the X axis of each of the above plots. This info will help us understand a lot about the dataset we are dealing with <h5>"
   ]
  },
  {
   "cell_type": "markdown",
   "metadata": {},
   "source": [
    "**Here are a few notes on what is Standard Deviation and Variance**<br>\n",
    "Source = https://www.mathsisfun.com/data/standard-deviation.html <br>\n",
    "<h1 align=\"center\">Standard Deviation and Variance</h1>\n",
    "<p align=\"center\"><em>Deviation just means how far from the normal</em></p>\n",
    "<h2><strong><a id=\"Top\" name=\"Top\"></a></strong>Standard Deviation</h2>\n",
    "<p>The Standard Deviation is a measure of how spread out numbers are.</p>\n",
    "<p>Its symbol is&nbsp;<strong class=\"larger\">&sigma;</strong>&nbsp;(the greek letter sigma)</p>\n",
    "<p>The formula is easy: it is the<strong>&nbsp;square root</strong>&nbsp;of the&nbsp;<strong>Variance.&nbsp;</strong>So now you ask, \"What is the Variance?\"</p>\n",
    "<h2>Variance</h2>\n",
    "<p>The Variance is defined as:</p>\n",
    "<div class=\"def\">\n",
    "<p class=\"Larger\" align=\"center\">The average of the&nbsp;<strong>squared</strong>&nbsp;differences from the Mean.</p>\n",
    "</div>\n",
    "<p>To calculate the variance follow these steps:</p>\n",
    "<div class=\"bigul\">\n",
    "<ul>\n",
    "<li>Work out the&nbsp;<a href=\"https://www.mathsisfun.com/mean.html\">Mean</a>&nbsp;(the simple average of the numbers)</li>\n",
    "<li>Then for each number: subtract the Mean and square the result (the&nbsp;<em>squared difference</em>).</li>\n",
    "<li>Then work out the average of those squared differences. (<a href=\"https://www.mathsisfun.com/data/standard-deviation.html#WhySquare\">Why Square?</a>)</li>\n",
    "</ul>\n",
    "</div>\n",
    "<h2>Example</h2>\n",
    "<p>You and your friends have just measured the heights of your dogs (in millimeters):<br /><img src=\"https://www.mathsisfun.com/data/images/statistics-dogs-graph.gif\" alt=\"dogs on graph shoulder heights\" /></p>\n",
    "<p>The heights (at the shoulders) are: 600mm, 470mm, 170mm, 430mm and 300mm.</p>\n",
    "<p>Find out the Mean, the Variance, and the Standard Deviation.</p>\n",
    "<p>Your first step is to find the Mean:</p>\n",
    "<h3>Answer:</h3>\n",
    "<table border=\"0\" align=\"center\">\n",
    "<tbody>\n",
    "<tr>\n",
    "<td><span class=\"larger\">Mean</span></td>\n",
    "<td align=\"center\" width=\"40\"><span class=\"larger\">=</span></td>\n",
    "<td class=\"larger\"><span class=\"intbl\"><em>600 + 470 + 170 + 430 + 300</em><strong>5</strong></span></td>\n",
    "</tr>\n",
    "<tr>\n",
    "<td>&nbsp;</td>\n",
    "<td align=\"center\" width=\"40\"><span class=\"larger\">=</span></td>\n",
    "<td class=\"larger\"><span class=\"intbl\"><em>1970</em><strong>5</strong></span></td>\n",
    "</tr>\n",
    "<tr>\n",
    "<td>&nbsp;</td>\n",
    "<td align=\"center\" width=\"40\"><span class=\"larger\">=</span></td>\n",
    "<td class=\"larger\">394</td>\n",
    "</tr>\n",
    "</tbody>\n",
    "</table>\n",
    "<p>so the mean (average) height is 394 mm. Let's plot this on the chart:</p>\n",
    "<p><img src=\"https://www.mathsisfun.com/data/images/statistics-dogs-mean.gif\" alt=\"dogs on graph: mean\" /></p>\n",
    "<p>Now we calculate each dog's difference from the Mean:</p>\n",
    "<p><img src=\"https://www.mathsisfun.com/data/images/statistics-dogs-deviation.gif\" alt=\"dogs on graph: deviation\" /></p>\n",
    "<p>To calculate the Variance, take each difference, square it, and then average the result:</p>\n",
    "<table border=\"0\" align=\"center\">\n",
    "<tbody>\n",
    "<tr>\n",
    "<td class=\"larger\" colspan=\"3\" nowrap=\"nowrap\"><strong>Variance</strong></td>\n",
    "</tr>\n",
    "<tr>\n",
    "<td class=\"larger\" nowrap=\"nowrap\">&sigma;<sup>2</sup></td>\n",
    "<td class=\"larger\" align=\"center\" width=\"40\">=</td>\n",
    "<td class=\"larger\"><span class=\"intbl\"><em>206<sup>2</sup>&nbsp;+ 76<sup>2</sup>&nbsp;+ (&minus;224)<sup>2</sup>&nbsp;+ 36<sup>2</sup>&nbsp;+ (&minus;94)<sup>2</sup></em><strong>/5</strong></span></td>\n",
    "</tr>\n",
    "<tr>\n",
    "<td class=\"larger\">&nbsp;</td>\n",
    "<td class=\"larger\" align=\"center\">=</td>\n",
    "<td class=\"larger\"><span class=\"intbl\"><em>42436 + 5776 + 50176 + 1296 + 8836</em><strong>/5</strong></span></td>\n",
    "</tr>\n",
    "<tr>\n",
    "<td class=\"larger\">&nbsp;</td>\n",
    "<td class=\"larger\" align=\"center\">=</td>\n",
    "<td class=\"larger\"><span class=\"intbl\"><em>108520</em><strong>/5</strong></span></td>\n",
    "</tr>\n",
    "<tr>\n",
    "<td class=\"larger\">&nbsp;</td>\n",
    "<td class=\"larger\" align=\"center\">=</td>\n",
    "<td class=\"larger\">21704</td>\n",
    "</tr>\n",
    "</tbody>\n",
    "</table>\n",
    "<p>So the Variance is&nbsp;<strong>21,704</strong></p>\n",
    "<p>And the Standard Deviation is just the square root of Variance, so:</p>\n",
    "<table border=\"0\" align=\"center\">\n",
    "<tbody>\n",
    "<tr>\n",
    "<td colspan=\"3\"><span class=\"center larger\"><strong>Standard Deviation</strong></span></td>\n",
    "</tr>\n",
    "<tr>\n",
    "<td><span class=\"center larger\">&sigma;</span></td>\n",
    "<td class=\"larger\" align=\"center\" width=\"40\">=</td>\n",
    "<td><span class=\"center larger\">&radic;21704</span></td>\n",
    "</tr>\n",
    "<tr>\n",
    "<td>&nbsp;</td>\n",
    "<td class=\"larger\" align=\"center\">=</td>\n",
    "<td><span class=\"center larger\">147.32...</span></td>\n",
    "</tr>\n",
    "<tr>\n",
    "<td>&nbsp;</td>\n",
    "<td class=\"larger\" align=\"center\">=</td>\n",
    "<td><span class=\"center larger\"><strong>147</strong>&nbsp;<em>(to the nearest mm)</em></span></td>\n",
    "</tr>\n",
    "</tbody>\n",
    "</table>\n",
    "<p>&nbsp;</p>\n",
    "<p>And the good thing about the Standard Deviation is that it is useful. Now we can show which heights are within one Standard Deviation (147mm) of the Mean:<br /><img src=\"https://www.mathsisfun.com/data/images/statistics-standard-deviation.gif\" alt=\"dogs on graph: standard deviation\" /></p>\n",
    "<p>So, using the Standard Deviation we have a \"standard\" way of knowing what is normal, and what is extra large or extra small.</p>\n",
    "<p>Rottweilers&nbsp;<strong>are</strong>&nbsp;tall dogs. And Dachshunds&nbsp;<strong>are</strong>&nbsp;a bit short, right?</p>\n",
    "<h2>Using</h2>\n",
    "<p><img src=\"https://www.mathsisfun.com/data/images/normal-distrubution-1sd.svg\" alt=\"normal distrubution 1 sd = 68%\" /></p>\n",
    "<p>We can expect about 68% of values to be within plus-or-minus 1 standard deviation.</p>\n",
    "<p>Read&nbsp;<a href=\"https://www.mathsisfun.com/data/standard-normal-distribution.html\">Standard Normal Distribution</a>&nbsp;to learn more.</p>\n",
    "<p>Also try the&nbsp;<a href=\"https://www.mathsisfun.com/data/standard-deviation-calculator.html\">Standard Deviation Calculator</a>.</p>\n",
    "<h2>But ... there is a small change with&nbsp;<strong>Sample</strong>&nbsp;Data</h2>\n",
    "<p>Our example has been for a&nbsp;<strong>Population</strong>&nbsp;(the 5 dogs are the only dogs we are interested in).</p>\n",
    "<p>But if the data is a&nbsp;<strong>Sample</strong>&nbsp;(a selection taken from a bigger Population), then the calculation changes!</p>\n",
    "<div class=\"def\">\n",
    "<p class=\"larger\">When you have \"N\" data values that are:</p>\n",
    "<div class=\"bigul\">\n",
    "<ul>\n",
    "<li><strong>The Population</strong>: divide by&nbsp;<strong>N</strong>&nbsp;when calculating Variance (like we did)</li>\n",
    "<li><strong>A Sample</strong>: divide by&nbsp;<strong>N-1</strong>&nbsp;when calculating Variance</li>\n",
    "</ul>\n",
    "</div>\n",
    "</div>\n",
    "<p><span class=\"center\">All other calculations stay the same, including how we calculated the mean.</span></p>\n",
    "<div class=\"example\">\n",
    "<p>Example: if our 5 dogs are just a&nbsp;<strong>sample</strong>&nbsp;of a bigger population of dogs, we divide by&nbsp;<strong>4 instead of 5</strong>&nbsp;like this:</p>\n",
    "<div class=\"so\">Sample Variance = 108,520 /&nbsp;<span class=\"hilite\"><strong>4</strong></span>&nbsp;=&nbsp;<strong>27,130</strong></div>\n",
    "<div class=\"so\">Sample Standard Deviation = &radic;27,130 =&nbsp;<strong>165</strong>&nbsp;(to the nearest mm)</div>\n",
    "</div>\n",
    "<p>Think of it as a \"correction\" when your data is only a sample.</p>\n",
    "<h2>Formulas</h2>\n",
    "<p>Here are the two formulas, explained at&nbsp;<a href=\"https://www.mathsisfun.com/data/standard-deviation-formulas.html\">Standard Deviation Formulas</a>&nbsp;if you want to know more:</p>\n",
    "<table border=\"0\" align=\"center\">\n",
    "<tbody>\n",
    "<tr>\n",
    "<td align=\"right\">\n",
    "<p><br />The \"<strong>Population</strong>&nbsp;Standard Deviation\":</p>\n",
    "</td>\n",
    "<td align=\"right\">&nbsp;</td>\n",
    "<td><img src=\"https://www.mathsisfun.com/data/images/standard-deviation-formula.gif\" alt=\"square root of [ (1/N) times Sigma i=1 to N of (xi - mu)^2 ]\" width=\"189\" height=\"65\" /></td>\n",
    "</tr>\n",
    "<tr>\n",
    "<td align=\"right\">The \"<strong>Sample</strong>&nbsp;Standard Deviation<strong>\":</strong></td>\n",
    "<td align=\"right\">&nbsp;</td>\n",
    "<td><img src=\"https://www.mathsisfun.com/data/images/standard-deviation-sample.gif\" alt=\"square root of [ (1/(N-1)) times Sigma i=1 to N of (xi - xbar)^2 ]\" width=\"216\" height=\"65\" /></td>\n",
    "</tr>\n",
    "</tbody>\n",
    "</table>\n",
    "<p class=\"center\">Looks complicated, but the important change is to<br />divide by&nbsp;<strong>N-1</strong>&nbsp;(instead of&nbsp;<strong>N</strong>) when calculating a Sample Variance.</p>\n",
    "<p class=\"center larger\">&nbsp;</p>"
   ]
  },
  {
   "cell_type": "markdown",
   "metadata": {},
   "source": [
    "## Reshape and Transpose\n"
   ]
  },
  {
   "cell_type": "markdown",
   "metadata": {},
   "source": [
    "<p><code class=\"sig-prename descclassname\">numpy.</code><code class=\"sig-name descname\"><span class=\"highlighted\">reshape</span></code><span class=\"sig-paren\">(</span><em class=\"sig-param\">a</em>,&nbsp;<em class=\"sig-param\">newshape</em>,&nbsp;<em class=\"sig-param\">order='C'</em><span class=\"sig-paren\">)</span><a class=\"reference external\" href=\"https://github.com/numpy/numpy/blob/v1.19.0/numpy/core/fromnumeric.py#L199-L299\"><span class=\"viewcode-link\">[source]</span></a><a class=\"headerlink\" title=\"Permalink to this definition\" href=\"https://numpy.org/doc/stable/reference/generated/numpy.reshape.html?highlight=reshape#numpy.reshape\">&para;</a></p>\n",
    "<p>Gives a new shape to an array without changing its data.</p>\n",
    "<p>&nbsp;</p>"
   ]
  },
  {
   "cell_type": "code",
   "execution_count": 68,
   "metadata": {},
   "outputs": [
    {
     "data": {
      "text/plain": [
       "(array([[3, 2, 1],\n",
       "        [6, 5, 4]]),\n",
       " (2, 3))"
      ]
     },
     "execution_count": 68,
     "metadata": {},
     "output_type": "execute_result"
    }
   ],
   "source": [
    "#remember our old frienD?\n",
    "ar2, ar2.shape"
   ]
  },
  {
   "cell_type": "code",
   "execution_count": 69,
   "metadata": {},
   "outputs": [
    {
     "data": {
      "text/plain": [
       "(array([[[3. , 2. , 1. ],\n",
       "         [6. , 5. , 4. ],\n",
       "         [9.3, 8.2, 7.1]],\n",
       " \n",
       "        [[3. , 2. , 1. ],\n",
       "         [6. , 5. , 4. ],\n",
       "         [9. , 5. , 1. ]]]),\n",
       " (2, 3, 3))"
      ]
     },
     "execution_count": 69,
     "metadata": {},
     "output_type": "execute_result"
    }
   ],
   "source": [
    "#remember our old frienD?\n",
    "ar3, ar3.shape"
   ]
  },
  {
   "cell_type": "markdown",
   "metadata": {},
   "source": [
    "\n",
    "<p>When operating on two arrays, NumPy compares their shapes element-wise. It starts with the trailing dimensions and works its way forward. Two dimensions are compatible when</p>\n",
    "<ol class=\"arabic simple\">\n",
    "<li>\n",
    "<p>they are equal, or</p>\n",
    "</li>\n",
    "<li>\n",
    "<p>one of them is 1</p>\n",
    "</li>\n",
    "</ol>\n",
    "So, ar2*ar3 won't work now"
   ]
  },
  {
   "cell_type": "code",
   "execution_count": 86,
   "metadata": {},
   "outputs": [
    {
     "data": {
      "text/plain": [
       "(array([[[3],\n",
       "         [2],\n",
       "         [1]],\n",
       " \n",
       "        [[6],\n",
       "         [5],\n",
       "         [4]]]),\n",
       " (2, 3, 1))"
      ]
     },
     "execution_count": 86,
     "metadata": {},
     "output_type": "execute_result"
    }
   ],
   "source": [
    "#changing the shape of ar2\n",
    "ar2_reshaped = ar2.reshape(2,3,1)\n",
    "ar2_reshaped, ar2_reshaped.shape\n",
    "#so we see one more dimension has been added here"
   ]
  },
  {
   "cell_type": "code",
   "execution_count": 87,
   "metadata": {},
   "outputs": [
    {
     "data": {
      "text/plain": [
       "array([[[ 9. ,  6. ,  3. ],\n",
       "        [12. , 10. ,  8. ],\n",
       "        [ 9.3,  8.2,  7.1]],\n",
       "\n",
       "       [[18. , 12. ,  6. ],\n",
       "        [30. , 25. , 20. ],\n",
       "        [36. , 20. ,  4. ]]])"
      ]
     },
     "execution_count": 87,
     "metadata": {},
     "output_type": "execute_result"
    }
   ],
   "source": [
    "#so shape of ar3 and ar2_reshaped are not equal\n",
    "# But one of them has 1 (ar2_reshaped has oder 1)\n",
    "#So let us do the multiplication\n",
    "ar2_reshaped * ar3"
   ]
  },
  {
   "cell_type": "code",
   "execution_count": null,
   "metadata": {},
   "outputs": [],
   "source": []
  },
  {
   "cell_type": "code",
   "execution_count": null,
   "metadata": {},
   "outputs": [],
   "source": []
  }
 ],
 "metadata": {
  "kernelspec": {
   "display_name": "Python 3.8.1 32-bit",
   "language": "python",
   "name": "python38132bit93aab49dff954651a4c1e4402da878fd"
  },
  "language_info": {
   "codemirror_mode": {
    "name": "ipython",
    "version": 3
   },
   "file_extension": ".py",
   "mimetype": "text/x-python",
   "name": "python",
   "nbconvert_exporter": "python",
   "pygments_lexer": "ipython3",
   "version": "3.8.1"
  }
 },
 "nbformat": 4,
 "nbformat_minor": 4
}
