{
 "cells": [
  {
   "cell_type": "markdown",
   "metadata": {},
   "source": [
    "## Working with Numpy \n",
    "Documentation : https://numpy.org/doc/ (Trust me, it saves you a lot of effort)<br>\n",
    "<p>NumPy is the fundamental package needed for scientific computing with Python. This package contains:</p>\n",
    "<ul class=\"simple\">\n",
    "<li>\n",
    "<p>a powerful N-dimensional&nbsp;<a class=\"reference internal\" href=\"https://numpy.org/doc/stable/reference/arrays.html#arrays\"><span class=\"std std-ref\">array object</span></a></p>\n",
    "</li>\n",
    "<li>\n",
    "<p>sophisticated&nbsp;<a class=\"reference internal\" href=\"https://numpy.org/doc/stable/reference/ufuncs.html#ufuncs\"><span class=\"std std-ref\">(broadcasting) functions</span></a></p>\n",
    "</li>\n",
    "<li>\n",
    "<p>basic&nbsp;<a class=\"reference internal\" href=\"https://numpy.org/doc/stable/reference/routines.linalg.html#routines-linalg\"><span class=\"std std-ref\">linear algebra functions</span></a></p>\n",
    "</li>\n",
    "<li>\n",
    "<p>basic&nbsp;<a class=\"reference internal\" href=\"https://numpy.org/doc/stable/reference/routines.fft.html#routines-fft\"><span class=\"std std-ref\">Fourier transforms</span></a></p>\n",
    "</li>\n",
    "<li>\n",
    "<p>sophisticated&nbsp;<a class=\"reference internal\" href=\"https://numpy.org/doc/stable/reference/random/index.html#numpyrandom\"><span class=\"std std-ref\">random number capabilities</span></a></p>\n",
    "</li>\n",
    "<li>\n",
    "<p>tools for integrating Fortran code</p>\n",
    "</li>\n",
    "<li>\n",
    "<p>tools for integrating C/C++ code</p>\n",
    "</li>\n",
    "</ul>\n",
    "<p>Besides its obvious scientific uses,&nbsp;<em>NumPy</em>&nbsp;can also be used as an efficient multi-dimensional container of generic data. Arbitrary data types can be defined. This allows&nbsp;<em>NumPy</em>&nbsp;to seamlessly and speedily integrate with a wide variety of databases.</p>\n",
    "<p>NumPy is a successor for two earlier scientific Python libraries: Numeric and Numarray.</p>"
   ]
  },
  {
   "cell_type": "code",
   "execution_count": 2,
   "metadata": {},
   "outputs": [],
   "source": [
    "#import numpy library first\n",
    "import numpy as np"
   ]
  },
  {
   "cell_type": "markdown",
   "metadata": {},
   "source": [
    "![](https://pics.me.me/1-import-numpy-1-import-numpy-as-np-there-is-31232276.png)"
   ]
  },
  {
   "cell_type": "markdown",
   "metadata": {},
   "source": [
    "## DataTypes and Attributes"
   ]
  },
  {
   "cell_type": "markdown",
   "metadata": {},
   "source": [
    "**The predominant datatype in numpy is \"numpy array\"**"
   ]
  },
  {
   "cell_type": "code",
   "execution_count": 3,
   "metadata": {},
   "outputs": [
    {
     "data": {
      "text/plain": [
       "array([4, 5, 6])"
      ]
     },
     "execution_count": 3,
     "metadata": {},
     "output_type": "execute_result"
    }
   ],
   "source": [
    "ar = np.array([4,5,6])\n",
    "ar"
   ]
  },
  {
   "cell_type": "code",
   "execution_count": 30,
   "metadata": {},
   "outputs": [
    {
     "data": {
      "text/plain": [
       "dtype('int32')"
      ]
     },
     "execution_count": 30,
     "metadata": {},
     "output_type": "execute_result"
    }
   ],
   "source": [
    "ar.dtype #it is in integer"
   ]
  },
  {
   "cell_type": "code",
   "execution_count": 7,
   "metadata": {},
   "outputs": [
    {
     "data": {
      "text/plain": [
       "array([[3, 2, 1],\n",
       "       [6, 5, 4]])"
      ]
     },
     "execution_count": 7,
     "metadata": {},
     "output_type": "execute_result"
    }
   ],
   "source": [
    "ar2 = np.array([[3,2,1],[6,5,4]])\n",
    "ar2"
   ]
  },
  {
   "cell_type": "code",
   "execution_count": 11,
   "metadata": {},
   "outputs": [
    {
     "data": {
      "text/plain": [
       "array([[[3. , 2. , 1. ],\n",
       "        [6. , 5. , 4. ],\n",
       "        [9.3, 8.2, 7.1]],\n",
       "\n",
       "       [[3. , 2. , 1. ],\n",
       "        [6. , 5. , 4. ],\n",
       "        [9. , 5. , 1. ]]])"
      ]
     },
     "execution_count": 11,
     "metadata": {},
     "output_type": "execute_result"
    }
   ],
   "source": [
    "ar3 = np.array([[[3,2,1],[6,5,4],[9.3,8.2,7.1]],\n",
    "              [[3,2,1],[6,5,4],[9,5,1]]])\n",
    "ar3"
   ]
  },
  {
   "cell_type": "code",
   "execution_count": 31,
   "metadata": {},
   "outputs": [
    {
     "data": {
      "text/plain": [
       "dtype('float64')"
      ]
     },
     "execution_count": 31,
     "metadata": {},
     "output_type": "execute_result"
    }
   ],
   "source": [
    "ar3.dtype #it is in float"
   ]
  },
  {
   "cell_type": "markdown",
   "metadata": {},
   "source": [
    "Now here is the explanation for what just happened!\n",
    "![](https://udemy-images.s3.amazonaws.com/redactor/raw/2020-01-28_03-56-32-433698fdb6cb595d61a490062cd00619.png)\n",
    "\n",
    "Just in case if it helps,<br>\n",
    "Formula for shape of an array = R X C [R=row, C=column] <br>\n",
    "Axes for multidimensional arrays :<br>\n",
    "Axis 0 = Rows<br>\n",
    "Axis 1 = Columns<br>\n",
    "Axis n = Beyond rows and columns (You may think of it as the z axis)\n"
   ]
  },
  {
   "cell_type": "code",
   "execution_count": 17,
   "metadata": {},
   "outputs": [
    {
     "data": {
      "text/plain": [
       "(1, 2, 3)"
      ]
     },
     "execution_count": 17,
     "metadata": {},
     "output_type": "execute_result"
    }
   ],
   "source": [
    "#dimensions\n",
    "ar.ndim, ar2.ndim, ar3.ndim"
   ]
  },
  {
   "cell_type": "code",
   "execution_count": 19,
   "metadata": {},
   "outputs": [
    {
     "data": {
      "text/plain": [
       "(3, 6, 18)"
      ]
     },
     "execution_count": 19,
     "metadata": {},
     "output_type": "execute_result"
    }
   ],
   "source": [
    "#size or number of elements in each array\n",
    "ar.size, ar2.size, ar3.size"
   ]
  },
  {
   "cell_type": "code",
   "execution_count": 21,
   "metadata": {},
   "outputs": [
    {
     "data": {
      "text/plain": [
       "(numpy.ndarray, numpy.ndarray, numpy.ndarray)"
      ]
     },
     "execution_count": 21,
     "metadata": {},
     "output_type": "execute_result"
    }
   ],
   "source": [
    "#types of data \n",
    "type(ar), type(ar2), type(ar3)"
   ]
  },
  {
   "cell_type": "markdown",
   "metadata": {},
   "source": [
    "**Numpy array to Pandas dataframe**\n"
   ]
  },
  {
   "cell_type": "code",
   "execution_count": 25,
   "metadata": {},
   "outputs": [
    {
     "data": {
      "text/html": [
       "<div>\n",
       "<style scoped>\n",
       "    .dataframe tbody tr th:only-of-type {\n",
       "        vertical-align: middle;\n",
       "    }\n",
       "\n",
       "    .dataframe tbody tr th {\n",
       "        vertical-align: top;\n",
       "    }\n",
       "\n",
       "    .dataframe thead th {\n",
       "        text-align: right;\n",
       "    }\n",
       "</style>\n",
       "<table border=\"1\" class=\"dataframe\">\n",
       "  <thead>\n",
       "    <tr style=\"text-align: right;\">\n",
       "      <th></th>\n",
       "      <th>0</th>\n",
       "    </tr>\n",
       "  </thead>\n",
       "  <tbody>\n",
       "    <tr>\n",
       "      <th>0</th>\n",
       "      <td>4</td>\n",
       "    </tr>\n",
       "    <tr>\n",
       "      <th>1</th>\n",
       "      <td>5</td>\n",
       "    </tr>\n",
       "    <tr>\n",
       "      <th>2</th>\n",
       "      <td>6</td>\n",
       "    </tr>\n",
       "  </tbody>\n",
       "</table>\n",
       "</div>"
      ],
      "text/plain": [
       "   0\n",
       "0  4\n",
       "1  5\n",
       "2  6"
      ]
     },
     "execution_count": 25,
     "metadata": {},
     "output_type": "execute_result"
    }
   ],
   "source": [
    "import pandas as pd\n",
    "pd.DataFrame(ar)"
   ]
  },
  {
   "cell_type": "code",
   "execution_count": 26,
   "metadata": {},
   "outputs": [
    {
     "data": {
      "text/html": [
       "<div>\n",
       "<style scoped>\n",
       "    .dataframe tbody tr th:only-of-type {\n",
       "        vertical-align: middle;\n",
       "    }\n",
       "\n",
       "    .dataframe tbody tr th {\n",
       "        vertical-align: top;\n",
       "    }\n",
       "\n",
       "    .dataframe thead th {\n",
       "        text-align: right;\n",
       "    }\n",
       "</style>\n",
       "<table border=\"1\" class=\"dataframe\">\n",
       "  <thead>\n",
       "    <tr style=\"text-align: right;\">\n",
       "      <th></th>\n",
       "      <th>0</th>\n",
       "      <th>1</th>\n",
       "      <th>2</th>\n",
       "    </tr>\n",
       "  </thead>\n",
       "  <tbody>\n",
       "    <tr>\n",
       "      <th>0</th>\n",
       "      <td>3</td>\n",
       "      <td>2</td>\n",
       "      <td>1</td>\n",
       "    </tr>\n",
       "    <tr>\n",
       "      <th>1</th>\n",
       "      <td>6</td>\n",
       "      <td>5</td>\n",
       "      <td>4</td>\n",
       "    </tr>\n",
       "  </tbody>\n",
       "</table>\n",
       "</div>"
      ],
      "text/plain": [
       "   0  1  2\n",
       "0  3  2  1\n",
       "1  6  5  4"
      ]
     },
     "execution_count": 26,
     "metadata": {},
     "output_type": "execute_result"
    }
   ],
   "source": [
    "pd.DataFrame(ar2)"
   ]
  },
  {
   "cell_type": "markdown",
   "metadata": {},
   "source": [
    "**pd.DataFrame(ar3)** -------- this gives an error<br>\n",
    "ValueError: Must pass 2-d input, <br>ie, A 3D array cannot be described in form of a dataframe"
   ]
  },
  {
   "cell_type": "markdown",
   "metadata": {},
   "source": [
    "![](https://www.thecoderpedia.com/wp-content/uploads/2020/06/Programming-Memes.jpg?x78009)"
   ]
  },
  {
   "cell_type": "markdown",
   "metadata": {},
   "source": [
    "## Creating numpy arrays"
   ]
  },
  {
   "cell_type": "code",
   "execution_count": 35,
   "metadata": {},
   "outputs": [
    {
     "data": {
      "text/plain": [
       "array([[1., 1., 1.],\n",
       "       [1., 1., 1.]])"
      ]
     },
     "execution_count": 35,
     "metadata": {},
     "output_type": "execute_result"
    }
   ],
   "source": [
    "ones = np.ones((2,3))\n",
    "ones"
   ]
  },
  {
   "cell_type": "markdown",
   "metadata": {},
   "source": [
    "<p><code class=\"sig-prename descclassname\">numpy.</code><code class=\"sig-name descname\"><span class=\"highlighted\">ones</span></code><span class=\"sig-paren\">(</span><em class=\"sig-param\">shape</em>,&nbsp;<em class=\"sig-param\">dtype=None</em>,&nbsp;<em class=\"sig-param\">order='C'</em><span class=\"sig-paren\">)</span></p>\n",
    "<p>Return a new array of given shape and type, filled with&nbsp;<span class=\"highlighted\">ones</span>.</p>\n",
    "<p>&nbsp;</p>"
   ]
  },
  {
   "cell_type": "code",
   "execution_count": 36,
   "metadata": {},
   "outputs": [
    {
     "data": {
      "text/plain": [
       "dtype('float64')"
      ]
     },
     "execution_count": 36,
     "metadata": {},
     "output_type": "execute_result"
    }
   ],
   "source": [
    "ones.dtype"
   ]
  },
  {
   "cell_type": "code",
   "execution_count": 37,
   "metadata": {},
   "outputs": [
    {
     "data": {
      "text/plain": [
       "array([[0., 0., 0.],\n",
       "       [0., 0., 0.]])"
      ]
     },
     "execution_count": 37,
     "metadata": {},
     "output_type": "execute_result"
    }
   ],
   "source": [
    "zeros = np.zeros((2,3))\n",
    "zeros"
   ]
  },
  {
   "cell_type": "markdown",
   "metadata": {},
   "source": [
    "<p>numpy.zeros(shape, dtype=float, order='C')<br> Return a new array of given shape and type, filled with zeros.</p>"
   ]
  },
  {
   "cell_type": "code",
   "execution_count": 39,
   "metadata": {},
   "outputs": [
    {
     "data": {
      "text/plain": [
       "dtype('float64')"
      ]
     },
     "execution_count": 39,
     "metadata": {},
     "output_type": "execute_result"
    }
   ],
   "source": [
    "zeros.dtype"
   ]
  },
  {
   "cell_type": "code",
   "execution_count": null,
   "metadata": {},
   "outputs": [],
   "source": []
  },
  {
   "cell_type": "code",
   "execution_count": null,
   "metadata": {},
   "outputs": [],
   "source": []
  }
 ],
 "metadata": {
  "kernelspec": {
   "display_name": "Python 3.8.1 32-bit",
   "language": "python",
   "name": "python38132bit93aab49dff954651a4c1e4402da878fd"
  },
  "language_info": {
   "codemirror_mode": {
    "name": "ipython",
    "version": 3
   },
   "file_extension": ".py",
   "mimetype": "text/x-python",
   "name": "python",
   "nbconvert_exporter": "python",
   "pygments_lexer": "ipython3",
   "version": "3.8.1"
  }
 },
 "nbformat": 4,
 "nbformat_minor": 4
}
