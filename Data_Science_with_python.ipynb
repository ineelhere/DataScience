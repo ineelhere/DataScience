{
  "nbformat": 4,
  "nbformat_minor": 0,
  "metadata": {
    "colab": {
      "name": "Data Science with python.ipynb",
      "provenance": [],
      "collapsed_sections": [],
      "authorship_tag": "ABX9TyNNylo2zQ5odMMyd+dx9lHN"
    },
    "kernelspec": {
      "name": "python3",
      "display_name": "Python 3"
    }
  },
  "cells": [
    {
      "cell_type": "markdown",
      "metadata": {
        "id": "fsL6Jp-VppIy",
        "colab_type": "text"
      },
      "source": [
        "# Working with numpy"
      ]
    },
    {
      "cell_type": "markdown",
      "metadata": {
        "id": "VLF8VrsWp9Zc",
        "colab_type": "text"
      },
      "source": [
        "**First things first, we need to import the numpy.**"
      ]
    },
    {
      "cell_type": "code",
      "metadata": {
        "id": "xxz6qm15p17z",
        "colab_type": "code",
        "colab": {}
      },
      "source": [
        "import numpy as np"
      ],
      "execution_count": 6,
      "outputs": []
    },
    {
      "cell_type": "markdown",
      "metadata": {
        "id": "kTTnW4QDqJpS",
        "colab_type": "text"
      },
      "source": [
        "**let us create a normal list of numbers**"
      ]
    },
    {
      "cell_type": "code",
      "metadata": {
        "id": "JMjlB2PvqH5e",
        "colab_type": "code",
        "colab": {
          "base_uri": "https://localhost:8080/",
          "height": 51
        },
        "outputId": "7ec01e8d-e6bf-4447-d397-a98bcdae5697"
      },
      "source": [
        "ages = [10,50,21,78,85,98,52,45,36,25,11,8,5,79]\n",
        "print(ages)\n",
        "type(ages) #just to show you that this is a list :)"
      ],
      "execution_count": null,
      "outputs": [
        {
          "output_type": "stream",
          "text": [
            "[10, 50, 21, 78, 85, 98, 52, 45, 36, 25, 11, 8, 5, 79]\n"
          ],
          "name": "stdout"
        },
        {
          "output_type": "execute_result",
          "data": {
            "text/plain": [
              "list"
            ]
          },
          "metadata": {
            "tags": []
          },
          "execution_count": 23
        }
      ]
    },
    {
      "cell_type": "markdown",
      "metadata": {
        "id": "H5c6zhwCq7-D",
        "colab_type": "text"
      },
      "source": [
        "**chnaging the list to numpy array - the fun begins!**"
      ]
    },
    {
      "cell_type": "code",
      "metadata": {
        "id": "RX3ik6XJq6G8",
        "colab_type": "code",
        "colab": {
          "base_uri": "https://localhost:8080/",
          "height": 51
        },
        "outputId": "c8eb87cf-8098-4bdd-a8dd-7ead8cf62c35"
      },
      "source": [
        "ages_array = np.array(ages)\n",
        "print(ages_array)\n",
        "type(ages_array) #just to show you that this is now a numpy array!"
      ],
      "execution_count": null,
      "outputs": [
        {
          "output_type": "stream",
          "text": [
            "[10 50 21 78 85 98 52 45 36 25 11  8  5 79]\n"
          ],
          "name": "stdout"
        },
        {
          "output_type": "execute_result",
          "data": {
            "text/plain": [
              "numpy.ndarray"
            ]
          },
          "metadata": {
            "tags": []
          },
          "execution_count": 24
        }
      ]
    },
    {
      "cell_type": "markdown",
      "metadata": {
        "id": "ONZMlmqurpz2",
        "colab_type": "text"
      },
      "source": [
        "**ndarray means n dimensional array.** <br>\n",
        "**we can see the size and shape of the array too.**<br>\n",
        "**size = number of elements (ages in this case)** <br>\n",
        "**shape = dimension of the array** <br>\n",
        "\n",
        "*once an array is created in numpy, its size cannot be changed* "
      ]
    },
    {
      "cell_type": "code",
      "metadata": {
        "id": "GRRK4ZFmsPXt",
        "colab_type": "code",
        "colab": {
          "base_uri": "https://localhost:8080/",
          "height": 85
        },
        "outputId": "4d5f7acc-835d-4a80-f748-57397b531cad"
      },
      "source": [
        "size = ages_array.size\n",
        "shape = ages_array.shape\n",
        "print(f'Size = {size} \\nType of the above output = {type(size)} \\nShape = {shape} \\nType of the above output = {type(shape)} ')"
      ],
      "execution_count": null,
      "outputs": [
        {
          "output_type": "stream",
          "text": [
            "Size = 14 \n",
            "Type of the above output = <class 'int'> \n",
            "Shape = (14,) \n",
            "Type of the above output = <class 'tuple'> \n"
          ],
          "name": "stdout"
        }
      ]
    },
    {
      "cell_type": "code",
      "metadata": {
        "id": "4G-3mj4JtIVX",
        "colab_type": "code",
        "colab": {
          "base_uri": "https://localhost:8080/",
          "height": 34
        },
        "outputId": "a130f240-17ad-4a93-b46b-2d40dcb29fe2"
      },
      "source": [
        "# size can also be found with 'len' method which gives output in integer\n",
        "size_len = len(ages_array)\n",
        "print(size_len)"
      ],
      "execution_count": null,
      "outputs": [
        {
          "output_type": "stream",
          "text": [
            "14\n"
          ],
          "name": "stdout"
        }
      ]
    },
    {
      "cell_type": "markdown",
      "metadata": {
        "id": "-9BBCOQ5t-gB",
        "colab_type": "text"
      },
      "source": [
        "**Reshaping the array**"
      ]
    },
    {
      "cell_type": "code",
      "metadata": {
        "id": "ppYDH4o4ugwr",
        "colab_type": "code",
        "colab": {
          "base_uri": "https://localhost:8080/",
          "height": 51
        },
        "outputId": "60bb9919-208b-43c2-9a24-201cddf3ef53"
      },
      "source": [
        "ages1 = [10,50,21,78,85,98,52,45,36,25,11,8,5,79]\n",
        "ages2 = [10,50,21,78,85,98,52,45,36,25,11,8,5,79]\n",
        "both = ages1 + ages2\n",
        "both = np.array(both) \n",
        "reshaped = both.reshape((2,14))\n",
        "print(reshaped) # now the array is 2D with each dimension having 14 elements"
      ],
      "execution_count": null,
      "outputs": [
        {
          "output_type": "stream",
          "text": [
            "[[10 50 21 78 85 98 52 45 36 25 11  8  5 79]\n",
            " [10 50 21 78 85 98 52 45 36 25 11  8  5 79]]\n"
          ],
          "name": "stdout"
        }
      ]
    },
    {
      "cell_type": "markdown",
      "metadata": {
        "id": "gIczAcL34DF_",
        "colab_type": "text"
      },
      "source": [
        "**Indexing in numpy arrays** <br>\n",
        "[Check out this website!](https://numpy.org/doc/stable/reference/arrays.indexing.html)\n"
      ]
    },
    {
      "cell_type": "code",
      "metadata": {
        "id": "PU2WnTxY4CSu",
        "colab_type": "code",
        "colab": {
          "base_uri": "https://localhost:8080/",
          "height": 51
        },
        "outputId": "264acb94-cd14-4b87-efba-df555fd0a3c1"
      },
      "source": [
        "# indexing in the normal numpy array\n",
        "print(f'The normal numpy array we created = {ages_array}')\n",
        "print(f'Normal numpy array 5th index = {ages_array[4]}')"
      ],
      "execution_count": null,
      "outputs": [
        {
          "output_type": "stream",
          "text": [
            "The normal numpy array we created = [10 50 21 78 85 98 52 45 36 25 11  8  5 79]\n",
            "Normal numpy array 5th index = 85\n"
          ],
          "name": "stdout"
        }
      ]
    },
    {
      "cell_type": "code",
      "metadata": {
        "id": "qfZMlu8w230N",
        "colab_type": "code",
        "colab": {
          "base_uri": "https://localhost:8080/",
          "height": 68
        },
        "outputId": "08fadc38-cd21-4c35-d34e-c5b8b0a8fbcd"
      },
      "source": [
        "# indexing in the reshaped numpy array\n",
        "print(f'The normal numpy array we created = {reshaped}')\n",
        "print(f'Normal numpy array 5th index = {reshaped[1,4]}')"
      ],
      "execution_count": null,
      "outputs": [
        {
          "output_type": "stream",
          "text": [
            "The normal numpy array we created = [[10 50 21 78 85 98 52 45 36 25 11  8  5 79]\n",
            " [10 50 21 78 85 98 52 45 36 25 11  8  5 79]]\n",
            "Normal numpy array 5th index = 85\n"
          ],
          "name": "stdout"
        }
      ]
    },
    {
      "cell_type": "markdown",
      "metadata": {
        "id": "d-YP1SKs8QN3",
        "colab_type": "text"
      },
      "source": [
        "**Slicing numpy arrays**\n"
      ]
    },
    {
      "cell_type": "code",
      "metadata": {
        "id": "X-suShd2XvPq",
        "colab_type": "code",
        "colab": {
          "base_uri": "https://localhost:8080/",
          "height": 119
        },
        "outputId": "fe37f16b-ce16-4579-be8e-ea2665bc5aa6"
      },
      "source": [
        "# general form of the syntax : arr[start:stop:step]\n",
        "print(f'The array we are working on : \\n{reshaped}')\n",
        "print(f'The first three elements from the first row = {reshaped[0,0:3]}')\n",
        "# alternative of the above code\n",
        "print(f'The first three elements from the first row [alternative] = {reshaped[0,:3]}') #since we are starting from index 0 itself, we can omit the 0\n",
        "print(f'The entire fourth column of the 2D array = {reshaped[:,3]}')"
      ],
      "execution_count": null,
      "outputs": [
        {
          "output_type": "stream",
          "text": [
            "The array we are working on : \n",
            "[[10 50 21 78 85 98 52 45 36 25 11  8  5 79]\n",
            " [10 50 21 78 85 98 52 45 36 25 11  8  5 79]]\n",
            "The first three elements from the first row = [10 50 21]\n",
            "The first three elements from the first row [alternative] = [10 50 21]\n",
            "The entire fourth column of the 2D array = [78 78]\n"
          ],
          "name": "stdout"
        }
      ]
    },
    {
      "cell_type": "markdown",
      "metadata": {
        "id": "q9oBB9TiCa2C",
        "colab_type": "text"
      },
      "source": [
        "**Value assignment** <br>\n",
        "[click here for more](https://numpy.org/doc/stable/reference/arrays.indexing.html)"
      ]
    },
    {
      "cell_type": "code",
      "metadata": {
        "id": "HiVy9ZknCbRl",
        "colab_type": "code",
        "colab": {
          "base_uri": "https://localhost:8080/",
          "height": 153
        },
        "outputId": "bc738234-6b16-4a00-8d70-8430a40e5f60"
      },
      "source": [
        "test = reshaped\n",
        "print(f'The array initially: \\n{test}')\n",
        "print(f'Initial Value of 1st array 4th column {test[0,3]}')\n",
        "test[0,3] = 1234\n",
        "print(f'New Value of 1st array 4th column {test[0,3]}')\n",
        "print(f'The array now: \\n{test}')"
      ],
      "execution_count": null,
      "outputs": [
        {
          "output_type": "stream",
          "text": [
            "The array initially: \n",
            "[[10 50 21 78 85 98 52 45 36 25 11  8  5 79]\n",
            " [10 50 21 78 85 98 52 45 36 25 11  8  5 79]]\n",
            "Initial Value of 1st array 4th column 78\n",
            "New Value of 1st array 4th column 1234\n",
            "The array now: \n",
            "[[  10   50   21 1234   85   98   52   45   36   25   11    8    5   79]\n",
            " [  10   50   21   78   85   98   52   45   36   25   11    8    5   79]]\n"
          ],
          "name": "stdout"
        }
      ]
    },
    {
      "cell_type": "markdown",
      "metadata": {
        "id": "408YT6ihHyvh",
        "colab_type": "text"
      },
      "source": [
        "**Assign single value to one whole array**"
      ]
    },
    {
      "cell_type": "code",
      "metadata": {
        "id": "MomIxpbmH7xg",
        "colab_type": "code",
        "colab": {
          "base_uri": "https://localhost:8080/",
          "height": 119
        },
        "outputId": "8d6132ac-61fe-4359-bd49-53c7c4882d34"
      },
      "source": [
        "print(f'The array initially: \\n{test}')\n",
        "#here is the fun part!\n",
        "test[0,:] = 5678\n",
        "print(f'The array now: \\n{test}')"
      ],
      "execution_count": null,
      "outputs": [
        {
          "output_type": "stream",
          "text": [
            "The array initially: \n",
            "[[  10   50   21 1234   85   98   52   45   36   25   11    8    5   79]\n",
            " [  10   50   21   78   85   98   52   45   36   25   11    8    5   79]]\n",
            "The array now: \n",
            "[[5678 5678 5678 5678 5678 5678 5678 5678 5678 5678 5678 5678 5678 5678]\n",
            " [  10   50   21   78   85   98   52   45   36   25   11    8    5   79]]\n"
          ],
          "name": "stdout"
        }
      ]
    },
    {
      "cell_type": "markdown",
      "metadata": {
        "id": "GzRsFnIvIjH5",
        "colab_type": "text"
      },
      "source": [
        "**Assigning values to subset to the array**"
      ]
    },
    {
      "cell_type": "code",
      "metadata": {
        "id": "8KUmBADUIjiv",
        "colab_type": "code",
        "colab": {
          "base_uri": "https://localhost:8080/",
          "height": 119
        },
        "outputId": "d1fadd68-eb22-485d-a2be-d2e0b4d431e5"
      },
      "source": [
        "print(f'The array initially: \\n{test}')\n",
        "test[:5, :5] = 1010\n",
        "print(f'The array now: \\n{test}')"
      ],
      "execution_count": null,
      "outputs": [
        {
          "output_type": "stream",
          "text": [
            "The array initially: \n",
            "[[5678 5678 5678 5678 5678 5678 5678 5678 5678 5678 5678 5678 5678 5678]\n",
            " [  10   50   21   78   85   98   52   45   36   25   11    8    5   79]]\n",
            "The array now: \n",
            "[[1010 1010 1010 1010 1010 5678 5678 5678 5678 5678 5678 5678 5678 5678]\n",
            " [1010 1010 1010 1010 1010   98   52   45   36   25   11    8    5   79]]\n"
          ],
          "name": "stdout"
        }
      ]
    },
    {
      "cell_type": "markdown",
      "metadata": {
        "id": "TsVCJmQPzlcP",
        "colab_type": "text"
      },
      "source": [
        "**Stacking arrays** <br>\n",
        "[documentation](https://numpy.org/doc/stable/reference/generated/numpy.hstack.html)"
      ]
    },
    {
      "cell_type": "code",
      "metadata": {
        "id": "GWQQSMbh4Km1",
        "colab_type": "code",
        "colab": {
          "base_uri": "https://localhost:8080/",
          "height": 221
        },
        "outputId": "8fbadefa-3d92-4c80-d1a1-d61a28cd8a2f"
      },
      "source": [
        "#Join a sequence of arrays along a new axis.\n",
        "a = np.array([1, 2, 3])\n",
        "b = np.array([2, 3, 4])\n",
        "print(f'Basic Stacking : \\n {np.stack((a, b))}')\n",
        "print(f'Axis = -1 : \\n {np.stack((a, b), axis = -1)}')\n",
        "print(f'Axis = -2 : \\n {np.stack((a, b), axis = -2)}')\n",
        "print(f'Axis = -3 : \\nGives error : axis -3 is out of bounds for array of dimension 2')"
      ],
      "execution_count": 13,
      "outputs": [
        {
          "output_type": "stream",
          "text": [
            "Basic Stacking : \n",
            " [[1 2 3]\n",
            " [2 3 4]]\n",
            "Axis = -1 : \n",
            " [[1 2]\n",
            " [2 3]\n",
            " [3 4]]\n",
            "Axis = -2 : \n",
            " [[1 2 3]\n",
            " [2 3 4]]\n",
            "Axis = -3 : \n",
            "Gives error : axis -3 is out of bounds for array of dimension 2\n"
          ],
          "name": "stdout"
        }
      ]
    }
  ]
}