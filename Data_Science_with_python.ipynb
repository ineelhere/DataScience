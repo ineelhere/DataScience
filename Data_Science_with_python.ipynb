{
  "nbformat": 4,
  "nbformat_minor": 0,
  "metadata": {
    "colab": {
      "name": "Data Science with python.ipynb",
      "provenance": [],
      "collapsed_sections": [],
      "authorship_tag": "ABX9TyN8QA9xZZNXu6u4T5jGSBg6"
    },
    "kernelspec": {
      "name": "python3",
      "display_name": "Python 3"
    }
  },
  "cells": [
    {
      "cell_type": "markdown",
      "metadata": {
        "id": "fsL6Jp-VppIy",
        "colab_type": "text"
      },
      "source": [
        "# Working with numpy"
      ]
    },
    {
      "cell_type": "markdown",
      "metadata": {
        "id": "VLF8VrsWp9Zc",
        "colab_type": "text"
      },
      "source": [
        "First things first, we need to import the numpy."
      ]
    },
    {
      "cell_type": "code",
      "metadata": {
        "id": "xxz6qm15p17z",
        "colab_type": "code",
        "colab": {}
      },
      "source": [
        "import numpy as np"
      ],
      "execution_count": 1,
      "outputs": []
    },
    {
      "cell_type": "markdown",
      "metadata": {
        "id": "kTTnW4QDqJpS",
        "colab_type": "text"
      },
      "source": [
        "let us create a normal list of numbers"
      ]
    },
    {
      "cell_type": "code",
      "metadata": {
        "id": "JMjlB2PvqH5e",
        "colab_type": "code",
        "colab": {
          "base_uri": "https://localhost:8080/",
          "height": 51
        },
        "outputId": "62ed34bf-01c2-418c-fd6a-084269f46491"
      },
      "source": [
        "ages = [10,50,21,78,85,98,52,45,36,25,11,8,5,79]\n",
        "print(ages)\n",
        "type(ages) #just to show you that this is a list :)"
      ],
      "execution_count": 5,
      "outputs": [
        {
          "output_type": "stream",
          "text": [
            "[10, 50, 21, 78, 85, 98, 52, 45, 36, 25, 11, 8, 5, 79]\n"
          ],
          "name": "stdout"
        },
        {
          "output_type": "execute_result",
          "data": {
            "text/plain": [
              "list"
            ]
          },
          "metadata": {
            "tags": []
          },
          "execution_count": 5
        }
      ]
    },
    {
      "cell_type": "markdown",
      "metadata": {
        "id": "H5c6zhwCq7-D",
        "colab_type": "text"
      },
      "source": [
        "chnaging the list to numpy array - the fun begins!"
      ]
    },
    {
      "cell_type": "code",
      "metadata": {
        "id": "RX3ik6XJq6G8",
        "colab_type": "code",
        "colab": {
          "base_uri": "https://localhost:8080/",
          "height": 51
        },
        "outputId": "dd10afa7-9665-4e29-91f7-7e2bed5031e2"
      },
      "source": [
        "ages_array = np.array(ages)\n",
        "print(ages_array)\n",
        "type(ages_array) #just to show you that this is now a numpy array!"
      ],
      "execution_count": 4,
      "outputs": [
        {
          "output_type": "stream",
          "text": [
            "[10 50 21 78 85 98 52 45 36 25 11  8  5 79]\n"
          ],
          "name": "stdout"
        },
        {
          "output_type": "execute_result",
          "data": {
            "text/plain": [
              "numpy.ndarray"
            ]
          },
          "metadata": {
            "tags": []
          },
          "execution_count": 4
        }
      ]
    },
    {
      "cell_type": "markdown",
      "metadata": {
        "id": "ONZMlmqurpz2",
        "colab_type": "text"
      },
      "source": [
        "ndarray means n dimensional array. <br>\n",
        "we can see the size and shape of the array too.<br>\n",
        "size = number of elements (ages in this case) <br>\n",
        "shape = dimension of the array <br>\n",
        "\n",
        "*once an array is created in numpy, its size cannot be changed*"
      ]
    },
    {
      "cell_type": "code",
      "metadata": {
        "id": "GRRK4ZFmsPXt",
        "colab_type": "code",
        "colab": {
          "base_uri": "https://localhost:8080/",
          "height": 85
        },
        "outputId": "273044fd-1512-407b-cf26-39e83822969b"
      },
      "source": [
        "size = ages_array.size\n",
        "shape = ages_array.shape\n",
        "print(f'Size = {size} \\nType of the above output = {type(size)} \\nShape = {shape} \\nType of the above output = {type(shape)} ')"
      ],
      "execution_count": 13,
      "outputs": [
        {
          "output_type": "stream",
          "text": [
            "Size = 14 \n",
            "Type of the above output = <class 'int'> \n",
            "Shape = (14,) \n",
            "Type of the above output = <class 'tuple'> \n"
          ],
          "name": "stdout"
        }
      ]
    },
    {
      "cell_type": "code",
      "metadata": {
        "id": "4G-3mj4JtIVX",
        "colab_type": "code",
        "colab": {
          "base_uri": "https://localhost:8080/",
          "height": 34
        },
        "outputId": "60e8c61c-a071-422d-92d2-22665d99d068"
      },
      "source": [
        "# size can also be found with 'len' method which gives output in integer\n",
        "size_len = len(ages_array)\n",
        "print(size_len)"
      ],
      "execution_count": 10,
      "outputs": [
        {
          "output_type": "stream",
          "text": [
            "14\n"
          ],
          "name": "stdout"
        }
      ]
    },
    {
      "cell_type": "markdown",
      "metadata": {
        "id": "-9BBCOQ5t-gB",
        "colab_type": "text"
      },
      "source": [
        "Reshaping the array"
      ]
    },
    {
      "cell_type": "code",
      "metadata": {
        "id": "ppYDH4o4ugwr",
        "colab_type": "code",
        "colab": {
          "base_uri": "https://localhost:8080/",
          "height": 51
        },
        "outputId": "f27010b5-de63-4a73-f0e5-c3366d916970"
      },
      "source": [
        "ages1 = [10,50,21,78,85,98,52,45,36,25,11,8,5,79]\n",
        "ages2 = [10,50,21,78,85,98,52,45,36,25,11,8,5,79]\n",
        "both = ages1 + ages2\n",
        "both = np.array(both) \n",
        "reshaped = both.reshape((2,14))\n",
        "print(reshaped) # now the array is 2D with each dimension having 14 elements"
      ],
      "execution_count": 26,
      "outputs": [
        {
          "output_type": "stream",
          "text": [
            "[[10 50 21 78 85 98 52 45 36 25 11  8  5 79]\n",
            " [10 50 21 78 85 98 52 45 36 25 11  8  5 79]]\n"
          ],
          "name": "stdout"
        }
      ]
    },
    {
      "cell_type": "markdown",
      "metadata": {
        "id": "gIczAcL34DF_",
        "colab_type": "text"
      },
      "source": [
        "Indexing in numpy arrays"
      ]
    },
    {
      "cell_type": "code",
      "metadata": {
        "id": "PU2WnTxY4CSu",
        "colab_type": "code",
        "colab": {
          "base_uri": "https://localhost:8080/",
          "height": 51
        },
        "outputId": "d179bac2-ddfd-4f7d-8244-b58af69870a1"
      },
      "source": [
        "# indexing in the normal numpy array\n",
        "print(f'The normal numpy array we created = {ages_array2}')\n",
        "print(f'Normal numpy array 5th index = {ages_array[4]}')"
      ],
      "execution_count": 29,
      "outputs": [
        {
          "output_type": "stream",
          "text": [
            "The normal numpy array we created = [10 50 21 78 85 98 52 45 36 25 11  8  5 79]\n",
            "Normal numpy array 5th index = 85\n"
          ],
          "name": "stdout"
        }
      ]
    },
    {
      "cell_type": "code",
      "metadata": {
        "id": "qfZMlu8w230N",
        "colab_type": "code",
        "colab": {
          "base_uri": "https://localhost:8080/",
          "height": 68
        },
        "outputId": "f4caf0f8-5032-44a5-ae75-ac2d20839481"
      },
      "source": [
        "# indexing in the reshaped numpy array\n",
        "print(f'The normal numpy array we created = {reshaped}')\n",
        "print(f'Normal numpy array 5th index = {reshaped[1,4]}')"
      ],
      "execution_count": 31,
      "outputs": [
        {
          "output_type": "stream",
          "text": [
            "The normal numpy array we created = [[10 50 21 78 85 98 52 45 36 25 11  8  5 79]\n",
            " [10 50 21 78 85 98 52 45 36 25 11  8  5 79]]\n",
            "Normal numpy array 5th index = 85\n"
          ],
          "name": "stdout"
        }
      ]
    }
  ]
}