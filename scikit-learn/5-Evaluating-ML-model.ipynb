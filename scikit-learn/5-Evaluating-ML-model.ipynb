{
 "cells": [
  {
   "cell_type": "markdown",
   "metadata": {},
   "source": [
    "# Evaluating a ML Model\n",
    "![](https://media.giphy.com/media/mnwc6vn9T8dag/giphy.gif)<br>\n",
    "###### Give this a read - https://scikit-learn.org/stable/modules/model_evaluation.html\n",
    "<p>There are 3 different APIs for evaluating the quality of a model&rsquo;s predictions:</p>\n",
    "<ul class=\"simple\">\n",
    "<li>\n",
    "<p><strong>Estimator score method</strong>: Estimators have a&nbsp;<code class=\"docutils literal notranslate\"><span class=\"pre\">score</span></code>&nbsp;method providing a default evaluation criterion for the problem they are designed to solve. This is not discussed on this page, but in each estimator&rsquo;s documentation.</p>\n",
    "</li>\n",
    "<li>\n",
    "<p><strong>Scoring parameter</strong>: Model-evaluation tools using&nbsp;<a class=\"reference internal\" href=\"https://scikit-learn.org/stable/modules/cross_validation.html#cross-validation\"><span class=\"std std-ref\">cross-validation</span></a>&nbsp;(such as&nbsp;<a class=\"reference internal\" title=\"sklearn.model_selection.cross_val_score\" href=\"https://scikit-learn.org/stable/modules/generated/sklearn.model_selection.cross_val_score.html#sklearn.model_selection.cross_val_score\"><code class=\"xref py py-func docutils literal notranslate\"><span class=\"pre\">model_selection.cross_val_score</span></code></a>&nbsp;and&nbsp;<a class=\"reference internal\" title=\"sklearn.model_selection.GridSearchCV\" href=\"https://scikit-learn.org/stable/modules/generated/sklearn.model_selection.GridSearchCV.html#sklearn.model_selection.GridSearchCV\"><code class=\"xref py py-class docutils literal notranslate\"><span class=\"pre\">model_selection.GridSearchCV</span></code></a>) rely on an internal&nbsp;<em>scoring</em>&nbsp;strategy. This is discussed in the section&nbsp;<a class=\"reference internal\" href=\"https://scikit-learn.org/stable/modules/model_evaluation.html#scoring-parameter\"><span class=\"std std-ref\">The scoring parameter: defining model evaluation rules</span></a>.</p>\n",
    "</li>\n",
    "<li>\n",
    "<p><strong>Metric functions</strong>: The&nbsp;<code class=\"xref py py-mod docutils literal notranslate\"><span class=\"pre\">metrics</span></code>&nbsp;module implements functions assessing prediction error for specific purposes. These metrics are detailed in sections on&nbsp;<a class=\"reference internal\" href=\"https://scikit-learn.org/stable/modules/model_evaluation.html#classification-metrics\"><span class=\"std std-ref\">Classification metrics</span></a>,&nbsp;<a class=\"reference internal\" href=\"https://scikit-learn.org/stable/modules/model_evaluation.html#multilabel-ranking-metrics\"><span class=\"std std-ref\">Multilabel ranking metrics</span></a>,&nbsp;<a class=\"reference internal\" href=\"https://scikit-learn.org/stable/modules/model_evaluation.html#regression-metrics\"><span class=\"std std-ref\">Regression metrics</span></a>&nbsp;and&nbsp;<a class=\"reference internal\" href=\"https://scikit-learn.org/stable/modules/model_evaluation.html#clustering-metrics\"><span class=\"std std-ref\">Clustering metrics</span></a>.</p>\n",
    "</li>\n",
    "</ul>\n",
    "<p>Finally,&nbsp;<a class=\"reference internal\" href=\"https://scikit-learn.org/stable/modules/model_evaluation.html#dummy-estimators\"><span class=\"std std-ref\">Dummy estimators</span></a>&nbsp;are useful to get a baseline value of those metrics for random predictions.</p>"
   ]
  },
  {
   "cell_type": "code",
   "execution_count": 1,
   "metadata": {},
   "outputs": [],
   "source": [
    "# standard imports\n",
    "import pandas as pd \n",
    "import numpy as np\n",
    "import matplotlib.pyplot as plt"
   ]
  },
  {
   "cell_type": "code",
   "execution_count": 2,
   "metadata": {},
   "outputs": [
    {
     "data": {
      "text/html": [
       "<div>\n",
       "<style scoped>\n",
       "    .dataframe tbody tr th:only-of-type {\n",
       "        vertical-align: middle;\n",
       "    }\n",
       "\n",
       "    .dataframe tbody tr th {\n",
       "        vertical-align: top;\n",
       "    }\n",
       "\n",
       "    .dataframe thead th {\n",
       "        text-align: right;\n",
       "    }\n",
       "</style>\n",
       "<table border=\"1\" class=\"dataframe\">\n",
       "  <thead>\n",
       "    <tr style=\"text-align: right;\">\n",
       "      <th></th>\n",
       "      <th>age</th>\n",
       "      <th>sex</th>\n",
       "      <th>cp</th>\n",
       "      <th>trestbps</th>\n",
       "      <th>chol</th>\n",
       "      <th>fbs</th>\n",
       "      <th>restecg</th>\n",
       "      <th>thalach</th>\n",
       "      <th>exang</th>\n",
       "      <th>oldpeak</th>\n",
       "      <th>slope</th>\n",
       "      <th>ca</th>\n",
       "      <th>thal</th>\n",
       "      <th>target</th>\n",
       "    </tr>\n",
       "  </thead>\n",
       "  <tbody>\n",
       "    <tr>\n",
       "      <th>0</th>\n",
       "      <td>63</td>\n",
       "      <td>1</td>\n",
       "      <td>3</td>\n",
       "      <td>145</td>\n",
       "      <td>233</td>\n",
       "      <td>1</td>\n",
       "      <td>0</td>\n",
       "      <td>150</td>\n",
       "      <td>0</td>\n",
       "      <td>2.3</td>\n",
       "      <td>0</td>\n",
       "      <td>0</td>\n",
       "      <td>1</td>\n",
       "      <td>1</td>\n",
       "    </tr>\n",
       "    <tr>\n",
       "      <th>1</th>\n",
       "      <td>37</td>\n",
       "      <td>1</td>\n",
       "      <td>2</td>\n",
       "      <td>130</td>\n",
       "      <td>250</td>\n",
       "      <td>0</td>\n",
       "      <td>1</td>\n",
       "      <td>187</td>\n",
       "      <td>0</td>\n",
       "      <td>3.5</td>\n",
       "      <td>0</td>\n",
       "      <td>0</td>\n",
       "      <td>2</td>\n",
       "      <td>1</td>\n",
       "    </tr>\n",
       "    <tr>\n",
       "      <th>2</th>\n",
       "      <td>41</td>\n",
       "      <td>0</td>\n",
       "      <td>1</td>\n",
       "      <td>130</td>\n",
       "      <td>204</td>\n",
       "      <td>0</td>\n",
       "      <td>0</td>\n",
       "      <td>172</td>\n",
       "      <td>0</td>\n",
       "      <td>1.4</td>\n",
       "      <td>2</td>\n",
       "      <td>0</td>\n",
       "      <td>2</td>\n",
       "      <td>1</td>\n",
       "    </tr>\n",
       "    <tr>\n",
       "      <th>3</th>\n",
       "      <td>56</td>\n",
       "      <td>1</td>\n",
       "      <td>1</td>\n",
       "      <td>120</td>\n",
       "      <td>236</td>\n",
       "      <td>0</td>\n",
       "      <td>1</td>\n",
       "      <td>178</td>\n",
       "      <td>0</td>\n",
       "      <td>0.8</td>\n",
       "      <td>2</td>\n",
       "      <td>0</td>\n",
       "      <td>2</td>\n",
       "      <td>1</td>\n",
       "    </tr>\n",
       "    <tr>\n",
       "      <th>4</th>\n",
       "      <td>57</td>\n",
       "      <td>0</td>\n",
       "      <td>0</td>\n",
       "      <td>120</td>\n",
       "      <td>354</td>\n",
       "      <td>0</td>\n",
       "      <td>1</td>\n",
       "      <td>163</td>\n",
       "      <td>1</td>\n",
       "      <td>0.6</td>\n",
       "      <td>2</td>\n",
       "      <td>0</td>\n",
       "      <td>2</td>\n",
       "      <td>1</td>\n",
       "    </tr>\n",
       "  </tbody>\n",
       "</table>\n",
       "</div>"
      ],
      "text/plain": [
       "   age  sex  cp  trestbps  chol  fbs  restecg  thalach  exang  oldpeak  slope  \\\n",
       "0   63    1   3       145   233    1        0      150      0      2.3      0   \n",
       "1   37    1   2       130   250    0        1      187      0      3.5      0   \n",
       "2   41    0   1       130   204    0        0      172      0      1.4      2   \n",
       "3   56    1   1       120   236    0        1      178      0      0.8      2   \n",
       "4   57    0   0       120   354    0        1      163      1      0.6      2   \n",
       "\n",
       "   ca  thal  target  \n",
       "0   0     1       1  \n",
       "1   0     2       1  \n",
       "2   0     2       1  \n",
       "3   0     2       1  \n",
       "4   0     2       1  "
      ]
     },
     "execution_count": 2,
     "metadata": {},
     "output_type": "execute_result"
    }
   ],
   "source": [
    "#import dataset\n",
    "hd = pd.read_csv(\"https://raw.githubusercontent.com/ineelhere/Machine-Learning-and-Data-Science/master/scikit-learn/heart-disease.csv\")\n",
    "hd.head()"
   ]
  },
  {
   "cell_type": "code",
   "execution_count": 3,
   "metadata": {},
   "outputs": [
    {
     "data": {
      "text/plain": [
       "0.8524590163934426"
      ]
     },
     "execution_count": 3,
     "metadata": {},
     "output_type": "execute_result"
    }
   ],
   "source": [
    "#get-set-go!\n",
    "\n",
    "# import the ensemble classifiers\n",
    "from sklearn.ensemble import RandomForestClassifier\n",
    "\n",
    "# setup a random seed\n",
    "np.random.seed(42)\n",
    "\n",
    "# create the data\n",
    "x = hd.drop(\"target\", axis=1)\n",
    "y = hd[\"target\"]\n",
    "\n",
    "# split into test and train sets\n",
    "from sklearn.model_selection import train_test_split\n",
    "x_train, x_test, y_train, y_test = train_test_split(x,y, test_size = 0.2)\n",
    "\n",
    "# fit the model to the data = training the ML model\n",
    "clf = RandomForestClassifier() #isntantiate\n",
    "clf.fit(x_train, y_train) #fit\n",
    "\n",
    "# evaluate the above fitted RandomForestClassifier model = use the pattens the ML model has learnt above!\n",
    "clf.score(x_test,y_test)"
   ]
  },
  {
   "cell_type": "markdown",
   "metadata": {},
   "source": [
    "### 3 ways to evaluate sklearn models/estimators\n",
    "* Estimator `score()` method.\n",
    "* The `scoring` parameter.\n",
    "* Problem specific metric functions."
   ]
  },
  {
   "cell_type": "markdown",
   "metadata": {},
   "source": [
    "#### The `score() method` (already done above though)"
   ]
  },
  {
   "cell_type": "code",
   "execution_count": 4,
   "metadata": {},
   "outputs": [
    {
     "data": {
      "text/plain": [
       "1.0"
      ]
     },
     "execution_count": 4,
     "metadata": {},
     "output_type": "execute_result"
    }
   ],
   "source": [
    "clf.score(x_train,y_train) #Return the mean accuracy on the given test data and labels."
   ]
  },
  {
   "cell_type": "code",
   "execution_count": 5,
   "metadata": {},
   "outputs": [
    {
     "data": {
      "text/plain": [
       "0.8524590163934426"
      ]
     },
     "execution_count": 5,
     "metadata": {},
     "output_type": "execute_result"
    }
   ],
   "source": [
    "clf.score(x_test,y_test) #Return the mean accuracy on the given test data and labels."
   ]
  },
  {
   "cell_type": "markdown",
   "metadata": {},
   "source": [
    "Let us do the same, but now with regression"
   ]
  },
  {
   "cell_type": "code",
   "execution_count": 7,
   "metadata": {},
   "outputs": [
    {
     "data": {
      "text/plain": [
       "0.5106393318965518"
      ]
     },
     "execution_count": 7,
     "metadata": {},
     "output_type": "execute_result"
    }
   ],
   "source": [
    "# import the ensemble regressors\n",
    "from sklearn.ensemble import RandomForestRegressor\n",
    "\n",
    "# setup a random seed\n",
    "np.random.seed(42)\n",
    "\n",
    "# create the data\n",
    "x = hd.drop(\"target\", axis=1)\n",
    "y = hd[\"target\"]\n",
    "\n",
    "# split into test and train sets\n",
    "from sklearn.model_selection import train_test_split\n",
    "x_train, x_test, y_train, y_test = train_test_split(x,y, test_size = 0.2)\n",
    "\n",
    "# fit the model to the data = training the ML model\n",
    "model = RandomForestRegressor() #isntantiate\n",
    "model.fit(x_train, y_train) #fit\n",
    "\n",
    "# evaluate the above fitted RandomForestClassifier model = use the pattens the ML model has learnt above!\n",
    "model.score(x_test,y_test)"
   ]
  },
  {
   "cell_type": "code",
   "execution_count": 8,
   "metadata": {},
   "outputs": [
    {
     "data": {
      "text/plain": [
       "0.924203269641995"
      ]
     },
     "execution_count": 8,
     "metadata": {},
     "output_type": "execute_result"
    }
   ],
   "source": [
    "model.score(x_train,y_train) #Return the coefficient of determination R^2 of the prediction."
   ]
  },
  {
   "cell_type": "code",
   "execution_count": 9,
   "metadata": {},
   "outputs": [
    {
     "data": {
      "text/plain": [
       "0.5106393318965518"
      ]
     },
     "execution_count": 9,
     "metadata": {},
     "output_type": "execute_result"
    }
   ],
   "source": [
    "model.score(x_test,y_test) #Return the coefficient of determination R^2 of the prediction."
   ]
  },
  {
   "cell_type": "markdown",
   "metadata": {},
   "source": [
    "See the difference?\n",
    "* for classification - `score()` - Return the `mean accuracy` on the given test data and labels.\n",
    "<br>\n",
    "<pre>\n",
    "In multi-label classification, this is the subset accuracy\n",
    "which is a harsh metric since you require for each sample that\n",
    "each label set be correctly predicted.\n",
    "</pre>\n",
    "* for regression - `score()` - Return the `coefficient of determination` R^2 of the prediction.\n",
    "<br>\n",
    "<pre>The coefficient R^2 is defined as (1 - u/v), where u is the residual\n",
    "sum of squares ((y_true - y_pred) ** 2).sum() and v is the total\n",
    "sum of squares ((y_true - y_true.mean()) ** 2).sum().\n",
    "The best possible score is 1.0 and it can be negative (because the\n",
    "model can be arbitrarily worse). A constant model that always\n",
    "predicts the expected value of y, disregarding the input features,\n",
    "would get a R^2 score of 0.0.\n",
    "</pre>\n",
    "\n",
    "<br>\n",
    "<br><strong>Yeah, you need to know the math!</strong><br>\n",
    "\n",
    "![](https://media.giphy.com/media/bupsZiBKn7vAk/giphy.gif)\n",
    "<br>\n",
    "In case you want to learn these statistical and mathematical concepts, this resource would be very helpful (available for free)<br><br>\n",
    "\n",
    "* MIT 18.650 Statistics for Applications, Fall 2016 - https://www.youtube.com/playlist?list=PLUl4u3cNGP60uVBMaoNERc6knT_MgPKS0\n",
    "* MIT OCW - https://ocw.mit.edu/courses/mathematics/18-650-statistics-for-applications-fall-2016/"
   ]
  },
  {
   "cell_type": "code",
   "execution_count": null,
   "metadata": {},
   "outputs": [],
   "source": []
  }
 ],
 "metadata": {
  "kernelspec": {
   "display_name": "Python 3.8.1 32-bit",
   "language": "python",
   "name": "python38132bit93aab49dff954651a4c1e4402da878fd"
  },
  "language_info": {
   "codemirror_mode": {
    "name": "ipython",
    "version": 3
   },
   "file_extension": ".py",
   "mimetype": "text/x-python",
   "name": "python",
   "nbconvert_exporter": "python",
   "pygments_lexer": "ipython3",
   "version": "3.8.1"
  }
 },
 "nbformat": 4,
 "nbformat_minor": 4
}
