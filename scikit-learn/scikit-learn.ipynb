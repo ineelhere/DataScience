{
 "cells": [
  {
   "cell_type": "markdown",
   "metadata": {},
   "source": [
    "# This is where the ML magic happens!\n",
    "![](https://scikit-learn.org/stable/_static/scikit-learn-logo-small.png)\n",
    "Reference :\n",
    "* https://scikit-learn.org/stable/\n",
    "* https://scikit-learn.org/stable/user_guide.html\n",
    "\n",
    "This book is awesome! Get it if possible! ![](https://learning.oreilly.com/library/cover/9781492032632/250w/)\n",
    "* https://www.oreilly.com/library/view/hands-on-machine-learning/9781492032632/\n",
    "\n",
    "Aah! Just the meme I needed!\n",
    "![](https://pics.esmemes.com/albert-einstein-insanity-is-doing-the-same-thing-over-and-61232420.png)"
   ]
  },
  {
   "cell_type": "code",
   "execution_count": null,
   "metadata": {},
   "outputs": [],
   "source": []
  }
 ],
 "metadata": {
  "kernelspec": {
   "display_name": "Python 3.8.1 32-bit",
   "language": "python",
   "name": "python38132bit93aab49dff954651a4c1e4402da878fd"
  },
  "language_info": {
   "codemirror_mode": {
    "name": "ipython",
    "version": 3
   },
   "file_extension": ".py",
   "mimetype": "text/x-python",
   "name": "python",
   "nbconvert_exporter": "python",
   "pygments_lexer": "ipython3",
   "version": "3.8.1"
  }
 },
 "nbformat": 4,
 "nbformat_minor": 4
}
