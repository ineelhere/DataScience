{
 "cells": [
  {
   "cell_type": "markdown",
   "metadata": {},
   "source": [
    "# Improving Machine Learning Models\n",
    "<br>\n",
    "\n",
    "![](https://i.pinimg.com/originals/76/b3/9e/76b39e4a15127c0ba8320997f18b5810.gif)\n",
    "<br>\n",
    "The first predictions we make with a model are generally referred to as **baseline predictions**. <br>The same goes with the first evaluation metrics we get. These are generally referred to as **baseline metrics**. <br>\n",
    "\n",
    "Our next goal is to **improve upon these baseline metrics**. <br>\n",
    "\n",
    "Two of the main methods to improve baseline metrics are from a data perspective and a model perspective.<br>\n",
    "\n",
    "**From a data perspective :** <br>\n",
    "\n",
    "* `Could we collect more data?`<br> In machine learning, more data is generally better, as it gives a model more opportunities to learn patterns.<br>\n",
    "* `Could we improve our data?`<br> This could mean filling in misisng values or finding a better encoding (turning things into numbers) strategy.\n",
    "\n",
    "**From a model perspective :** \n",
    "<br>\n",
    "\n",
    "* `Is there a better model we could use?` <br>If we've started out with a simple model, could we use a more complex one? (we saw an example of this when looking at the Scikit-Learn machine learning map, ensemble methods are generally considered more complex models)\n",
    "* `Could we improve the current model?` <br>If the model we're using performs well straight out of the box, can the hyperparameters be tuned to make it even better?\n",
    "<br><br>**Note:** `Patterns in data are also often referred to as data parameters`. <br>The difference between parameters and hyperparameters is-<br>\n",
    "* a machine learning model seeks to find parameters in data on its own, where as, \n",
    "* hyperparameters are settings on a model which a user (we) can adjust.\n",
    "\n",
    "<br>Since we have two existing datasets, we'll come at exploration from a model perspective.<br>\n",
    "\n",
    "More specifically, we'll look at how we could improve our RandomForestClassifier and RandomForestRegressor models through **hyperparameter tuning**.\n",
    "\n",
    "**`Now, What are hyperparameters?`**\n"
   ]
  },
  {
   "cell_type": "code",
   "execution_count": null,
   "metadata": {},
   "outputs": [],
   "source": []
  }
 ],
 "metadata": {
  "kernelspec": {
   "display_name": "Python 3.8.1 32-bit",
   "language": "python",
   "name": "python38132bit93aab49dff954651a4c1e4402da878fd"
  },
  "language_info": {
   "codemirror_mode": {
    "name": "ipython",
    "version": 3
   },
   "file_extension": ".py",
   "mimetype": "text/x-python",
   "name": "python",
   "nbconvert_exporter": "python",
   "pygments_lexer": "ipython3",
   "version": "3.8.1"
  },
  "latex_envs": {
   "LaTeX_envs_menu_present": true,
   "autoclose": true,
   "autocomplete": true,
   "bibliofile": "biblio.bib",
   "cite_by": "apalike",
   "current_citInitial": 1,
   "eqLabelWithNumbers": true,
   "eqNumInitial": 1,
   "hotkeys": {
    "equation": "Ctrl-E",
    "itemize": "Ctrl-I"
   },
   "labels_anchors": false,
   "latex_user_defs": false,
   "report_style_numbering": false,
   "user_envs_cfg": false
  }
 },
 "nbformat": 4,
 "nbformat_minor": 4
}
